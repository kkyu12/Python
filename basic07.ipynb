{
 "cells": [
  {
   "cell_type": "code",
   "execution_count": 2,
   "id": "bc643950",
   "metadata": {},
   "outputs": [
    {
     "name": "stdout",
     "output_type": "stream",
     "text": [
      "별10개 찍기\n",
      "**********\n",
      "\n",
      "별3개 찍기\n",
      "***\n",
      "\n",
      "별5개 찍기\n",
      "*****\n",
      "\n"
     ]
    }
   ],
   "source": [
    "print(\"별10개 찍기\") # 출력\n",
    "for i in range(10): # 0에서 9까지 1씩 증가하는 반복문\n",
    "    print(\"*\",end=\"\") # 별 찍기\n",
    "print(\"\\n\") # 줄 바꿈\n",
    "\n",
    "print(\"별3개 찍기\") # 출력\n",
    "for i in range(3): # 0에서 2까지 1씩 증가하는 반복문\n",
    "    print(\"*\",end=\"\") # 별 찍기\n",
    "print(\"\\n\") # 줄 바꿈\n",
    "\n",
    "print(\"별5개 찍기\") # 출력\n",
    "for i in range(5): # 0에서 4까지 1씩 증가하는 반복문\n",
    "    print(\"*\",end=\"\") # 별 찍기\n",
    "print(\"\\n\") # 줄 바꿈"
   ]
  },
  {
   "cell_type": "code",
   "execution_count": 4,
   "id": "3e93390b",
   "metadata": {},
   "outputs": [
    {
     "name": "stdout",
     "output_type": "stream",
     "text": [
      "별10개 찍기\n",
      "**********\n",
      "\n",
      "별3개 찍기\n",
      "***\n",
      "\n",
      "별5개 찍기\n",
      "*****\n",
      "\n"
     ]
    }
   ],
   "source": [
    "def starprint(n): # 별찍는 함수 선언 n이 인수 별을 몇 개 찍을 건가\n",
    "    for i in range(n): # 0에서 n까지 1씩 증가하는 반복문\n",
    "        print(\"*\",end=\"\") # 별 찍기\n",
    "    print(\"\\n\") # 줄 바꿈\n",
    "\n",
    "print(\"별10개 찍기\");starprint(10) # 함수를 이용하여 별 10개 찍기\n",
    "print(\"별3개 찍기\");starprint(3) # 함수를 이용하여 별 3개 찍기\n",
    "print(\"별5개 찍기\");starprint(5) # 함수를 이용하여 별 5개 찍기"
   ]
  },
  {
   "cell_type": "code",
   "execution_count": 5,
   "id": "b72dc90b",
   "metadata": {},
   "outputs": [
    {
     "name": "stdout",
     "output_type": "stream",
     "text": [
      "1~10까지의 합: 55\n",
      "1~1000까지의 합: 500500\n",
      "1~10000까지의 합: 50005000\n"
     ]
    }
   ],
   "source": [
    "def intsum(n): # 1에서 n까지의 합을 구하는 함수 선언\n",
    "    sum=0; # 변수 선언과 초기화\n",
    "    for i in range(1,n+1,1): # 1에서부터 n까지 1씩 증가하는 반복문\n",
    "        sum+=i # 합을 계속 더하기\n",
    "    return sum # 변수 sum을 반환\n",
    "\n",
    "print(\"1~10까지의 합:\",intsum(10)) # 1에서 10까지의 합\n",
    "print(\"1~1000까지의 합:\",intsum(1000)) # 1에서 1000까지의 합\n",
    "print(\"1~10000까지의 합:\",intsum(10000)) # 1에서 10000까지의 합"
   ]
  },
  {
   "cell_type": "code",
   "execution_count": 6,
   "id": "699c4a4a",
   "metadata": {},
   "outputs": [
    {
     "name": "stdout",
     "output_type": "stream",
     "text": [
      "1~10까지의 합: 55\n",
      "100~1000까지의 합: 495550\n",
      "5000~10000까지의 합: 37507500\n"
     ]
    }
   ],
   "source": [
    "def intsum(x,y): # x에서 y까지의 합을 구하는 함수 선언 // 인수는 한 개 뿐 아니라 여러 개 가능\n",
    "    sum=0; # 변수 선언과 초기화     \n",
    "    for i in range(x,y+1,1): # x에서 y까지 1씩 증가하는 반복문\n",
    "        sum+=i # 합을 계속 더하기\n",
    "    return sum # 변수 sum을 반환\n",
    "\n",
    "print(\"1~10까지의 합:\",intsum(1,10)) # 1에서 10까지의 합\n",
    "print(\"100~1000까지의 합:\",intsum(100,1000)) # 100에서 1000까지의 합\n",
    "print(\"5000~10000까지의 합:\",intsum(5000,10000)) # 5000에서 10000까지의 합"
   ]
  },
  {
   "cell_type": "code",
   "execution_count": 7,
   "id": "9c562517",
   "metadata": {},
   "outputs": [
    {
     "name": "stdout",
     "output_type": "stream",
     "text": [
      "1~10까지의 합에 5를 더함: 60\n",
      "100~1000까지의 합에 33을 곱함: 16353150\n"
     ]
    }
   ],
   "source": [
    "# return 값을 배정하면 함수의 최종결과를 가진 변수와 같이 취급됨\n",
    "# return 값이 없다면 함수 내 블록을 실행하는 것으로 끝남\n",
    "def intsum(x,y): # x에서 y까지의 합을 구하는 함수 선언\n",
    "    sum=0; # 변수 선언과 초기화\n",
    "    for i in range(x,y+1,1): # x에서 y까지 1씩 증가하는 반복문\n",
    "        sum+=i # 합을 계속 더하기\n",
    "    return sum # 변수 sum을 반환\n",
    "\n",
    "print(\"1~10까지의 합에 5를 더함:\",intsum(1,10)+5) # 1에서 10까지의 합에 5를 더함\n",
    "i=intsum(100,1000)*33 # 100에서 1000까지의 합에 33을 곱합\n",
    "print(\"100~1000까지의 합에 33을 곱함:\",i) # 출력"
   ]
  },
  {
   "cell_type": "code",
   "execution_count": 14,
   "id": "86599700",
   "metadata": {},
   "outputs": [
    {
     "name": "stdout",
     "output_type": "stream",
     "text": [
      "함수내부에서 sum값을 출력: 495550\n",
      "100~1000까지의 합: None\n",
      "100~1000까지의 합에 33을 곱함: None\n"
     ]
    }
   ],
   "source": [
    "# return값이 없는 예제\n",
    "def intsum(x,y): # x에서 y까지의 합을 구하는 함수 선언\n",
    "    sum=0; # 변수 선언과 초기화\n",
    "    for i in range(x,y+1,1): # x에서 y까지 1씩 증가하는 반복문\n",
    "        sum+=i # 합을 계속 더하기\n",
    "    print(\"함수내부에서 sum값을 출력:\",sum) # 반복문이 끝난 후 함수 내부에서 sum값을 출력\n",
    "\n",
    "i=intsum(100,1000) # i라는 변수에 100에서 1000까지의 합을 계산한 값을 대입\n",
    "print(\"100~1000까지의 합:\",i) # return으로 값을 못 받아서 none이 출력\n",
    "print(\"100~1000까지의 합에 33을 곱함:\",i) # return으로 값을 못 받아서 none이 출력"
   ]
  },
  {
   "cell_type": "code",
   "execution_count": 15,
   "id": "11cad08a",
   "metadata": {},
   "outputs": [],
   "source": [
    "# pass는 아무런 처리가 없는 명령\n",
    "# 프로그램을 코딩할 때 우선 함수만 정의해 놓고 pass 처리 후 추후 내용을 채우면서 개발해 나갈 때 용이함\n",
    "def titleprint(): # 타이틀 출력 함수 선언\n",
    "    pass # 일단 pass로 미루기\n",
    "def itemprint(name,kortotal,engtotal,mathtotal): #중간 성적 부분 출력 함수 선언\n",
    "    pass # 일단 pass로 미루기\n",
    "def tailprint(): # 마지막 부분 출력 함수 선언\n",
    "    pass # 일단 pass로 미루기\n",
    "#데이터 \n",
    "cname=[\"나연\",\"정연\",\"모모\",\"사나\",\"지효\",\"미나\",\"다현\",\"채영\",\"쯔위\"] # 이름 리스트 생성\n",
    "ckor =[ 100,100,90,90,100,80,70,80,100] # 국어 점수 리스트 생성\n",
    "ceng =[ 90,100,100,80,100,70,60,100,100] # 영어 점수 리스트 생성\n",
    "cmat =[ 100,80,100,90,100,90,100,90,100] # 수학 점수 리스트 생성\n",
    "#여기부터 프로그램 \n",
    "titleprint() # 타이틀 출력 함수 사용\n",
    "for i in range(9): # 0에서 8까지 1씩 증가하는 9번 반복문\n",
    "    itemprint(cname[i],ckor[i],ceng[i],cmat[i]) # 내용 출력 함수 사용\n",
    "tailprint() # 마지막 부분 출력 함수 사용\n",
    "# 실행시 에러는 없음"
   ]
  },
  {
   "cell_type": "code",
   "execution_count": 16,
   "id": "4194b891",
   "metadata": {},
   "outputs": [
    {
     "name": "stdout",
     "output_type": "stream",
     "text": [
      "==================================================\n",
      "이름\t국어\t영어\t수학\t총점\t평균\n",
      "==================================================\n",
      "나연 \t 100 \t 90 \t 100 \t 290 \t 96\n",
      "정연 \t 100 \t 100 \t 80 \t 280 \t 93\n",
      "모모 \t 90 \t 100 \t 100 \t 290 \t 96\n",
      "사나 \t 90 \t 80 \t 90 \t 260 \t 86\n",
      "지효 \t 100 \t 100 \t 100 \t 300 \t 100\n",
      "미나 \t 80 \t 70 \t 90 \t 240 \t 80\n",
      "다현 \t 70 \t 60 \t 100 \t 230 \t 76\n",
      "채영 \t 80 \t 100 \t 90 \t 270 \t 90\n",
      "쯔위 \t 100 \t 100 \t 100 \t 300 \t 100\n",
      "==================================================\n",
      "반총점\t 810 \t 800 \t 850 \t 273 \t 91.0\n",
      "==================================================\n"
     ]
    }
   ],
   "source": [
    "# 이후 titleprint(), itemprint(~),tailprint()를 채우면서 프로그램 코딩을 수행함\n",
    "# 하나의 함수만 코딩하고 실행하며 결과가 나왔는지 확인하는 과정을 반복하며 쉽게 코딩을 수행함\n",
    "def titleprint(): # 타이틀 출력 함수 선언\n",
    "    print(\"=\"*50) # 등호 50개 출력\n",
    "    print(\"이름\\t국어\\t영어\\t수학\\t총점\\t평균\") # 제목 출력\n",
    "    print(\"=\"*50) # 등호 50개 출력\n",
    "\n",
    "def itemprint(name,kor,eng,mat): #중간 성적 부분 출력 함수 선언\n",
    "    print(name,\"\\t\",kor,\"\\t\",eng,\"\\t\",mat,\"\\t\",kor+eng+mat,\"\\t\",(kor+eng+mat)//3)\n",
    "# 각각의 이름과 국어점수 영어점수 수학점수와 총점, 평균을 출력 평균 정수로 나오게 계산\n",
    "\n",
    "def tailprint(): # 마지막 부분 출력 함수 선언\n",
    "    totkor=0 # 변수 선언과 초기화\n",
    "    for i in ckor: # 국어 점수 개수만큼 반복문\n",
    "        totkor+=i # 국어 점수의 총합 구하기\n",
    "    toteng=0 # 변수 선언과 초기화\n",
    "    for i in ceng: # 영어 점수 개수만큼 반복문\n",
    "        toteng+=i # 영어 점수의 총합 구하기\n",
    "    totmat=0 # 변수 선언과 초기화\n",
    "    for i in cmat: # 수학 점수 개수만큼 반복문\n",
    "        totmat+=i # 수학 점수의 총합 구하기\n",
    "    print(\"=\"*50) # 등호 50개 출력\n",
    "    print(\"반총점\\t\",totkor,\"\\t\",toteng,\"\\t\",totmat,\"\\t\"\\\n",
    "          ,(totkor+toteng+totmat)//9,\"\\t\",(totkor+toteng+totmat)/3//9) \n",
    "# 각 과목의 총합과 모든 총합, 그에 따른 평균을 출력\n",
    "    print(\"=\"*50) # 등호 50개 출력\n",
    "\n",
    "titleprint() # 타이틀 출력 함수 사용\n",
    "for i in range(9): # 0에서 8까지 1씩 증가하는 9번 반복문\n",
    "    itemprint(cname[i],ckor[i],ceng[i],cmat[i]) # 내용 출력 함수 사용\n",
    "tailprint() # 마지막 부분 출력 함수 사용"
   ]
  },
  {
   "cell_type": "code",
   "execution_count": 17,
   "id": "cc1673c7",
   "metadata": {},
   "outputs": [
    {
     "name": "stdout",
     "output_type": "stream",
     "text": [
      "case 1: 1\n",
      "case 2: 7\n",
      "case 3: 9505\n"
     ]
    }
   ],
   "source": [
    "# 가변인수 // 인수의 개수가 여러 개를 보낼 때 사용 // 인수 명에 *을 붙여서 전달\n",
    "def sumsum(*num): # num인수에 오는 값을 다 더 하는 함수 선언\n",
    "    sum=0 # 변수 선언과 초기화\n",
    "    for i in num: # 인수 개수 만큼 반복문\n",
    "        sum+=i # 인수들의 총합 계산\n",
    "    return sum # 합을 반환\n",
    "\n",
    "print(\"case 1:\", sumsum(1)) # 결과 1\n",
    "print(\"case 2:\", sumsum(1,2,4)) # 결과 7 원인 1+2+4\n",
    "print(\"case 3:\", sumsum(1,2,34,567,8901)) # 결과 9505 원인 1+2+34+567+8901"
   ]
  },
  {
   "cell_type": "code",
   "execution_count": 19,
   "id": "dff1f195",
   "metadata": {},
   "outputs": [
    {
     "name": "stdout",
     "output_type": "stream",
     "text": [
      "case 1: 1\n",
      "case 2: 7\n",
      "case 3: 9505\n"
     ]
    }
   ],
   "source": [
    "# 인수는 1개이며 해당 인수가 리스트 형 별 하나가 큰 차이다\n",
    "def sumsum(num): # 인수 num의 합을 계산하는 함수 선언\n",
    "    sum=0 # 변수 선언과 초기화\n",
    "    for i in num: # 인수 개수 만큼 반복문\n",
    "        sum+=i # 인수들의 총합 계산\n",
    "    return sum # 합을 반환\n",
    "\n",
    "print(\"case 1:\", sumsum([1])) # 결과 1\n",
    "print(\"case 2:\", sumsum([1,2,4])) # 결과 7\n",
    "print(\"case 3:\", sumsum([1,2,34,567,8901])) # 결과 9505"
   ]
  },
  {
   "cell_type": "code",
   "execution_count": 20,
   "id": "aa0b44e0",
   "metadata": {},
   "outputs": [
    {
     "name": "stdout",
     "output_type": "stream",
     "text": [
      "case 1: 55\n",
      "case 2: 3825\n",
      "case 3: 495550\n"
     ]
    }
   ],
   "source": [
    "# 인수에 디폴트(default)값을 정의하면 해당 인수를 사용하지 않고 함수의 값을 전달할 경우, \n",
    "# 해당 인수는 디폴트 값을 가지게 됨\n",
    "def defaultest (start,end=1000,step=1): # 합을 구하는 함수 설정\n",
    "    sum=0 # 변수 선언과 초기화\n",
    "    for i in range(start,end+1,step): # start부터 end까지 step만큼 늘어나는 반복문\n",
    "        sum+=i # 합을 구하기\n",
    "    return sum # 합을 반환\n",
    "\n",
    "print(\"case 1:\", defaultest(0,10,1)) # 0에서 10까지 1씩 증가하는 등차수열의 합\n",
    "#인수 하나를 생략시 맨뒤 step값이 1로 기본값처리 \n",
    "print(\"case 2:\", defaultest(50,100)) # 50에서 100까지 1씩 증가하는 등차수열의 합\n",
    "#인수 하나를 생략시 맨뒤 step값이 1, end 값이 1000으로 기본값처리 \n",
    "print(\"case 3:\", defaultest(100)) # 100부터 1000까지 1씩 증가하는 등차수열의 합"
   ]
  },
  {
   "cell_type": "code",
   "execution_count": 21,
   "id": "b8acb143",
   "metadata": {
    "scrolled": true
   },
   "outputs": [
    {
     "name": "stdout",
     "output_type": "stream",
     "text": [
      "case 1: 55\n",
      "case 2: 55\n",
      "case 3: 55\n",
      "case 4: 55\n",
      "case 5: 55\n"
     ]
    }
   ],
   "source": [
    "# 키워드 인수 : 함수 호출 시 인수 이름을 명시하여 함수를 실행함\n",
    "# 인수 전달 순서를 변경 가능함\n",
    "def defaultest (start,end=1000,step=1): # 합을 구하는 함수 설정\n",
    "    sum=0 # 변수 선언과 초기화\n",
    "    for i in range(start,end+1,step): # start부터 end까지 step만큼 늘어나는 반복문\n",
    "        sum+=i # 합을 구하기\n",
    "    return sum # 합을 반환\n",
    "\n",
    "print(\"case 1:\", defaultest(0,10,1)) # 0에서 10까지 1씩 증가하는 등차수열의 합\n",
    "print(\"case 2:\", defaultest(start=0,end=10,step=1)) # 0에서 10까지 1씩 증가하는 등차수열의 합\n",
    "#키워드 지정시 순서가 상관없음 \n",
    "print(\"case 3:\", defaultest(step=1,end=10,start=0)) # 0에서 10까지 1씩 증가하는 등차수열의 합\n",
    "#맨뒤로 부터만 키워드 인수를 사용하고 앞은 일반인수 \n",
    "print(\"case 4:\", defaultest(0,10,step=1)) # 0에서 10까지 1씩 증가하는 등차수열의 합\n",
    "#맨뒤로 부터만 키워드 인수를 사용하고 앞은 일반인수 \n",
    "print(\"case 5:\", defaultest(0,step=1,end=10)) # 0에서 10까지 1씩 증가하는 등차수열의 합"
   ]
  },
  {
   "cell_type": "code",
   "execution_count": 22,
   "id": "d48ef7f0",
   "metadata": {},
   "outputs": [],
   "source": [
    "# 디폴트 인수와 마찬가지로 뒤에서부터 키워드 인수를 사용하여야 함\n",
    "#print(\"error1:\", defaultest(0,step=1,10)) # 에러 발생\n",
    "#print(\"error2:\", defaultest(start=0,step=1,10)) # 에러 발생"
   ]
  },
  {
   "cell_type": "code",
   "execution_count": 23,
   "id": "f11a2cf4",
   "metadata": {},
   "outputs": [
    {
     "name": "stdout",
     "output_type": "stream",
     "text": [
      "case 1: 55\n",
      "case 2: 5005\n"
     ]
    }
   ],
   "source": [
    "# 키워드 가변 인수 : 인수전달 개수가 가변 이며, 변수의 명칭을 키워드로 전달하며 인수 전달 개수도 가변인 경우\n",
    "# 함수 호출 시 키워드 인수 방식으로 호출 하여야 함 / 별 두개(**)로 정의\n",
    "def testfunc (**args): # 키워드 가변 인수를 가지고 합을 구하는 함수 선언\n",
    "    start=args[\"start\"] # 키워드 가변 \n",
    "    end=args[\"end\"] # 키워드 가변 \n",
    "    step=args[\"step\"] # 키워드 가변 \n",
    "    sum=0 # 변수 선언과 초기화\n",
    "    for i in range(start,end+1,step): # start부터 end까지 step만큼 늘어나는 반복문\n",
    "        sum+=i # 합을 구하기\n",
    "    return sum # 합을 반환\n",
    "\n",
    "print(\"case 1:\", testfunc(start=0,end=10,step=1)) # 0에서 10까지 1씩 증가하는 등차수열의 합\n",
    "print(\"case 2:\", testfunc(end=100,step=1,start=10)) # 10에서 100까지 1씩 증가하는 등차수열의 합"
   ]
  },
  {
   "cell_type": "code",
   "execution_count": 1,
   "id": "44a40eb2",
   "metadata": {},
   "outputs": [
    {
     "name": "stdout",
     "output_type": "stream",
     "text": [
      "==============================\n",
      "***********&&&&&&&&&&&===========\n",
      "\n",
      "==============================\n",
      "   ********   ????????   ========   %%%%%%%%\n",
      "\n"
     ]
    }
   ],
   "source": [
    "def testfunc (*s,**args): # 가변, 키워드 가변을 섞어서 사용하는것도 가능\n",
    "    start=args[\"start\"] # 키워드 가변\n",
    "    end=args[\"end\"]     # 키워드 가변\n",
    "    step=args[\"step\"]   # 키워드 가변\n",
    "    for c in s: # s 만큼 반복되는 반복문\n",
    "        print(\" \"*start,end=\"\") # start만큼의 공백, end에 공백\n",
    "        for i in range(start,end+1,step): # start시작해서 end끝나고 step만큼 증가하는 반복문\n",
    "            print(c,end=\"\") # c를 출력\n",
    "    print(\"\\n\") # 줄바꿈\n",
    "\n",
    "print(\"=\"*30) # 등호 30개 출력\n",
    "testfunc(\"*\",\"&\",\"=\",start=0,end=10,step=1) # 함수 사용\n",
    "print(\"=\"*30) # 등호 30개 출력\n",
    "testfunc(\"*\",\"?\",\"=\",\"%\",start=3,end=10,step=1) # 함수사용"
   ]
  },
  {
   "cell_type": "code",
   "execution_count": 24,
   "id": "40548ec1",
   "metadata": {},
   "outputs": [
    {
     "ename": "NameError",
     "evalue": "name 'a' is not defined",
     "output_type": "error",
     "traceback": [
      "\u001b[1;31m---------------------------------------------------------------------------\u001b[0m",
      "\u001b[1;31mNameError\u001b[0m                                 Traceback (most recent call last)",
      "Input \u001b[1;32mIn [24]\u001b[0m, in \u001b[0;36m<cell line: 6>\u001b[1;34m()\u001b[0m\n\u001b[0;32m      3\u001b[0m     a\u001b[38;5;241m=\u001b[39m\u001b[38;5;241m1\u001b[39m\n\u001b[0;32m      5\u001b[0m test()\n\u001b[1;32m----> 6\u001b[0m \u001b[38;5;28mprint\u001b[39m(\u001b[43ma\u001b[49m)\n",
      "\u001b[1;31mNameError\u001b[0m: name 'a' is not defined"
     ]
    }
   ],
   "source": [
    "# 함수에서 사용된 지역변수는 다른 함수나 메인 에서 해당 변수를 가져다 사용할 수 없음 \n",
    "def test(): \n",
    "    a=1\n",
    "    \n",
    "test()\n",
    "print(a) # 에러발생"
   ]
  },
  {
   "cell_type": "code",
   "execution_count": 26,
   "id": "2547541c",
   "metadata": {},
   "outputs": [
    {
     "name": "stdout",
     "output_type": "stream",
     "text": [
      "testf1: 1\n",
      "testf2: 즐거운 실습\n",
      "testf3: 3.141592\n",
      "랄랄라\n"
     ]
    }
   ],
   "source": [
    "# testf1(), testf2(), test3(), main에 선언된 a변수는 이름만 a로 같을 뿐 전혀 다른 변수임\n",
    "def testf1(): # 함수 선언\n",
    "    a=1 # 변수선언과 값 대입\n",
    "    print(\"testf1:\",a) # 출력\n",
    "def testf2(): # 함수 선언\n",
    "    a=\"즐거운 실습\" # 변수선언과 값 대입\n",
    "    print(\"testf2:\",a) # 출력\n",
    "def testf3(): # 함수 선언\n",
    "    a=3.141592 # 변수선언과 값 대입\n",
    "    print(\"testf3:\",a) # 출력\n",
    "    \n",
    "testf1() # 함수 testf1 실행\n",
    "testf2() # 함수 testf2 실행\n",
    "testf3() # 함수 testf3 실행\n",
    "a=\"랄랄라\" # 변수 선언과 값 대입\n",
    "print(a) # a 출력"
   ]
  },
  {
   "cell_type": "code",
   "execution_count": 27,
   "id": "cc0efc61",
   "metadata": {},
   "outputs": [
    {
     "name": "stdout",
     "output_type": "stream",
     "text": [
      "testf1: 현재    달러환율은    1달러당     1021 원이며\n",
      "testf1: 미화    100달러는    102100 원    입니다\n",
      "testf1: 현재    달러환율은    1달러당     1120 원이며\n",
      "testf1: 미화    100달러는    112000 원    입니다\n",
      "testf2: 현재    달러환율은    1달러당     1011 원이며\n",
      "testf2: 미화    100달러는    101100 원    입니다\n",
      "testf1: 현재    달러환율은    1달러당     1120 원이며\n",
      "testf1: 미화    100달러는    112000 원    입니다\n"
     ]
    }
   ],
   "source": [
    "# 전역변수는 메인에서만 변경 가능하며 함수에서는 변경하지 않는 상수로만 사용됨 // 변경 시 지역변수가 됨\n",
    "# 예제 내 case1에서 testf2 함수내 exrate가 지역변수로 testf2에서만 작용하고 \n",
    "# 함수를 빠져 나와 case2에 testf1을 만나면 기존 지역변수 exrate는 의미가 없이 전역변수 exrate가 사용됨\n",
    "def testf1(): # 함수 만들기\n",
    "    print(\"testf1: 현재    달러환율은    1달러당    \",exrate,\"원이며\") \n",
    "    print(\"testf1: 미화    100달러는   \",100*exrate,\"원    입니다\")\n",
    "def testf2(): # 함수 만들기\n",
    "    exrate=1011 # 지역 변수 선언과 1011 값 대입\n",
    "    print(\"testf2: 현재    달러환율은    1달러당    \",exrate,\"원이며\") \n",
    "    print(\"testf2: 미화    100달러는   \",100*exrate,\"원    입니다\")\n",
    "\n",
    "exrate=1021 # 전역변수 선언과 1021 값 대입\n",
    "testf1() # 함수 사용\n",
    "exrate=1120 # 전역변수 선언과 1120 값 대입\n",
    "testf1() # 함수 사용\n",
    "\n",
    "testf2() #case 1\n",
    "testf1() #case 2"
   ]
  },
  {
   "cell_type": "code",
   "execution_count": 33,
   "id": "b82e41b5",
   "metadata": {},
   "outputs": [
    {
     "name": "stdout",
     "output_type": "stream",
     "text": [
      "Help on function testf1 in module __main__:\n",
      "\n",
      "testf1()\n",
      "    이 함수는 홍필두가 최선을 다하여 멋지게 만든 함수\n",
      "    인수 값에 숫자만큼 1부터 해당 값을 더한 값을 출력해 준다\n",
      "\n"
     ]
    }
   ],
   "source": [
    "def testf1(): \n",
    "    \"\"\"\n",
    "    이 함수는 홍필두가 최선을 다하여 멋지게 만든 함수\n",
    "    인수 값에 숫자만큼 1부터 해당 값을 더한 값을 출력해 준다\n",
    "\"\"\"\n",
    "# 함수에 대하여 주석이나 설명을 기입할 때 docstring을 사용\n",
    "# 함수 맨 앞에 세 개의 따옴표(\"\"\")로 설명을 시작하고 끝나는 시점에 세 개의 따옴표를 사용\n",
    "    sum=0 # 변수 선언과 초기화\n",
    "    for i in range(n+1): # 0에서부터 n까지 1씩 증가하는 반복문\n",
    "        sum+=i # 0에서 n까지의 합을 구함\n",
    "    print(\"합:\",sum) # 결과값을 출력\n",
    "# 프로그램에서(특히 대화식 모드) 해당함수가 궁금할 때 help(함수명)사용\n",
    "help(testf1)"
   ]
  },
  {
   "cell_type": "code",
   "execution_count": null,
   "id": "90fd8a91",
   "metadata": {},
   "outputs": [],
   "source": []
  }
 ],
 "metadata": {
  "kernelspec": {
   "display_name": "Python 3 (ipykernel)",
   "language": "python",
   "name": "python3"
  },
  "language_info": {
   "codemirror_mode": {
    "name": "ipython",
    "version": 3
   },
   "file_extension": ".py",
   "mimetype": "text/x-python",
   "name": "python",
   "nbconvert_exporter": "python",
   "pygments_lexer": "ipython3",
   "version": "3.8.8rc1"
  }
 },
 "nbformat": 4,
 "nbformat_minor": 5
}
