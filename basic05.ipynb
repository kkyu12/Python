{
 "cells": [
  {
   "cell_type": "code",
   "execution_count": 3,
   "id": "165852e2",
   "metadata": {},
   "outputs": [
    {
     "name": "stdout",
     "output_type": "stream",
     "text": [
      "이름이 뭐니?홍길동\n"
     ]
    }
   ],
   "source": [
    "# 조건문 실습1 (if)\n",
    "name = input(\"이름이 뭐니?\") # input함수를 사용하여 값을 입력받음\n",
    "if name == \"홍필두\" : # 만약 받은 값이 홍필두 라면\n",
    "    print(\"주인님 어서오십시요\") # 주인님 어서오십시요를 출력"
   ]
  },
  {
   "cell_type": "code",
   "execution_count": 4,
   "id": "a099f4fa",
   "metadata": {},
   "outputs": [
    {
     "name": "stdout",
     "output_type": "stream",
     "text": [
      "이름이 뭐니?홍필두\n",
      "주인님 어서오십시요\n"
     ]
    }
   ],
   "source": [
    "# 조건문 실습1 (if)\n",
    "name = input(\"이름이 뭐니?\") # input함수를 사용하여 값을 입력받음\n",
    "if name == \"홍필두\" : # 만약 받은 값이 홍필두 라면\n",
    "    print(\"주인님 어서오십시요\") # 주인님 어서오십시요를 출력"
   ]
  },
  {
   "cell_type": "code",
   "execution_count": 6,
   "id": "c88c7fea",
   "metadata": {},
   "outputs": [
    {
     "name": "stdout",
     "output_type": "stream",
     "text": [
      "성별이 어떻게 되나요?남자\n",
      "넥타이가 멋있습니다.\n"
     ]
    }
   ],
   "source": [
    "# 조건문 실습2 (if-else)\n",
    "name = input(\"성별이 어떻게 되나요?\") # input함수를 사용하여 값을 입력받음\n",
    "if name == \"남자\" : # 만약 받은 값이 남자라면\n",
    "    print(\"넥타이가 멋있습니다.\") # 넥타이가 멋있습니다를 출력\n",
    "else: # 남자가 아니라면\n",
    "    print(\"립스틱색이 예쁘네요.\") # 립스틱색이 예쁘네요를 출력"
   ]
  },
  {
   "cell_type": "code",
   "execution_count": 7,
   "id": "8ceaaeab",
   "metadata": {},
   "outputs": [
    {
     "name": "stdout",
     "output_type": "stream",
     "text": [
      "성별이 어떻게 되나요?여자\n",
      "립스틱색이 예쁘네요.\n"
     ]
    }
   ],
   "source": [
    "# 조건문 실습2 (if-else)\n",
    "name = input(\"성별이 어떻게 되나요?\") # input함수를 사용하여 값을 입력받음\n",
    "if name == \"남자\" : # 만약 받은 값이 남자라면\n",
    "    print(\"넥타이가 멋있습니다.\") # 넥타이가 멋있습니다를 출력\n",
    "else: # 남자가 아니라면\n",
    "    print(\"립스틱색이 예쁘네요.\") # 립스틱색이 예쁘네요를 출력"
   ]
  },
  {
   "cell_type": "code",
   "execution_count": 8,
   "id": "b65d5535",
   "metadata": {},
   "outputs": [
    {
     "name": "stdout",
     "output_type": "stream",
     "text": [
      "성별이 어떻게 되나요?몰라\n",
      "립스틱색이 예쁘네요.\n"
     ]
    }
   ],
   "source": [
    "# 조건문 실습2 (if-else)\n",
    "name = input(\"성별이 어떻게 되나요?\") # input함수를 사용하여 값을 입력받음\n",
    "if name == \"남자\" : # 만약 받은 값이 남자라면\n",
    "    print(\"넥타이가 멋있습니다.\") # 넥타이가 멋있습니다를 출력\n",
    "else: # 남자가 아니라면\n",
    "    print(\"립스틱색이 예쁘네요.\") # 립스틱색이 예쁘네요를 출력"
   ]
  },
  {
   "cell_type": "code",
   "execution_count": 9,
   "id": "8c894114",
   "metadata": {},
   "outputs": [
    {
     "name": "stdout",
     "output_type": "stream",
     "text": [
      "얼마를 구매하셨나요?1000\n",
      "면세입니다.\n"
     ]
    }
   ],
   "source": [
    "# 조건문 실습3 (수치 비교)\n",
    "price = int(input(\"얼마를 구매하셨나요?\")) # input함수를 사용하여 값을 입력받음\n",
    "if price < 10000 : # 입력받은 값이 10000보다 작다면\n",
    "    print(\"면세입니다.\") # 면세입니다를 출력\n",
    "else: # 10000이상이라면\n",
    "    print(\"세금은 10%입니다.\") # 세금은 10%입니다를 출력"
   ]
  },
  {
   "cell_type": "code",
   "execution_count": 10,
   "id": "c0a8cebc",
   "metadata": {},
   "outputs": [
    {
     "name": "stdout",
     "output_type": "stream",
     "text": [
      "얼마를 구매하셨나요?100000\n",
      "세금은 10%입니다.\n"
     ]
    }
   ],
   "source": [
    "# 조건문 실습3 (수치 비교)\n",
    "price = int(input(\"얼마를 구매하셨나요?\")) # input함수를 사용하여 값을 입력받음\n",
    "if price < 10000 : # 입력받은 값이 10000보다 작다면\n",
    "    print(\"면세입니다.\") # 면세입니다를 출력\n",
    "else: # 10000이상이라면\n",
    "    print(\"세금은 10%입니다.\") # 세금은 10%입니다를 출력"
   ]
  },
  {
   "cell_type": "code",
   "execution_count": 11,
   "id": "1ecb9c45",
   "metadata": {},
   "outputs": [
    {
     "name": "stdout",
     "output_type": "stream",
     "text": [
      "얼마를 구매하셨나요?100원\n"
     ]
    },
    {
     "ename": "ValueError",
     "evalue": "invalid literal for int() with base 10: '100원'",
     "output_type": "error",
     "traceback": [
      "\u001b[1;31m---------------------------------------------------------------------------\u001b[0m",
      "\u001b[1;31mValueError\u001b[0m                                Traceback (most recent call last)",
      "Input \u001b[1;32mIn [11]\u001b[0m, in \u001b[0;36m<cell line: 2>\u001b[1;34m()\u001b[0m\n\u001b[0;32m      1\u001b[0m \u001b[38;5;66;03m# 조건문 실습3 (수치 비교)\u001b[39;00m\n\u001b[1;32m----> 2\u001b[0m price \u001b[38;5;241m=\u001b[39m \u001b[38;5;28;43mint\u001b[39;49m\u001b[43m(\u001b[49m\u001b[38;5;28;43minput\u001b[39;49m\u001b[43m(\u001b[49m\u001b[38;5;124;43m\"\u001b[39;49m\u001b[38;5;124;43m얼마를 구매하셨나요?\u001b[39;49m\u001b[38;5;124;43m\"\u001b[39;49m\u001b[43m)\u001b[49m\u001b[43m)\u001b[49m \u001b[38;5;66;03m# input함수를 사용하여 값을 입력받음\u001b[39;00m\n\u001b[0;32m      3\u001b[0m \u001b[38;5;28;01mif\u001b[39;00m price \u001b[38;5;241m<\u001b[39m \u001b[38;5;241m10000\u001b[39m : \u001b[38;5;66;03m# 입력받은 값이 10000보다 작다면\u001b[39;00m\n\u001b[0;32m      4\u001b[0m     \u001b[38;5;28mprint\u001b[39m(\u001b[38;5;124m\"\u001b[39m\u001b[38;5;124m면세입니다.\u001b[39m\u001b[38;5;124m\"\u001b[39m) \u001b[38;5;66;03m# 면세입니다를 출력\u001b[39;00m\n",
      "\u001b[1;31mValueError\u001b[0m: invalid literal for int() with base 10: '100원'"
     ]
    }
   ],
   "source": [
    "# 조건문 실습3 (수치 비교)\n",
    "price = int(input(\"얼마를 구매하셨나요?\")) # input함수를 사용하여 값을 입력받음\n",
    "if price < 10000 : # 입력받은 값이 10000보다 작다면\n",
    "    print(\"면세입니다.\") # 면세입니다를 출력\n",
    "else: # 10000이상이라면\n",
    "    print(\"세금은 10%입니다.\") # 세금은 10%입니다를 출력"
   ]
  },
  {
   "cell_type": "code",
   "execution_count": 12,
   "id": "681c724f",
   "metadata": {
    "scrolled": false
   },
   "outputs": [
    {
     "name": "stdout",
     "output_type": "stream",
     "text": [
      "a는 100입니다\n",
      "a는 100이상입니다\n"
     ]
    }
   ],
   "source": [
    "# 간단한 비교 연산자 실습1 (수치 비교)\n",
    "a=100 # a라는 변수에 100 을 대입\n",
    "if (a==99): print(\"a는 99입니다\") # 만약 a가 99라면 출력\n",
    "if (a==100): print(\"a는 100입니다\") # 만약 a가 100이라면 출력\n",
    "if (a>=100): print(\"a는 100이상입니다\") # 만약 a가 100이상이라면 출력\n",
    "if (a<100): print(\"a는 100미만입니다\") # 만약 a가 100미만이라면 출력"
   ]
  },
  {
   "cell_type": "code",
   "execution_count": 13,
   "id": "6766c848",
   "metadata": {},
   "outputs": [
    {
     "name": "stdout",
     "output_type": "stream",
     "text": [
      "abc이다\n",
      "abc보다 큰문자이다\n"
     ]
    }
   ],
   "source": [
    "# 간단한 비교 연산자 실습2 (문자 비교) 정렬시 크기 비교 가능\n",
    "a=\"abc\" # a라는 변수에 \"abc\" 을 대입\n",
    "if(a == \"abc\"): print(\"abc이다\") # 만약 abc라면 출력\n",
    "a=\"abc\" # a라는 변수에 \"abc\" 을 대입\n",
    "if(a > \"abc\"): print(\"abc보다 큰문자이다\") # 만약 abc보다 큰 문자라면 출력\n",
    "a=\"abd\" # a라는 변수에 \"abd\" 을 대입\n",
    "if(a > \"abc\"): print(\"abc보다 큰문자이다\") # 만약 abc보다 큰 문자라면 출력\n",
    "a=\"abb\" # a라는 변수에 \"abb\" 을 대입\n",
    "if(a > \"abc\"): print(\"abc보다 큰문자이다\") # 만약 abc보다 큰 문자라면 출력"
   ]
  },
  {
   "cell_type": "code",
   "execution_count": 14,
   "id": "57a6c3f3",
   "metadata": {},
   "outputs": [
    {
     "name": "stdout",
     "output_type": "stream",
     "text": [
      "점수를 입력하셔요?88\n",
      "학점은 B입니다.\n"
     ]
    }
   ],
   "source": [
    "# 논리 연산자를 이용한 학점 판단\n",
    "x = int(input(\"점수를 입력하셔요?\")) # input함수를 사용하여 값을 입력받기\n",
    "if 0 <= x and x < 60 : print(\"학점은 F입니다.\") # 받은 값이 0 ~ 60 미만 일 때 출력\n",
    "if 60 <= x and x < 70 : print(\"학점은 D입니다.\") # 받은 값이 60 ~ 70 미만 일 때 출력\n",
    "if 70 <= x and x < 80 : print(\"학점은 C입니다.\") # 받은 값이 70 ~ 80 미만 일 때 출력\n",
    "if 80 <= x and x < 90 : print(\"학점은 B입니다.\") # 받은 값이 80 ~ 90 미만 일 때 출력\n",
    "if 90 <= x and x <= 100 : print(\"학점은 A입니다.\") # 받은 값이 90 ~ 100 이하 일 때 출력"
   ]
  },
  {
   "cell_type": "code",
   "execution_count": 15,
   "id": "fc955c72",
   "metadata": {},
   "outputs": [
    {
     "name": "stdout",
     "output_type": "stream",
     "text": [
      "점수를 입력하셔요?100\n",
      "학점은 A입니다.\n"
     ]
    }
   ],
   "source": [
    "# 논리 연산자를 이용한 학점 판단\n",
    "x = int(input(\"점수를 입력하셔요?\")) # input함수를 사용하여 값을 입력받기\n",
    "if 0 <= x and x < 60 : print(\"학점은 F입니다.\") # 받은 값이 0 ~ 60 미만 일 때 출력\n",
    "if 60 <= x and x < 70 : print(\"학점은 D입니다.\") # 받은 값이 60 ~ 70 미만 일 때 출력\n",
    "if 70 <= x and x < 80 : print(\"학점은 C입니다.\") # 받은 값이 70 ~ 80 미만 일 때 출력\n",
    "if 80 <= x and x < 90 : print(\"학점은 B입니다.\") # 받은 값이 80 ~ 90 미만 일 때 출력\n",
    "if 90 <= x and x <= 100 : print(\"학점은 A입니다.\") # 받은 값이 90 ~ 100 이하 일 때 출력"
   ]
  },
  {
   "cell_type": "code",
   "execution_count": 16,
   "id": "298e27fd",
   "metadata": {},
   "outputs": [
    {
     "name": "stdout",
     "output_type": "stream",
     "text": [
      "점수를 입력하셔요?44\n",
      "학점은 F입니다.\n"
     ]
    }
   ],
   "source": [
    "# 논리 연산자를 이용한 학점 판단\n",
    "x = int(input(\"점수를 입력하셔요?\")) # input함수를 사용하여 값을 입력받기\n",
    "if 0 <= x and x < 60 : print(\"학점은 F입니다.\") # 받은 값이 0 ~ 60 미만 일 때 출력\n",
    "if 60 <= x and x < 70 : print(\"학점은 D입니다.\") # 받은 값이 60 ~ 70 미만 일 때 출력\n",
    "if 70 <= x and x < 80 : print(\"학점은 C입니다.\") # 받은 값이 70 ~ 80 미만 일 때 출력\n",
    "if 80 <= x and x < 90 : print(\"학점은 B입니다.\") # 받은 값이 80 ~ 90 미만 일 때 출력\n",
    "if 90 <= x and x <= 100 : print(\"학점은 A입니다.\") # 받은 값이 90 ~ 100 이하 일 때 출력"
   ]
  },
  {
   "cell_type": "code",
   "execution_count": 18,
   "id": "f7189395",
   "metadata": {},
   "outputs": [
    {
     "name": "stdout",
     "output_type": "stream",
     "text": [
      "영문 알파벳 한글자를 입력하셔요?a\n",
      "소문자 입니다.\n"
     ]
    }
   ],
   "source": [
    "# 문자열 비교 예시\n",
    "x = input(\"영문 알파벳 한글자를 입력하셔요?\") # input 함수를 이용하여 값을 입력받기\n",
    "if \"a\" <= x and x <= \"z\" : print(\"소문자 입니다.\") # 만약 받은 값이 a ~ z 사이의 값이라면 출력\n",
    "if \"A\" <= x and x <= \"Z\" : print(\"대문자 입니다.\") # 만약 받은 값이 A ~ Z 사이의 값이라면 출력"
   ]
  },
  {
   "cell_type": "code",
   "execution_count": 19,
   "id": "a5a8ffce",
   "metadata": {},
   "outputs": [
    {
     "name": "stdout",
     "output_type": "stream",
     "text": [
      "영문 알파벳 한글자를 입력하셔요?A\n",
      "대문자 입니다.\n"
     ]
    }
   ],
   "source": [
    "# 문자열 비교 예시\n",
    "x = input(\"영문 알파벳 한글자를 입력하셔요?\") # input 함수를 이용하여 값을 입력받기\n",
    "if \"a\" <= x and x <= \"z\" : print(\"소문자 입니다.\") # 만약 받은 값이 a ~ z 사이의 값이라면 출력\n",
    "if \"A\" <= x and x <= \"Z\" : print(\"대문자 입니다.\") # 만약 받은 값이 A ~ Z 사이의 값이라면 출력"
   ]
  },
  {
   "cell_type": "code",
   "execution_count": 20,
   "id": "72c9bcc4",
   "metadata": {},
   "outputs": [
    {
     "name": "stdout",
     "output_type": "stream",
     "text": [
      "영문 알파벳 한글자를 입력하셔요?S\n",
      "대문자 입니다.\n"
     ]
    }
   ],
   "source": [
    "# 문자열 비교 예시\n",
    "x = input(\"영문 알파벳 한글자를 입력하셔요?\") # input 함수를 이용하여 값을 입력받기\n",
    "if \"a\" <= x and x <= \"z\" : print(\"소문자 입니다.\") # 만약 받은 값이 a ~ z 사이의 값이라면 출력\n",
    "if \"A\" <= x and x <= \"Z\" : print(\"대문자 입니다.\") # 만약 받은 값이 A ~ Z 사이의 값이라면 출력"
   ]
  },
  {
   "cell_type": "code",
   "execution_count": 24,
   "id": "761035c8",
   "metadata": {
    "scrolled": true
   },
   "outputs": [
    {
     "ename": "IndentationError",
     "evalue": "unexpected indent (450266528.py, line 7)",
     "output_type": "error",
     "traceback": [
      "\u001b[1;36m  Input \u001b[1;32mIn [24]\u001b[1;36m\u001b[0m\n\u001b[1;33m    a = a - 50 # a에서 50빼기 그러나 칸 띄우기에서 에러\u001b[0m\n\u001b[1;37m    ^\u001b[0m\n\u001b[1;31mIndentationError\u001b[0m\u001b[1;31m:\u001b[0m unexpected indent\n"
     ]
    }
   ],
   "source": [
    "# 콜론과 칸 띄움으로 블록을 표시\n",
    "# 블록구조에서 칸 띄우기는 매우 중요\n",
    "# 대화형 모드에서는 한 줄씩 실행되는 것에 유의\n",
    "a=100 # a라는 변수에 100 대입\n",
    "if a>50: # 만약 a가 50보다 크다면\n",
    "    print (\"50보다 큰수는 50을 빼겠습니다.\") # 출력\n",
    "        a = a - 50 # a에서 50빼기 그러나 칸 띄우기에서 에러"
   ]
  },
  {
   "cell_type": "code",
   "execution_count": 26,
   "id": "d4f8ff72",
   "metadata": {},
   "outputs": [
    {
     "name": "stdout",
     "output_type": "stream",
     "text": [
      "50보다 큰수는 50을 빼겠습니다.\n",
      "50\n"
     ]
    }
   ],
   "source": [
    "a=100 # a라는 변수에 100 대입\n",
    "if a>50: # 만약 a가 50보다 크다면\n",
    "    print (\"50보다 큰수는 50을 빼겠습니다.\") # 출력\n",
    "    a = a - 50 # a에서 50빼기\n",
    "print(a) # a 값 출력"
   ]
  },
  {
   "cell_type": "code",
   "execution_count": 27,
   "id": "e9b3d2a8",
   "metadata": {},
   "outputs": [
    {
     "name": "stdout",
     "output_type": "stream",
     "text": [
      "점수를 입력하셔요?(0~100)100\n",
      "학점은 A입니다\n"
     ]
    }
   ],
   "source": [
    "# elif문을 사용한 학점 계산\n",
    "x=int(input(\"점수를 입력하셔요?(0~100)\")) #input을 이용하여 값 입력받기\n",
    "if x >= 90 : print (\"학점은 A입니다\") # 입력받은 값이 90이상이라면 출력\n",
    "elif x >= 80 : print (\"학점은 B입니다\") # 입력받은 값이 90미만 80이상이라면 출력\n",
    "elif x >= 70 : print (\"학점은 C입니다\") # 입력받은 값이 80미만 70이상이라면 출력\n",
    "elif x >= 60 : print (\"학점은 D입니다\") # 입력받은 값이 70미만 60이상이라면 출력\n",
    "else : print (\"학점은 F입니다\") # 입력받은 값이 60미만이라면 출력"
   ]
  },
  {
   "cell_type": "code",
   "execution_count": 28,
   "id": "8a1bb9ef",
   "metadata": {},
   "outputs": [
    {
     "name": "stdout",
     "output_type": "stream",
     "text": [
      "점수를 입력하셔요?(0~100)44\n",
      "학점은 F입니다\n"
     ]
    }
   ],
   "source": [
    "# elif문을 사용한 학점 계산\n",
    "x=int(input(\"점수를 입력하셔요?(0~100)\")) #input을 이용하여 값 입력받기\n",
    "if x >= 90 : print (\"학점은 A입니다\") # 입력받은 값이 90이상이라면 출력\n",
    "elif x >= 80 : print (\"학점은 B입니다\") # 입력받은 값이 90미만 80이상이라면 출력\n",
    "elif x >= 70 : print (\"학점은 C입니다\") # 입력받은 값이 80미만 70이상이라면 출력\n",
    "elif x >= 60 : print (\"학점은 D입니다\") # 입력받은 값이 70미만 60이상이라면 출력\n",
    "else : print (\"학점은 F입니다\") # 입력받은 값이 60미만이라면 출력"
   ]
  },
  {
   "cell_type": "code",
   "execution_count": 29,
   "id": "8cf9f99f",
   "metadata": {},
   "outputs": [
    {
     "name": "stdout",
     "output_type": "stream",
     "text": [
      "점수를 입력하셔요?(0~100)77\n",
      "학점은 C입니다\n"
     ]
    }
   ],
   "source": [
    "# elif문을 사용한 학점 계산\n",
    "x=int(input(\"점수를 입력하셔요?(0~100)\")) #input을 이용하여 값 입력받기\n",
    "if x >= 90 : print (\"학점은 A입니다\") # 입력받은 값이 90이상이라면 출력\n",
    "elif x >= 80 : print (\"학점은 B입니다\") # 입력받은 값이 90미만 80이상이라면 출력\n",
    "elif x >= 70 : print (\"학점은 C입니다\") # 입력받은 값이 80미만 70이상이라면 출력\n",
    "elif x >= 60 : print (\"학점은 D입니다\") # 입력받은 값이 70미만 60이상이라면 출력\n",
    "else : print (\"학점은 F입니다\") # 입력받은 값이 60미만이라면 출력"
   ]
  },
  {
   "cell_type": "code",
   "execution_count": 30,
   "id": "1e049f8c",
   "metadata": {},
   "outputs": [
    {
     "name": "stdout",
     "output_type": "stream",
     "text": [
      "숫자를 입력하셔요?12\n",
      "4의 배수인 짝수입니다(당연히 짝수)\n"
     ]
    }
   ],
   "source": [
    "#중첩 if문 예제\n",
    "x=int(input(\"숫자를 입력하셔요?\")) # input함수를 사용하여 값 입력받기\n",
    "if x % 2 == 0 : # 받은 값이 2로 나누어 떨어진다면\n",
    "    if x%4==0: # 또한 받은 값이 4로 나누어 떨어진다면\n",
    "        print(\"4의 배수인 짝수입니다(당연히 짝수)\") # 출력\n",
    "    else: # 2로 떨어지지만 4로는 안 떨어짐\n",
    "        print(\"4의 배수가 아닌 짝수입니다\"); # 출력\n",
    "elif x%3==0: # 2로 떨어지지 않고 3으로 나누어 떨어짐\n",
    "    print(\"3의 배수인 홀수 입니다\") # 출력\n",
    "else: # 2로 떨어지지 않고 3으로 떨어지지 않음\n",
    "    print (\"3의 배수가 아닌 홀수입니다\") # 출력"
   ]
  },
  {
   "cell_type": "code",
   "execution_count": 31,
   "id": "ff82867d",
   "metadata": {},
   "outputs": [
    {
     "name": "stdout",
     "output_type": "stream",
     "text": [
      "숫자를 입력하셔요?22\n",
      "4의 배수가 아닌 짝수입니다\n"
     ]
    }
   ],
   "source": [
    "#중첩 if문 예제\n",
    "x=int(input(\"숫자를 입력하셔요?\")) # input함수를 사용하여 값 입력받기\n",
    "if x % 2 == 0 : # 받은 값이 2로 나누어 떨어진다면\n",
    "    if x%4==0: # 또한 받은 값이 4로 나누어 떨어진다면\n",
    "        print(\"4의 배수인 짝수입니다(당연히 짝수)\") # 출력\n",
    "    else: # 2로 떨어지지만 4로는 안 떨어짐\n",
    "        print(\"4의 배수가 아닌 짝수입니다\"); # 출력\n",
    "elif x%3==0: # 2로 떨어지지 않고 3으로 나누어 떨어짐\n",
    "    print(\"3의 배수인 홀수 입니다\") # 출력\n",
    "else: # 2로 떨어지지 않고 3으로 떨어지지 않음\n",
    "    print (\"3의 배수가 아닌 홀수입니다\") # 출력"
   ]
  },
  {
   "cell_type": "code",
   "execution_count": 32,
   "id": "7f570951",
   "metadata": {},
   "outputs": [
    {
     "name": "stdout",
     "output_type": "stream",
     "text": [
      "숫자를 입력하셔요?9\n",
      "3의 배수인 홀수 입니다\n"
     ]
    }
   ],
   "source": [
    "#중첩 if문 예제\n",
    "x=int(input(\"숫자를 입력하셔요?\")) # input함수를 사용하여 값 입력받기\n",
    "if x % 2 == 0 : # 받은 값이 2로 나누어 떨어진다면\n",
    "    if x%4==0: # 또한 받은 값이 4로 나누어 떨어진다면\n",
    "        print(\"4의 배수인 짝수입니다(당연히 짝수)\") # 출력\n",
    "    else: # 2로 떨어지지만 4로는 안 떨어짐\n",
    "        print(\"4의 배수가 아닌 짝수입니다\"); # 출력\n",
    "elif x%3==0: # 2로 떨어지지 않고 3으로 나누어 떨어짐\n",
    "    print(\"3의 배수인 홀수 입니다\") # 출력\n",
    "else: # 2로 떨어지지 않고 3으로 떨어지지 않음\n",
    "    print (\"3의 배수가 아닌 홀수입니다\") # 출력"
   ]
  },
  {
   "cell_type": "code",
   "execution_count": 33,
   "id": "c87279d0",
   "metadata": {},
   "outputs": [
    {
     "name": "stdout",
     "output_type": "stream",
     "text": [
      "숫자를 입력하셔요?11\n",
      "3의 배수가 아닌 홀수입니다\n"
     ]
    }
   ],
   "source": [
    "#중첩 if문 예제\n",
    "x=int(input(\"숫자를 입력하셔요?\")) # input함수를 사용하여 값 입력받기\n",
    "if x % 2 == 0 : # 받은 값이 2로 나누어 떨어진다면\n",
    "    if x%4==0: # 또한 받은 값이 4로 나누어 떨어진다면\n",
    "        print(\"4의 배수인 짝수입니다(당연히 짝수)\") # 출력\n",
    "    else: # 2로 떨어지지만 4로는 안 떨어짐\n",
    "        print(\"4의 배수가 아닌 짝수입니다\"); # 출력\n",
    "elif x%3==0: # 2로 떨어지지 않고 3으로 나누어 떨어짐\n",
    "    print(\"3의 배수인 홀수 입니다\") # 출력\n",
    "else: # 2로 떨어지지 않고 3으로 떨어지지 않음\n",
    "    print (\"3의 배수가 아닌 홀수입니다\") # 출력"
   ]
  },
  {
   "cell_type": "code",
   "execution_count": 38,
   "id": "06e664c1",
   "metadata": {},
   "outputs": [
    {
     "name": "stdout",
     "output_type": "stream",
     "text": [
      "***************************************************\n",
      "총금액: 1000000 원  달러환율: 1010.12 $\n",
      "지급달러: 988 $\n",
      "거스름돈: 5 원 은행수수료:  1996 원\n",
      "***************************************************\n"
     ]
    }
   ],
   "source": [
    "#심화실습\n",
    "myWon = 1000000 # 환전할 돈 백만원\n",
    "moneyEx = 1010.12 # 환율\n",
    "rate = 0.002 # 환전 수수료\n",
    "usd = int(myWon / (moneyEx*(1+rate))) # 1달러당 환전수수료를 포함하여 지급달러 계산\n",
    "commission = usd * moneyEx * rate # 환전 수수료를 얼마 받을지 계산\n",
    "if commission == int(commission) : commission = int(commission) # 만약 환전 수수료가 정수로 떨어지면 그대로\n",
    "else : commission = int(commission)+1 # 정수로 안 떨어지면 +1 원\n",
    "remain = int(myWon - usd*moneyEx - commission) # 거스름돈 계산\n",
    "print(\"***************************************************\") \n",
    "print(\"총금액:\", myWon,\"원\",\" 달러환율:\", moneyEx,\"$\") \n",
    "print(\"지급달러:\", usd,\"$\", ) \n",
    "print(\"거스름돈:\", remain, \"원\",\"은행수수료: \", commission, \"원\")\n",
    "print(\"***************************************************\")"
   ]
  },
  {
   "cell_type": "code",
   "execution_count": null,
   "id": "c95b3e66",
   "metadata": {},
   "outputs": [],
   "source": []
  }
 ],
 "metadata": {
  "kernelspec": {
   "display_name": "Python 3 (ipykernel)",
   "language": "python",
   "name": "python3"
  },
  "language_info": {
   "codemirror_mode": {
    "name": "ipython",
    "version": 3
   },
   "file_extension": ".py",
   "mimetype": "text/x-python",
   "name": "python",
   "nbconvert_exporter": "python",
   "pygments_lexer": "ipython3",
   "version": "3.8.8rc1"
  }
 },
 "nbformat": 4,
 "nbformat_minor": 5
}
