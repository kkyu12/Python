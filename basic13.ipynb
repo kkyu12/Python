{
 "cells": [
  {
   "cell_type": "code",
   "execution_count": 2,
   "id": "f89b84a4",
   "metadata": {},
   "outputs": [],
   "source": [
    "class elevator: # 엘레베이터 클래스 선언\n",
    "    def __init__(self,floor,limit_up_floor,limit_down_floor,msg):\n",
    "        # 현재층 최상층 최하층 메세지를 인수로 받는 함수 선언\n",
    "        self.floor=floor # 현재층을 대입\n",
    "        self.limit_up_floor=limit_up_floor # 최상층 대입\n",
    "        self.limit_down_floor=limit_down_floor # 최하층 대입\n",
    "        self.msg=msg # 메세지 대입\n",
    "    def up(self): # 올라가는 함수\n",
    "        if self.floor == self.limit_up_floor: # 만약 현재층이 최상층이라면\n",
    "            self.msg=\"최상층 입니다\" # 메세지 출력\n",
    "        else: # 아니라면\n",
    "            self.floor+=1 # 층 올리기\n",
    "            self.msg=str(self.floor)+\"층입니다\" # 몇 층인지 출력\n",
    "        print(self.msg) # 메시지 출력\n",
    "    def down(self): # 내려가는 함수\n",
    "        if self.floor == self.limit_down_floor:  # 만약 현재층이 최하층이라면\n",
    "            self.msg=\"최하층 입니다\" # 메세지 출력\n",
    "        else: # 아니라면\n",
    "            self.floor-=1 # 층 내리기\n",
    "            self.msg=str(self.floor)+\"층입니다\" # 몇 층인지 출력\n",
    "        print(self.msg) # 메시지 출력"
   ]
  },
  {
   "cell_type": "code",
   "execution_count": 11,
   "id": "37dc02a6",
   "metadata": {},
   "outputs": [
    {
     "name": "stdout",
     "output_type": "stream",
     "text": [
      "2층입니다\n",
      "3층입니다\n",
      "4층입니다\n",
      "5층입니다\n",
      "6층입니다\n",
      "7층입니다\n",
      "8층입니다\n",
      "9층입니다\n",
      "10층입니다\n",
      "11층입니다\n",
      "12층입니다\n",
      "13층입니다\n",
      "14층입니다\n",
      "15층입니다\n",
      "최상층 입니다\n",
      "최상층 입니다\n",
      "최상층 입니다\n",
      "최상층 입니다\n",
      "최상층 입니다\n",
      "최상층 입니다\n",
      "14층입니다\n",
      "13층입니다\n",
      "12층입니다\n",
      "11층입니다\n",
      "10층입니다\n",
      "9층입니다\n",
      "8층입니다\n",
      "7층입니다\n",
      "6층입니다\n",
      "5층입니다\n",
      "4층입니다\n",
      "3층입니다\n",
      "2층입니다\n",
      "1층입니다\n",
      "0층입니다\n",
      "최하층 입니다\n",
      "최하층 입니다\n",
      "최하층 입니다\n",
      "최하층 입니다\n",
      "최하층 입니다\n"
     ]
    }
   ],
   "source": [
    "myclass = elevator(1,15,0,\"\") #(현재1층, 최저0층, 최고15층, 메시지) 값으로 클래스생성\n",
    "for i in range(20): # 20번 up()를 실행 \n",
    "    myclass.up() # 올라가는 메소드\n",
    "for i in range(20): # 20번 down()을 실행\n",
    "    myclass.down() # 내려가는 메소드"
   ]
  },
  {
   "cell_type": "code",
   "execution_count": 3,
   "id": "7079cdc2",
   "metadata": {},
   "outputs": [
    {
     "name": "stdout",
     "output_type": "stream",
     "text": [
      "myclass->2층입니다\n",
      "yourclass->6층입니다\n",
      "myclass->3층입니다\n",
      "yourclass->7층입니다\n",
      "myclass->4층입니다\n",
      "yourclass->8층입니다\n",
      "myclass->5층입니다\n",
      "yourclass->9층입니다\n",
      "myclass->6층입니다\n",
      "yourclass->10층입니다\n",
      "myclass->7층입니다\n",
      "yourclass->최상층 입니다\n",
      "myclass->8층입니다\n",
      "yourclass->최상층 입니다\n",
      "myclass->9층입니다\n",
      "yourclass->최상층 입니다\n",
      "myclass->10층입니다\n",
      "yourclass->최상층 입니다\n",
      "myclass->11층입니다\n",
      "yourclass->최상층 입니다\n",
      "myclass->12층입니다\n",
      "yourclass->최상층 입니다\n",
      "myclass->13층입니다\n",
      "yourclass->최상층 입니다\n",
      "myclass->14층입니다\n",
      "yourclass->최상층 입니다\n",
      "myclass->15층입니다\n",
      "yourclass->최상층 입니다\n",
      "myclass->최상층 입니다\n",
      "yourclass->최상층 입니다\n",
      "myclass->최상층 입니다\n",
      "yourclass->최상층 입니다\n",
      "myclass->최상층 입니다\n",
      "yourclass->최상층 입니다\n",
      "myclass->최상층 입니다\n",
      "yourclass->최상층 입니다\n",
      "myclass->최상층 입니다\n",
      "yourclass->최상층 입니다\n",
      "myclass->최상층 입니다\n",
      "yourclass->최상층 입니다\n",
      "myclass->14층입니다\n",
      "yourclass->9층입니다\n",
      "myclass->13층입니다\n",
      "yourclass->8층입니다\n",
      "myclass->12층입니다\n",
      "yourclass->7층입니다\n",
      "myclass->11층입니다\n",
      "yourclass->6층입니다\n",
      "myclass->10층입니다\n",
      "yourclass->5층입니다\n",
      "myclass->9층입니다\n",
      "yourclass->4층입니다\n",
      "myclass->8층입니다\n",
      "yourclass->3층입니다\n",
      "myclass->7층입니다\n",
      "yourclass->2층입니다\n",
      "myclass->6층입니다\n",
      "yourclass->1층입니다\n",
      "myclass->5층입니다\n",
      "yourclass->0층입니다\n",
      "myclass->4층입니다\n",
      "yourclass->-1층입니다\n",
      "myclass->3층입니다\n",
      "yourclass->최하층 입니다\n",
      "myclass->2층입니다\n",
      "yourclass->최하층 입니다\n",
      "myclass->1층입니다\n",
      "yourclass->최하층 입니다\n",
      "myclass->0층입니다\n",
      "yourclass->최하층 입니다\n",
      "myclass->최하층 입니다\n",
      "yourclass->최하층 입니다\n",
      "myclass->최하층 입니다\n",
      "yourclass->최하층 입니다\n",
      "myclass->최하층 입니다\n",
      "yourclass->최하층 입니다\n",
      "myclass->최하층 입니다\n",
      "yourclass->최하층 입니다\n",
      "myclass->최하층 입니다\n",
      "yourclass->최하층 입니다\n"
     ]
    }
   ],
   "source": [
    "myclass = elevator(1,15,0,\"\") #(현재1층, 최저0층, 최고15층, 메시지) 값으로 클래스생성\n",
    "yourclass = elevator(5,10,-1,\"\") #(현재1층, 최저0층, 최고15층, 메시지)값으로 클래스생성\n",
    "\n",
    "for i in range(20):  #20번 up()를 실행 \n",
    "    print(\"myclass->\",end=\"\") # 출력 \n",
    "    myclass.up() # myclass 엘베 올리기\n",
    "    print(\"yourclass->\",end=\"\") # 출력 \n",
    "    yourclass.up() # yourclass 엘베 올리기\n",
    "for i in range(20):  #20번 down()을 실행 \n",
    "    print(\"myclass->\",end=\"\") # 출력 \n",
    "    myclass.down()# myclass 엘베 내리기\n",
    "    print(\"yourclass->\",end=\"\") # 출력 \n",
    "    yourclass.down() # yourclass 엘베 내리기"
   ]
  },
  {
   "cell_type": "code",
   "execution_count": 12,
   "id": "f53e4683",
   "metadata": {},
   "outputs": [],
   "source": [
    "# 다음은 기존 elevator를 가지고 새로운 s_elevator클래스를 생성한 예제임\n",
    "# 새로운 클래스는 기존 클래스를 가져다 한 번에 두 개 층을 올라가거나, 내려가는 것으로 정의하였음\n",
    "# 기존 부모클래스는 super()로 명명함\n",
    "class s_elevator(elevator): # 새로운 클래스 생성\n",
    "    def __init__(self): # 부모 클래스 받아오기\n",
    "        super().__init__(1,15,0,\"\") # 현재1층, 최저0층, 최고15층, 메시지) 값설정 가져오기\n",
    "    def up(self): # 올라가는 메소드\n",
    "        super().up() # 두번 사용\n",
    "        super().up()\n",
    "    def down(self): # 내려가는 메소드\n",
    "        super().down() # 두번사용\n",
    "        super().down()"
   ]
  },
  {
   "cell_type": "code",
   "execution_count": 13,
   "id": "9946854b",
   "metadata": {},
   "outputs": [
    {
     "name": "stdout",
     "output_type": "stream",
     "text": [
      "2층입니다\n",
      "3층입니다\n",
      "2층입니다\n",
      "1층입니다\n",
      "2층입니다\n",
      "3층입니다\n",
      "2층입니다\n",
      "1층입니다\n",
      "2층입니다\n",
      "3층입니다\n",
      "2층입니다\n",
      "1층입니다\n",
      "2층입니다\n",
      "3층입니다\n",
      "2층입니다\n",
      "1층입니다\n",
      "2층입니다\n",
      "3층입니다\n",
      "2층입니다\n",
      "1층입니다\n",
      "2층입니다\n",
      "3층입니다\n",
      "2층입니다\n",
      "1층입니다\n",
      "2층입니다\n",
      "3층입니다\n",
      "2층입니다\n",
      "1층입니다\n",
      "2층입니다\n",
      "3층입니다\n",
      "2층입니다\n",
      "1층입니다\n",
      "2층입니다\n",
      "3층입니다\n",
      "2층입니다\n",
      "1층입니다\n",
      "2층입니다\n",
      "3층입니다\n",
      "2층입니다\n",
      "1층입니다\n",
      "2층입니다\n",
      "3층입니다\n",
      "2층입니다\n",
      "1층입니다\n",
      "2층입니다\n",
      "3층입니다\n",
      "2층입니다\n",
      "1층입니다\n",
      "2층입니다\n",
      "3층입니다\n",
      "2층입니다\n",
      "1층입니다\n",
      "2층입니다\n",
      "3층입니다\n",
      "2층입니다\n",
      "1층입니다\n",
      "2층입니다\n",
      "3층입니다\n",
      "2층입니다\n",
      "1층입니다\n",
      "2층입니다\n",
      "3층입니다\n",
      "2층입니다\n",
      "1층입니다\n",
      "2층입니다\n",
      "3층입니다\n",
      "2층입니다\n",
      "1층입니다\n",
      "2층입니다\n",
      "3층입니다\n",
      "2층입니다\n",
      "1층입니다\n",
      "2층입니다\n",
      "3층입니다\n",
      "2층입니다\n",
      "1층입니다\n",
      "2층입니다\n",
      "3층입니다\n",
      "2층입니다\n",
      "1층입니다\n"
     ]
    }
   ],
   "source": [
    "#myclass = elevator(1,15,0,\"\") #(현재1층, 최저0층, 최고15층, 메시지) 값으로 클래스생성\n",
    "myclass = s_elevator()\n",
    "for i in range(20):# 20번 up()과 down()을 실행 \n",
    "    myclass.up() # 올라가는 메소드\n",
    "    myclass.down() # 내려가는 메소드\n",
    "# 오르락 내리락 반복"
   ]
  },
  {
   "cell_type": "code",
   "execution_count": 14,
   "id": "daf451f2",
   "metadata": {},
   "outputs": [
    {
     "name": "stdout",
     "output_type": "stream",
     "text": [
      "3125\n"
     ]
    }
   ],
   "source": [
    "# getter, setter를 통한 접근 예제로 “a**b” 거듭제곱을 구하는 예제\n",
    "class multibox:# 거듭제곱을 구하는 클래스 선언\n",
    "    def __init__(self,multi): # 생성자 선언\n",
    "        self.multi=multi # b 부분 세팅\n",
    "    def getnumber(self): # 거듭제곱 함수 선언\n",
    "        return self.num**self.multi # 거듭제곱 계산\n",
    "    def setnumber(self,num): # 함수 선언\n",
    "        self.num=num # a 부분 세팅\n",
    "        \n",
    "m=multibox(5) # b부분이 5\n",
    "m.setnumber(5) # a부분이 5\n",
    "print(m.getnumber()) # 5**5 계산"
   ]
  },
  {
   "cell_type": "code",
   "execution_count": 15,
   "id": "a2c1838f",
   "metadata": {},
   "outputs": [
    {
     "name": "stdout",
     "output_type": "stream",
     "text": [
      "3125\n"
     ]
    }
   ],
   "source": [
    "class multibox:# 거듭제곱을 구하는 클래스 선언\n",
    "    def __init__(self,multi): # 생성자 선언\n",
    "        self.multi=multi # b 부분 세팅\n",
    "    def getnumber(self): # 거듭제곱 함수 선언\n",
    "        return self.num**self.multi # 거듭제곱 계산\n",
    "    def setnumber(self,num): # 함수 선언\n",
    "        self.num=num # a 부분 세팅\n",
    "    number=property(getnumber,setnumber) # property를 이용하여 getter,setter를 정의\n",
    "        \n",
    "m=multibox(5) # b부분이 5\n",
    "m.number=5 # a부분이 5\n",
    "print(m.number) # 5**5 계산"
   ]
  },
  {
   "cell_type": "code",
   "execution_count": 16,
   "id": "20ad4eb8",
   "metadata": {},
   "outputs": [
    {
     "name": "stdout",
     "output_type": "stream",
     "text": [
      "3125\n"
     ]
    }
   ],
   "source": [
    "class multibox:# 거듭제곱을 구하는 클래스 선언\n",
    "    def __init__(self,multi): # 생성자 선언\n",
    "        self.multi=multi # b 부분 세팅\n",
    "    @property # 데코레이터로 선언 \n",
    "    def number(self): # 거듭제곱 함수 선언\n",
    "        return self.num**self.multi  # 거듭제곱 계산\n",
    "    @number.setter # 데코레이터로 setter 정의 \n",
    "    def number(self,num): \n",
    "        self.num=num # a 부분 세팅\n",
    "        \n",
    "m=multibox(5) # b부분이 5\n",
    "m.number=5 # a부분이 5\n",
    "print(m.number) # 5**5 계산"
   ]
  },
  {
   "cell_type": "code",
   "execution_count": 18,
   "id": "55a6901f",
   "metadata": {},
   "outputs": [
    {
     "name": "stdout",
     "output_type": "stream",
     "text": [
      "클래스 참조횟수는 2 회 입니다\n"
     ]
    }
   ],
   "source": [
    "# 클래스 메서드\n",
    "class myclass: # 클래스 선언\n",
    "    cnt=0 # self가 없는 myclass에서 사용되는 내부 static변수 \n",
    "    def __init__(self): # 생성자 선언\n",
    "        myclass.cnt+=1 # myclass의 static변수 \n",
    "    @classmethod # 클래스 메서드 선언\n",
    "    def refcount(cls): # self가 아니라 cls로 정의 \n",
    "        print(\"클래스 참조횟수는\",cls.cnt,\"회 입니다\")\n",
    "        \n",
    "a=myclass() # 클래스 참조 1\n",
    "b=myclass() # 클래스 참조 2\n",
    "myclass.refcount() # 클래스를 몇 번 참조했는지 출력"
   ]
  },
  {
   "cell_type": "code",
   "execution_count": 19,
   "id": "ce3c7443",
   "metadata": {},
   "outputs": [
    {
     "name": "stdout",
     "output_type": "stream",
     "text": [
      "이 클래스는 아무런 일도 하지 않는다\n",
      "이 클래스는 아무런 일도 하지 않는다\n"
     ]
    }
   ],
   "source": [
    "# 정적 메서드\n",
    "class myclass: # 클래스 선언\n",
    "    cnt=0 # self가 없는 myclass에서 사용되는 내부 static변수 \n",
    "    def __init__(self): # 생성자 선언\n",
    "        myclass.cnt+=1 # myclass의 static변수 \n",
    "    @staticmethod # 클래스 메서드 선언\n",
    "    def helf(): # self 나 cls를 인수로 받지도 않음\n",
    "        print(\"이 클래스는 아무런 일도 하지 않는다\")\n",
    "\n",
    "myclass.helf() # 클래스 실행\n",
    "a=myclass() # 클래스 참조\n",
    "myclass.helf() # 클래스 실행"
   ]
  },
  {
   "cell_type": "code",
   "execution_count": 20,
   "id": "45b91d75",
   "metadata": {},
   "outputs": [
    {
     "name": "stdout",
     "output_type": "stream",
     "text": [
      "defabc\n"
     ]
    }
   ],
   "source": [
    "# 연산자 메서드\n",
    "# 다음 __add__ 은 클래스간 +연산을 정의한 메서드임\n",
    "class mystr: # 클래스 선언\n",
    "    def __init__(self,s): # 생성자 선언\n",
    "        self.s=s\n",
    "    def __add__(self, other): # 클래스간 +연산자를 정의 \n",
    "        return other.s + self.s # 문자간 연산을 반대로 수행\n",
    "\n",
    "a = mystr(\"abc\") # 문자받기\n",
    "b = mystr(\"def\") # 문자받기\n",
    "print(a+b) # 문자열 더하기 = 이어쓰기"
   ]
  },
  {
   "cell_type": "code",
   "execution_count": 21,
   "id": "ffdb65f0",
   "metadata": {},
   "outputs": [
    {
     "name": "stdout",
     "output_type": "stream",
     "text": [
      "9.99999999999998\n"
     ]
    }
   ],
   "source": [
    "sum=0 # 변수 선언과 초기화\n",
    "for i in range(100): # 0에서 99까지 반복문\n",
    "    sum+=0.1 # 0.1을 계속 더하기\n",
    "print(sum) # 합을 출력\n",
    "# 오차 발생"
   ]
  },
  {
   "cell_type": "code",
   "execution_count": 22,
   "id": "e059c0a4",
   "metadata": {},
   "outputs": [
    {
     "name": "stdout",
     "output_type": "stream",
     "text": [
      "0.1 => 9.99999999999998\n",
      "0.1000000000000000055511151231257827021181583404541015625 => 10.00000000000000055511151230\n",
      "0.1 => 10.0\n"
     ]
    }
   ],
   "source": [
    "# Decimal클래스는 문자형을 숫자형(정수형)으로 바꾸는데 사용함\n",
    "from decimal import Decimal # Decimal클래스를 가져옴\n",
    "\n",
    "a_sum=0;b_sum=0;c_sum=0 # 변수들 선언과 초기화\n",
    "\n",
    "a=0.1 # a에 0.1 대입\n",
    "b=Decimal(a) # b에 Decimal(0.1) 대입\n",
    "c=Decimal(\"0.1\") # c에 Decimal(\"0.1\") 대입\n",
    "\n",
    "for i in range(100): # 0부터 99까지 반복문\n",
    "    a_sum+=a # a의 합\n",
    "    b_sum+=b # b의 합\n",
    "    c_sum+=c # c의 합\n",
    "\n",
    "# 각각의 결과 출력\n",
    "print(a,\"=>\",a_sum)\n",
    "print(b,\"=>\",b_sum)\n",
    "print(c,\"=>\",c_sum)"
   ]
  },
  {
   "cell_type": "code",
   "execution_count": 23,
   "id": "215b322a",
   "metadata": {},
   "outputs": [
    {
     "name": "stdout",
     "output_type": "stream",
     "text": [
      "2/3 + 1/2 = 7/6\n",
      "2/3 * 1/2 = 1/3\n",
      "2/3 * 1.5 = 2.1666666666666665\n"
     ]
    }
   ],
   "source": [
    "from fractions import * # 분수를 나타내 주고 분수계산이 가능한 클래스\n",
    "\n",
    "a=Fraction(2,3) #3분의 2\n",
    "b=Fraction(5,10) #10분의 5로 약분되어 1/2\n",
    "\n",
    "print(a,\"+\",b,\"=\",a+b) # a와 b의 합\n",
    "print(a,\"*\",b,\"=\",a*b) # a와 b의 곱\n",
    "print(a,\"*\",1.5,\"=\",a+1.5) # 정수 및 실수와 같이 연산하면 실수형으로 바뀜"
   ]
  },
  {
   "cell_type": "code",
   "execution_count": null,
   "id": "63c43ff6",
   "metadata": {},
   "outputs": [],
   "source": []
  }
 ],
 "metadata": {
  "kernelspec": {
   "display_name": "Python 3 (ipykernel)",
   "language": "python",
   "name": "python3"
  },
  "language_info": {
   "codemirror_mode": {
    "name": "ipython",
    "version": 3
   },
   "file_extension": ".py",
   "mimetype": "text/x-python",
   "name": "python",
   "nbconvert_exporter": "python",
   "pygments_lexer": "ipython3",
   "version": "3.8.8rc1"
  }
 },
 "nbformat": 4,
 "nbformat_minor": 5
}
