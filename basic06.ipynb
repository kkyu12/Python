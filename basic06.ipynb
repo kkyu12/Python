{
 "cells": [
  {
   "cell_type": "code",
   "execution_count": 1,
   "id": "4ebc930f",
   "metadata": {},
   "outputs": [
    {
     "name": "stdout",
     "output_type": "stream",
     "text": [
      "2\n",
      "3\n",
      "4\n",
      "5\n"
     ]
    }
   ],
   "source": [
    "i=1 # i라는 변수에 1대입\n",
    "while i < 5: # i가 5보다 작을 때 까지 반복하기\n",
    "    i+=1 # i에 1씩 누적\n",
    "    print(i) # i 값 출력"
   ]
  },
  {
   "cell_type": "code",
   "execution_count": 2,
   "id": "1fed43a9",
   "metadata": {},
   "outputs": [
    {
     "name": "stdout",
     "output_type": "stream",
     "text": [
      "sum= 5050\n"
     ]
    }
   ],
   "source": [
    "i=0 # 반복 카운터, 초기화\n",
    "sum=0 # 누적할 변수, 초기화 \n",
    "while i < 100 : # 0부터 99까지 실행,만일 실행횟수는 100회\n",
    "    i+=1 # i=0+1, i=1+1, i=2+1, i=3+1,i는 1씩 증가 \n",
    "    sum = sum + i # sum=0+1, sum=1+2, sum=3+3,sum=6+4 ... sum은 더한 값이 누적됨 \n",
    "print(\"sum=\",sum) #while 반복을 빠져 나와서 출력"
   ]
  },
  {
   "cell_type": "code",
   "execution_count": 3,
   "id": "fc79e823",
   "metadata": {},
   "outputs": [
    {
     "name": "stdout",
     "output_type": "stream",
     "text": [
      "sum= 5050\n"
     ]
    }
   ],
   "source": [
    "# 세 경우의 차이를 알고 알맞게 쓰기\n",
    "i=0 # 반복 카운터, 초기화\n",
    "sum=0 # 누적할 변수, 초기화\n",
    "while i < 100 : # 0 에서 99까지 실행, 실행횟수는 100회\n",
    "    i+=1 # i는 1씩증가\n",
    "    sum = sum + i # sum은 더한 값이 누적됨 \n",
    "print(\"sum=\",sum) #while 반복을 빠져 나와서 출력"
   ]
  },
  {
   "cell_type": "code",
   "execution_count": 4,
   "id": "b2dac715",
   "metadata": {},
   "outputs": [
    {
     "name": "stdout",
     "output_type": "stream",
     "text": [
      "sum= 4950\n"
     ]
    }
   ],
   "source": [
    "i=0 # 반복 카운터, 초기화\n",
    "sum=0 # 누적할 변수, 초기화\n",
    "while i < 100 : # 0 에서 99까지 실행, 실행횟수는 100회\n",
    "    sum = sum + i # sum은 더한 값이 누적됨 \n",
    "    i+=1 # i는 1씩증가\n",
    "print(\"sum=\",sum) #while 반복을 빠져 나와서 출력"
   ]
  },
  {
   "cell_type": "code",
   "execution_count": 5,
   "id": "de6f7865",
   "metadata": {},
   "outputs": [
    {
     "name": "stdout",
     "output_type": "stream",
     "text": [
      "sum= 5050\n"
     ]
    }
   ],
   "source": [
    "i=0 # 반복 카운터, 초기화\n",
    "sum=0 # 누적할 변수, 초기화\n",
    "while i < 101 : # 0 에서 100까지 실행, 실행횟수는 101회\n",
    "    sum = sum + i # sum은 더한 값이 누적됨 \n",
    "    i+=1 # i는 1씩증가\n",
    "print(\"sum=\",sum) #while 반복을 빠져 나와서 출력"
   ]
  },
  {
   "cell_type": "code",
   "execution_count": 6,
   "id": "fdd51f3c",
   "metadata": {},
   "outputs": [
    {
     "name": "stdout",
     "output_type": "stream",
     "text": [
      "a[ 0 ] 자료형: <class 'str'>  값: 1\n",
      "a[ 1 ] 자료형: <class 'int'>  값: 2\n",
      "a[ 2 ] 자료형: <class 'str'>  값: 3\n",
      "a[ 3 ] 자료형: <class 'int'>  값: 55\n"
     ]
    }
   ],
   "source": [
    "i=0 # 반복 카운터, 초기화\n",
    "for a in [\"1\",2,\"3\",55]: # 리스트의 크기만큼 반복\n",
    "    print(\"a[\",i,\"] 자료형:\",type(a),\" 값:\",a) # 리스트안의 자료형과 값을 출력\n",
    "    i+=1 # i는 1씩 증가"
   ]
  },
  {
   "cell_type": "code",
   "execution_count": 7,
   "id": "7107cebb",
   "metadata": {},
   "outputs": [
    {
     "name": "stdout",
     "output_type": "stream",
     "text": [
      "1 ,2 ,3 ,4 ,5 ,6 ,7 ,8 ,9 ,"
     ]
    }
   ],
   "source": [
    "# range(시작, 끝, 증가폭) 시작과 증가폭 생략가능 기본값 : 시작=0 증가폭=1\n",
    "for i in range(1,10,1): # 1부터 9(i<10)까지 1씩 증가\n",
    "    print(i,\",\",end=\"\") # i값 사이에는 쉼표 끝에는 아무것도 없이 출력"
   ]
  },
  {
   "cell_type": "code",
   "execution_count": 11,
   "id": "a41fa1a0",
   "metadata": {},
   "outputs": [
    {
     "name": "stdout",
     "output_type": "stream",
     "text": [
      "0 ,1 ,2 ,3 ,4 ,5 ,6 ,7 ,8 ,9 ,"
     ]
    }
   ],
   "source": [
    "for i in range(10): # 0부터 9까지 1씩 증가\n",
    "    print(i,\",\",end=\"\") # i값 사이에는 쉼표 끝에는 아무것도 없이 출력"
   ]
  },
  {
   "cell_type": "code",
   "execution_count": 10,
   "id": "ca34c25e",
   "metadata": {},
   "outputs": [
    {
     "name": "stdout",
     "output_type": "stream",
     "text": [
      "1 ,2 ,3 ,4 ,5 ,6 ,7 ,8 ,9 ,"
     ]
    }
   ],
   "source": [
    "for i in range(1,10): # 1부터 9까지 1씩 증가\n",
    "    print(i,\",\",end=\"\") # i값 사이에는 쉼표 끝에는 아무것도 없이 출력"
   ]
  },
  {
   "cell_type": "code",
   "execution_count": 12,
   "id": "55e99efb",
   "metadata": {},
   "outputs": [
    {
     "name": "stdout",
     "output_type": "stream",
     "text": [
      "1 ,3 ,5 ,7 ,9 ,"
     ]
    }
   ],
   "source": [
    "for i in range(1,10,2): # 1부터 9까지 2씩 증가\n",
    "    print(i,\",\",end=\"\") # i값 사이에는 쉼표 끝에는 아무것도 없이 출력"
   ]
  },
  {
   "cell_type": "code",
   "execution_count": 13,
   "id": "f3b409db",
   "metadata": {},
   "outputs": [
    {
     "name": "stdout",
     "output_type": "stream",
     "text": [
      "10 ,9 ,8 ,7 ,6 ,5 ,4 ,3 ,2 ,1 ,"
     ]
    }
   ],
   "source": [
    "for i in range(10,0,-1): # 10부터 1까지 1씩 감소\n",
    "    print(i,\",\",end=\"\") # i값 사이에는 쉼표 끝에는 아무것도 없이 출력"
   ]
  },
  {
   "cell_type": "code",
   "execution_count": 14,
   "id": "f4418815",
   "metadata": {},
   "outputs": [
    {
     "name": "stdout",
     "output_type": "stream",
     "text": [
      "0 ,1 ,2 ,"
     ]
    }
   ],
   "source": [
    "for i in range(10): # 0에서 9까지 1씩 증가\n",
    "    if(i==3): # 만약 i가 3이라면\n",
    "        break # 해당 루프를 탈출\n",
    "    print(i,\",\",end=\"\") # i값 사이에는 쉼표 끝에는 아무것도 없이 출력"
   ]
  },
  {
   "cell_type": "code",
   "execution_count": 15,
   "id": "916231f4",
   "metadata": {},
   "outputs": [
    {
     "name": "stdout",
     "output_type": "stream",
     "text": [
      "0 ,1 ,2 ,4 ,5 ,6 ,7 ,8 ,9 ,"
     ]
    }
   ],
   "source": [
    "for i in range(10): # 0에서 9까지 1씩 증가\n",
    "    if(i==3): # 만약 i가 3이라면\n",
    "        continue # 문장 아래를 실행하지 않고 반복문의 처음으로 이동 계속 반복 수행\n",
    "    print(i,\",\",end=\"\") # i값 사이에는 쉼표 끝에는 아무것도 없이 출력 3 빼고 다 출력"
   ]
  },
  {
   "cell_type": "code",
   "execution_count": 16,
   "id": "04e319c8",
   "metadata": {},
   "outputs": [
    {
     "name": "stdout",
     "output_type": "stream",
     "text": [
      "i= 100 sum= 5050\n"
     ]
    }
   ],
   "source": [
    "i=0;sum=0 # 반복 카운터, 초기화와 누적할 변수, 초기화 \n",
    "while True: # 문장으로 무한루프 실행\n",
    "    i+=1;sum+=i # i는 1씩 증가, i값을 sum에 계속 누적\n",
    "    if(i==100): break # 만약 i가 100이라면 반복문 탈출\n",
    "print(\"i=\",i,\"sum=\",sum) # 탈출 후 i값과 sum값을 출력"
   ]
  },
  {
   "cell_type": "code",
   "execution_count": 17,
   "id": "1b853442",
   "metadata": {},
   "outputs": [
    {
     "name": "stdout",
     "output_type": "stream",
     "text": [
      "******************************\n",
      "******************************\n",
      "******************************\n",
      "******************************\n"
     ]
    }
   ],
   "source": [
    "# 별을 30씩 찍기, 30번째에는 줄을 바꿔야 함\n",
    "for i in range(1,121): # range(0,120)이 아니고 range(1,121)을 한 이유는 i%30과 연관이 있음\n",
    "    print(\"*\",end=\"\") # 별을 찍기 끝엔 아무것도 출력하지 않음\n",
    "    if(i%30==0): print(end=\"\\n\") # 30으로 나누어 떨어진다면 줄 바꿈"
   ]
  },
  {
   "cell_type": "code",
   "execution_count": 18,
   "id": "cc0e47af",
   "metadata": {},
   "outputs": [
    {
     "name": "stdout",
     "output_type": "stream",
     "text": [
      "1 * 1 = 1\n",
      "1 * 2 = 2\n",
      "1 * 3 = 3\n",
      "1 * 4 = 4\n",
      "1 * 5 = 5\n",
      "1 * 6 = 6\n",
      "1 * 7 = 7\n",
      "1 * 8 = 8\n",
      "1 * 9 = 9\n",
      "********************\n",
      "2 * 1 = 2\n",
      "2 * 2 = 4\n",
      "2 * 3 = 6\n",
      "2 * 4 = 8\n",
      "2 * 5 = 10\n",
      "2 * 6 = 12\n",
      "2 * 7 = 14\n",
      "2 * 8 = 16\n",
      "2 * 9 = 18\n",
      "********************\n",
      "3 * 1 = 3\n",
      "3 * 2 = 6\n",
      "3 * 3 = 9\n",
      "3 * 4 = 12\n",
      "3 * 5 = 15\n",
      "3 * 6 = 18\n",
      "3 * 7 = 21\n",
      "3 * 8 = 24\n",
      "3 * 9 = 27\n",
      "********************\n",
      "4 * 1 = 4\n",
      "4 * 2 = 8\n",
      "4 * 3 = 12\n",
      "4 * 4 = 16\n",
      "4 * 5 = 20\n",
      "4 * 6 = 24\n",
      "4 * 7 = 28\n",
      "4 * 8 = 32\n",
      "4 * 9 = 36\n",
      "********************\n",
      "5 * 1 = 5\n",
      "5 * 2 = 10\n",
      "5 * 3 = 15\n",
      "5 * 4 = 20\n",
      "5 * 5 = 25\n",
      "5 * 6 = 30\n",
      "5 * 7 = 35\n",
      "5 * 8 = 40\n",
      "5 * 9 = 45\n",
      "********************\n",
      "6 * 1 = 6\n",
      "6 * 2 = 12\n",
      "6 * 3 = 18\n",
      "6 * 4 = 24\n",
      "6 * 5 = 30\n",
      "6 * 6 = 36\n",
      "6 * 7 = 42\n",
      "6 * 8 = 48\n",
      "6 * 9 = 54\n",
      "********************\n",
      "7 * 1 = 7\n",
      "7 * 2 = 14\n",
      "7 * 3 = 21\n",
      "7 * 4 = 28\n",
      "7 * 5 = 35\n",
      "7 * 6 = 42\n",
      "7 * 7 = 49\n",
      "7 * 8 = 56\n",
      "7 * 9 = 63\n",
      "********************\n",
      "8 * 1 = 8\n",
      "8 * 2 = 16\n",
      "8 * 3 = 24\n",
      "8 * 4 = 32\n",
      "8 * 5 = 40\n",
      "8 * 6 = 48\n",
      "8 * 7 = 56\n",
      "8 * 8 = 64\n",
      "8 * 9 = 72\n",
      "********************\n",
      "9 * 1 = 9\n",
      "9 * 2 = 18\n",
      "9 * 3 = 27\n",
      "9 * 4 = 36\n",
      "9 * 5 = 45\n",
      "9 * 6 = 54\n",
      "9 * 7 = 63\n",
      "9 * 8 = 72\n",
      "9 * 9 = 81\n",
      "********************\n"
     ]
    }
   ],
   "source": [
    "for i in range(1,10): # 1부터 시작하여 9까지 1씩 증가\n",
    "    for j in range(1,10): # 1부터 시작하여 9까지 1씩 증가\n",
    "        print( i,\"*\",j,\"=\",i*j) # 구구단 출력\n",
    "    print(\"********************\") # 단 끝나고 줄 출력\n",
    "# range와 단 변경표시의 순서에 유의"
   ]
  },
  {
   "cell_type": "code",
   "execution_count": 19,
   "id": "03587ab1",
   "metadata": {},
   "outputs": [
    {
     "name": "stdout",
     "output_type": "stream",
     "text": [
      "*********\n",
      "********\n",
      "*******\n",
      "******\n",
      "*****\n",
      "****\n",
      "***\n",
      "**\n",
      "*\n"
     ]
    }
   ],
   "source": [
    "for i in range(1,10): # i는 1부터 시작하여 9까지 1씩 증가\n",
    "    for j in range(i,10): # j는 i부터 시작하여 9까지 1씩 증가\n",
    "        print( \"*\",end=\"\") # 별 출력\n",
    "    print(end=\"\\n\") # 줄 바꿈"
   ]
  },
  {
   "cell_type": "code",
   "execution_count": 20,
   "id": "3f7f6f78",
   "metadata": {},
   "outputs": [
    {
     "name": "stdout",
     "output_type": "stream",
     "text": [
      "*********\n",
      "********\n",
      "*******\n",
      "******\n",
      "*****\n",
      "****\n",
      "***\n",
      "**\n",
      "*\n"
     ]
    }
   ],
   "source": [
    "# for 반복문은 while True: 의 무한 반복문으로 고쳐서 작성\n",
    "i=1 # 반복 카운터, 초기화\n",
    "while True: # 무한루프 사용\n",
    "    j=i # 반복 카운터, 초기화\n",
    "    while True: # 무한루프 사용\n",
    "        if(j==10): break # 만약 j가 10이라면 안쪽 while문 나가기\n",
    "        print( \"*\",end=\"\") # 별 출력\n",
    "        j+=1 # j값 1씩 증가\n",
    "    if(i==10): break # 만약 i가 10이라면 바깥쪽 while문 나가기\n",
    "    print(end=\"\\n\") # 줄 바꿈\n",
    "    i+=1 # i값 1씩 증가"
   ]
  },
  {
   "cell_type": "code",
   "execution_count": 22,
   "id": "cafade05",
   "metadata": {},
   "outputs": [
    {
     "name": "stdout",
     "output_type": "stream",
     "text": [
      "1 월 :1,2,3,4,5,6,7,8,9,10,11,12,13,14,15,16,17,18,19,20,21,22,23,24,25,26,27,28,29,30,31,\n",
      "2 월 :1,2,3,4,5,6,7,8,9,10,11,12,13,14,15,16,17,18,19,20,21,22,23,24,25,26,27,28,\n",
      "3 월 :1,2,3,4,5,6,7,8,9,10,11,12,13,14,15,16,17,18,19,20,21,22,23,24,25,26,27,28,29,30,31,\n",
      "4 월 :1,2,3,4,5,6,7,8,9,10,11,12,13,14,15,16,17,18,19,20,21,22,23,24,25,26,27,28,29,30,\n",
      "5 월 :1,2,3,4,5,6,7,8,9,10,11,12,13,14,15,16,17,18,19,20,21,22,23,24,25,26,27,28,29,30,31,\n",
      "6 월 :1,2,3,4,5,6,7,8,9,10,11,12,13,14,15,16,17,18,19,20,21,22,23,24,25,26,27,28,29,30,\n",
      "7 월 :1,2,3,4,5,6,7,8,9,10,11,12,13,14,15,16,17,18,19,20,21,22,23,24,25,26,27,28,29,30,31,\n",
      "8 월 :1,2,3,4,5,6,7,8,9,10,11,12,13,14,15,16,17,18,19,20,21,22,23,24,25,26,27,28,29,30,31,\n",
      "9 월 :1,2,3,4,5,6,7,8,9,10,11,12,13,14,15,16,17,18,19,20,21,22,23,24,25,26,27,28,29,30,\n",
      "10 월 :1,2,3,4,5,6,7,8,9,10,11,12,13,14,15,16,17,18,19,20,21,22,23,24,25,26,27,28,29,30,31,\n",
      "11 월 :1,2,3,4,5,6,7,8,9,10,11,12,13,14,15,16,17,18,19,20,21,22,23,24,25,26,27,28,29,30,\n",
      "12 월 :1,2,3,4,5,6,7,8,9,10,11,12,13,14,15,16,17,18,19,20,21,22,23,24,25,26,27,28,29,30,31,\n"
     ]
    }
   ],
   "source": [
    "# 심화실습1 (달력)\n",
    "Mon=1 # 월 변수 선언, 값으로 1 대입\n",
    "for LastDay in [31,28,31,30,31,30,31,31,30,31,30,31]: # 리스트 배열 순서대로 반복문 실행\n",
    "    print(Mon,\"월 :\",end=\"\") # 월을 출력\n",
    "    for Day in range(1,LastDay+1): # 1부터 마지막날까지 출력\n",
    "        print(Day,end=\",\") # 날짜를 출력 중간에 쉼표출력\n",
    "    print(end=\"\\n\") # 달이 바뀌면 줄 바꿈\n",
    "    Mon+=1 # 월 넘기기"
   ]
  },
  {
   "cell_type": "code",
   "execution_count": 24,
   "id": "6cb2f2ad",
   "metadata": {},
   "outputs": [
    {
     "name": "stdout",
     "output_type": "stream",
     "text": [
      "2 * 2 = 4\t3 * 2 = 6\t4 * 2 = 8\n",
      "2 * 3 = 6\t3 * 3 = 9\t4 * 3 = 12\n",
      "2 * 4 = 8\t3 * 4 = 12\t4 * 4 = 16\n",
      "2 * 5 = 10\t3 * 5 = 15\t4 * 5 = 20\n",
      "2 * 6 = 12\t3 * 6 = 18\t4 * 6 = 24\n",
      "2 * 7 = 14\t3 * 7 = 21\t4 * 7 = 28\n",
      "2 * 8 = 16\t3 * 8 = 24\t4 * 8 = 32\n",
      "2 * 9 = 18\t3 * 9 = 27\t4 * 9 = 36\n",
      "\n",
      "5 * 2 = 10\t6 * 2 = 12\t7 * 2 = 14\n",
      "5 * 3 = 15\t6 * 3 = 18\t7 * 3 = 21\n",
      "5 * 4 = 20\t6 * 4 = 24\t7 * 4 = 28\n",
      "5 * 5 = 25\t6 * 5 = 30\t7 * 5 = 35\n",
      "5 * 6 = 30\t6 * 6 = 36\t7 * 6 = 42\n",
      "5 * 7 = 35\t6 * 7 = 42\t7 * 7 = 49\n",
      "5 * 8 = 40\t6 * 8 = 48\t7 * 8 = 56\n",
      "5 * 9 = 45\t6 * 9 = 54\t7 * 9 = 63\n",
      "\n",
      "8 * 2 = 16\t9 * 2 = 18\t\n",
      "8 * 3 = 24\t9 * 3 = 27\t\n",
      "8 * 4 = 32\t9 * 4 = 36\t\n",
      "8 * 5 = 40\t9 * 5 = 45\t\n",
      "8 * 6 = 48\t9 * 6 = 54\t\n",
      "8 * 7 = 56\t9 * 7 = 63\t\n",
      "8 * 8 = 64\t9 * 8 = 72\t\n",
      "8 * 9 = 72\t9 * 9 = 81\t\n",
      "\n"
     ]
    }
   ],
   "source": [
    "# 심화실습2 (구구단)\n",
    "for i in range(2,10,3): # i는 2부터 9까지 3씩 증가\n",
    "    for j in range(2,10): # j는 2부터 9까지 1씩 증가\n",
    "        print(i,\"*\",j,\"=\",i*j,end=\"\\t\") # i단 구구단 출력\n",
    "        print(i+1,\"*\",j,\"=\",(i+1)*j,end=\"\\t\") # i+1단의 구구단 출력\n",
    "        if(i+2!=10): print(i+2,\"*\",j,\"=\",(i+2)*j,end=\"\\n\") # i+2단의 구구단 출력 + 줄 바꿈\n",
    "        else: print(end=\"\\n\") # i+2가 10이라면 구구단 없이 줄만 바꿈\n",
    "    print(end=\"\\n\") # 단이 끝나면 줄 바꿈"
   ]
  },
  {
   "cell_type": "code",
   "execution_count": 26,
   "id": "9442baec",
   "metadata": {},
   "outputs": [
    {
     "name": "stdout",
     "output_type": "stream",
     "text": [
      "2 * 2 = 4\t5 * 2 = 10\t8 * 2 = 16\n",
      "2 * 3 = 6\t5 * 3 = 15\t8 * 3 = 24\n",
      "2 * 4 = 8\t5 * 4 = 20\t8 * 4 = 32\n",
      "2 * 5 = 10\t5 * 5 = 25\t8 * 5 = 40\n",
      "2 * 6 = 12\t5 * 6 = 30\t8 * 6 = 48\n",
      "2 * 7 = 14\t5 * 7 = 35\t8 * 7 = 56\n",
      "2 * 8 = 16\t5 * 8 = 40\t8 * 8 = 64\n",
      "2 * 9 = 18\t5 * 9 = 45\t8 * 9 = 72\n",
      "\n",
      "3 * 2 = 6\t6 * 2 = 12\t9 * 2 = 18\n",
      "3 * 3 = 9\t6 * 3 = 18\t9 * 3 = 27\n",
      "3 * 4 = 12\t6 * 4 = 24\t9 * 4 = 36\n",
      "3 * 5 = 15\t6 * 5 = 30\t9 * 5 = 45\n",
      "3 * 6 = 18\t6 * 6 = 36\t9 * 6 = 54\n",
      "3 * 7 = 21\t6 * 7 = 42\t9 * 7 = 63\n",
      "3 * 8 = 24\t6 * 8 = 48\t9 * 8 = 72\n",
      "3 * 9 = 27\t6 * 9 = 54\t9 * 9 = 81\n",
      "\n",
      "4 * 2 = 8\t7 * 2 = 14\t\n",
      "4 * 3 = 12\t7 * 3 = 21\t\n",
      "4 * 4 = 16\t7 * 4 = 28\t\n",
      "4 * 5 = 20\t7 * 5 = 35\t\n",
      "4 * 6 = 24\t7 * 6 = 42\t\n",
      "4 * 7 = 28\t7 * 7 = 49\t\n",
      "4 * 8 = 32\t7 * 8 = 56\t\n",
      "4 * 9 = 36\t7 * 9 = 63\t\n",
      "\n"
     ]
    }
   ],
   "source": [
    "# 심화실습3 (구구단)\n",
    "for i in range(2,5): # i는 2부터 4까지 1씩 증가\n",
    "    for j in range(2,10): # j는 2부터 9까지 1씩 증가\n",
    "        print(i,\"*\",j,\"=\",i*j,end=\"\\t\") # i단 구구단 출력\n",
    "        print(i+3,\"*\",j,\"=\",(i+3)*j,end=\"\\t\") # i+3단 구구단 출력\n",
    "        if(i+6!=10): print(i+6,\"*\",j,\"=\",(i+6)*j,end=\"\\n\") # i+6단 구구단 출력 + 줄 바꿈\n",
    "        else: print(end=\"\\n\") # i+6이 10이라면 구구단 없이 줄만 바꿈\n",
    "    print(end=\"\\n\") # 단이 끝나면 줄 바꿈"
   ]
  },
  {
   "cell_type": "code",
   "execution_count": null,
   "id": "361cc56f",
   "metadata": {},
   "outputs": [],
   "source": []
  }
 ],
 "metadata": {
  "kernelspec": {
   "display_name": "Python 3 (ipykernel)",
   "language": "python",
   "name": "python3"
  },
  "language_info": {
   "codemirror_mode": {
    "name": "ipython",
    "version": 3
   },
   "file_extension": ".py",
   "mimetype": "text/x-python",
   "name": "python",
   "nbconvert_exporter": "python",
   "pygments_lexer": "ipython3",
   "version": "3.8.8rc1"
  }
 },
 "nbformat": 4,
 "nbformat_minor": 5
}
