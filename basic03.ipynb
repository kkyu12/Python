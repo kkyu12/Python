{
 "cells": [
  {
   "cell_type": "code",
   "execution_count": 1,
   "id": "ad0902c3",
   "metadata": {},
   "outputs": [
    {
     "name": "stdout",
     "output_type": "stream",
     "text": [
      "a= 10  b= 1200  c= 1200  d= -1234\n"
     ]
    }
   ],
   "source": [
    "a=10 # a라는 변수에 10이라는 값을 대입\n",
    "b=1200 # b라는 변수에 1200이라는 값을 대입\n",
    "c=+1200 # c라는 변수에 1200이라는 값을 대입\n",
    "d=-1234 # d라는 변수에 -1234라는 값을 대입\n",
    "print(\"a=\",a ,\" b=\",b ,\" c=\",c, \" d=\",d) # 각각의 값을 출력"
   ]
  },
  {
   "cell_type": "code",
   "execution_count": 2,
   "id": "a2e04609",
   "metadata": {},
   "outputs": [
    {
     "name": "stdout",
     "output_type": "stream",
     "text": [
      "a+b= 255510442125830710419794796092205501516501430550152055055015215205510\n",
      "a*b= 4945662337664182251045508647662854964228779292407290431545377548887919021506299614458775856747962183641984855519033366861090951680866469\n"
     ]
    }
   ],
   "source": [
    "# 파이썬에서는 상당히 큰 숫자의 계산이 가능함\n",
    "a=21098134232408921340891340984312089423089341208943120934120894312089\n",
    "# a라는 변수에 아주 큰 값을 대입\n",
    "b=234412307893421789078903455107893412093412089341208934120894320893421\n",
    "# b라는 변수에 아주 큰 값을 대입\n",
    "print(\"a+b=\", a+b) # a+b값을 출력\n",
    "print(\"a*b=\", a*b) # a*b값을 출력"
   ]
  },
  {
   "cell_type": "code",
   "execution_count": 9,
   "id": "2924f50b",
   "metadata": {},
   "outputs": [
    {
     "data": {
      "text/plain": [
       "10"
      ]
     },
     "execution_count": 9,
     "metadata": {},
     "output_type": "execute_result"
    }
   ],
   "source": [
    "# 0x~ : 16진수   0b~ : 2진수\n",
    "0b1010 # 2진수 1010은 10진수로 10"
   ]
  },
  {
   "cell_type": "code",
   "execution_count": 6,
   "id": "b61cc33d",
   "metadata": {},
   "outputs": [
    {
     "data": {
      "text/plain": [
       "15"
      ]
     },
     "execution_count": 6,
     "metadata": {},
     "output_type": "execute_result"
    }
   ],
   "source": [
    "0b1111 # 2진수 1111은 10진수로 15"
   ]
  },
  {
   "cell_type": "code",
   "execution_count": 7,
   "id": "fae0a9a6",
   "metadata": {},
   "outputs": [
    {
     "data": {
      "text/plain": [
       "1"
      ]
     },
     "execution_count": 7,
     "metadata": {},
     "output_type": "execute_result"
    }
   ],
   "source": [
    "0b0001 # 2진수 0001은 10진수로 1"
   ]
  },
  {
   "cell_type": "code",
   "execution_count": 8,
   "id": "cc79c291",
   "metadata": {
    "scrolled": true
   },
   "outputs": [
    {
     "ename": "SyntaxError",
     "evalue": "invalid digit '2' in binary literal (529644667.py, line 1)",
     "output_type": "error",
     "traceback": [
      "\u001b[1;36m  Input \u001b[1;32mIn [8]\u001b[1;36m\u001b[0m\n\u001b[1;33m    0b0201 # 2진수는 0 1 을 사용하고 해당숫자가 넘어가면 자리수가 증가하므로 에러\u001b[0m\n\u001b[1;37m       ^\u001b[0m\n\u001b[1;31mSyntaxError\u001b[0m\u001b[1;31m:\u001b[0m invalid digit '2' in binary literal\n"
     ]
    }
   ],
   "source": [
    "0b0201 # 2진수는 0 1 을 사용하고 해당숫자가 넘어가면 자리수가 증가하므로 에러"
   ]
  },
  {
   "cell_type": "code",
   "execution_count": 1,
   "id": "21987fc2",
   "metadata": {},
   "outputs": [
    {
     "data": {
      "text/plain": [
       "16"
      ]
     },
     "execution_count": 1,
     "metadata": {},
     "output_type": "execute_result"
    }
   ],
   "source": [
    "0x10 # 16진수 0x10은 10진수로 16"
   ]
  },
  {
   "cell_type": "code",
   "execution_count": 2,
   "id": "ebe9202f",
   "metadata": {},
   "outputs": [
    {
     "data": {
      "text/plain": [
       "26"
      ]
     },
     "execution_count": 2,
     "metadata": {},
     "output_type": "execute_result"
    }
   ],
   "source": [
    "0x1a # 16진수 0x1a은 10진수로 26"
   ]
  },
  {
   "cell_type": "code",
   "execution_count": 3,
   "id": "9726bfa0",
   "metadata": {},
   "outputs": [
    {
     "data": {
      "text/plain": [
       "47"
      ]
     },
     "execution_count": 3,
     "metadata": {},
     "output_type": "execute_result"
    }
   ],
   "source": [
    "0x2f # 16진수 0x2f은 10진수로 47"
   ]
  },
  {
   "cell_type": "code",
   "execution_count": 4,
   "id": "bba27439",
   "metadata": {},
   "outputs": [
    {
     "ename": "SyntaxError",
     "evalue": "invalid syntax (3898058365.py, line 1)",
     "output_type": "error",
     "traceback": [
      "\u001b[1;36m  Input \u001b[1;32mIn [4]\u001b[1;36m\u001b[0m\n\u001b[1;33m    0x3z # z는 16진수에 없으므로 에러\u001b[0m\n\u001b[1;37m       ^\u001b[0m\n\u001b[1;31mSyntaxError\u001b[0m\u001b[1;31m:\u001b[0m invalid syntax\n"
     ]
    }
   ],
   "source": [
    "0x3z # z는 16진수에 없으므로 에러"
   ]
  },
  {
   "cell_type": "code",
   "execution_count": 10,
   "id": "98fba526",
   "metadata": {
    "scrolled": true
   },
   "outputs": [
    {
     "name": "stdout",
     "output_type": "stream",
     "text": [
      "0xc\n",
      "0o26\n",
      "0b100001\n"
     ]
    }
   ],
   "source": [
    "# hex() 16진수로 변환 // bin() 2진수로 변환 // oct() 8진수로 변환\n",
    "print(hex(12));print(oct(22));print(bin(33))\n",
    "# 12를 16진법으로 변환 // 22를 8진수로 변환 // 33을 2진수로 변환"
   ]
  },
  {
   "cell_type": "code",
   "execution_count": 12,
   "id": "0da9b66b",
   "metadata": {},
   "outputs": [
    {
     "data": {
      "text/plain": [
       "9460000000000.0"
      ]
     },
     "execution_count": 12,
     "metadata": {},
     "output_type": "execute_result"
    }
   ],
   "source": [
    "# 1광년의 표현\n",
    "9.46e12 # 9조4600억km = 9460000000000km = 9.46 * 10 ^ 12 km (10의 12승)"
   ]
  },
  {
   "cell_type": "code",
   "execution_count": 13,
   "id": "279ecb04",
   "metadata": {},
   "outputs": [
    {
     "data": {
      "text/plain": [
       "1.2131232417683412e+32"
      ]
     },
     "execution_count": 13,
     "metadata": {},
     "output_type": "execute_result"
    }
   ],
   "source": [
    "# 실수형과 정수형의 연산을 수행하면 유효숫자만큼만 표현되는데 주의해야 함\n",
    "9.46e12 + 121312324176834127678963412341298"
   ]
  },
  {
   "cell_type": "code",
   "execution_count": 15,
   "id": "da082632",
   "metadata": {},
   "outputs": [
    {
     "ename": "SyntaxError",
     "evalue": "invalid syntax (3138872613.py, line 4)",
     "output_type": "error",
     "traceback": [
      "\u001b[1;36m  Input \u001b[1;32mIn [15]\u001b[1;36m\u001b[0m\n\u001b[1;33m    a=1+2i # 변수 a에 1+2i를 대입 허나 파이썬에선 j를 사용해야함 에러\u001b[0m\n\u001b[1;37m         ^\u001b[0m\n\u001b[1;31mSyntaxError\u001b[0m\u001b[1;31m:\u001b[0m invalid syntax\n"
     ]
    }
   ],
   "source": [
    "# 실제 복소수는 1+2i 와 같이 허수부분이 i로 표현하나 파이썬에서는 j를 사용하는 것에 유의해야 함\n",
    "# 더하기, 빼기 (a+bi)+(c+di) = (a+c)+(b+d)i \n",
    "# 곱하기 (a+bi)(c+di) = ac+(ad)i+(bc)i+bd(i*i) = (ac-bd)+(ad+bc)i\n",
    "a=1+2i # 변수 a에 1+2i를 대입 허나 파이썬에선 j를 사용해야함 에러"
   ]
  },
  {
   "cell_type": "code",
   "execution_count": 16,
   "id": "7536e1a3",
   "metadata": {},
   "outputs": [
    {
     "name": "stdout",
     "output_type": "stream",
     "text": [
      "(2+0j) (5+0j)\n"
     ]
    }
   ],
   "source": [
    "a=1+2j # 변수 a에 복소수 1+2j를 대입\n",
    "b=1-2j # 변수 b에 복소수 1-2j를 대입\n",
    "print(a+b, a*b) # 복소수 a b를 더한 값과 곱한 값을 계산하여 출력"
   ]
  },
  {
   "cell_type": "code",
   "execution_count": 18,
   "id": "df8866ff",
   "metadata": {},
   "outputs": [
    {
     "name": "stdout",
     "output_type": "stream",
     "text": [
      "aaabbb\n",
      "aaaaaaaaa\n",
      "bbbbbbbbbbbbbbb\n"
     ]
    }
   ],
   "source": [
    "# 문자형의 덧셈은 문장을 붙이는 것\n",
    "# 곱셈은 존재하지 않지만 다음 예제와 같은 반복은 존재\n",
    "a=\"aaa\" # a라는 변수에 aaa를 대입\n",
    "b=\"bbb\" # b라는 변수에 bbb를 대입\n",
    "print(a+b) # 변수a와 변수 b를 이어서 출력 aaabbb가 출력\n",
    "print(a*3) # 변수a를 3번 출력\n",
    "print(b*5) # 변수b를 5번 출력"
   ]
  },
  {
   "cell_type": "code",
   "execution_count": 19,
   "id": "602602b4",
   "metadata": {},
   "outputs": [
    {
     "ename": "TypeError",
     "evalue": "can't multiply sequence by non-int of type 'str'",
     "output_type": "error",
     "traceback": [
      "\u001b[1;31m---------------------------------------------------------------------------\u001b[0m",
      "\u001b[1;31mTypeError\u001b[0m                                 Traceback (most recent call last)",
      "Input \u001b[1;32mIn [19]\u001b[0m, in \u001b[0;36m<cell line: 1>\u001b[1;34m()\u001b[0m\n\u001b[1;32m----> 1\u001b[0m \u001b[43ma\u001b[49m\u001b[38;5;241;43m*\u001b[39;49m\u001b[43mb\u001b[49m\n",
      "\u001b[1;31mTypeError\u001b[0m: can't multiply sequence by non-int of type 'str'"
     ]
    }
   ],
   "source": [
    "a*b # 문자형끼리 곱셈은 안됨 에러"
   ]
  },
  {
   "cell_type": "code",
   "execution_count": 21,
   "id": "ae65af33",
   "metadata": {},
   "outputs": [
    {
     "name": "stdout",
     "output_type": "stream",
     "text": [
      "호랑이가 \"떡하나 주면 안잡아 먹지\" 라고 말했습니다.\n",
      " 호랑이가 \"떡하나 주면 안잡아 먹지\" 라고 말했습니다.\n",
      "I say \"I Love You\"\n"
     ]
    }
   ],
   "source": [
    "# 확장문자 : 문자열에서 특별한 의미로 처리하여야 할 때 확장 문자열을 사용함\n",
    "# 호랑이가 \"떡하나 주면 안잡아 먹지\" 라고 말했습니다.\n",
    "print ('호랑이가 \"떡하나 주면 안잡아 먹지\" 라고 말했습니다.') \n",
    "print (\" 호랑이가 \\\"떡하나 주면 안잡아 먹지\\\" 라고 말했습니다.\") \n",
    "#I say \" I Love You\"\n",
    "print (\"I say \\\"I Love You\\\"\") "
   ]
  },
  {
   "cell_type": "code",
   "execution_count": 22,
   "id": "1c8e039c",
   "metadata": {},
   "outputs": [
    {
     "ename": "SyntaxError",
     "evalue": "invalid syntax (980747657.py, line 1)",
     "output_type": "error",
     "traceback": [
      "\u001b[1;36m  Input \u001b[1;32mIn [22]\u001b[1;36m\u001b[0m\n\u001b[1;33m    print (\"I say \"I Love You\"\") # 역슬래쉬가 없으므로 에러\u001b[0m\n\u001b[1;37m                   ^\u001b[0m\n\u001b[1;31mSyntaxError\u001b[0m\u001b[1;31m:\u001b[0m invalid syntax\n"
     ]
    }
   ],
   "source": [
    "print (\"I say \"I Love You\"\") # 역슬래쉬가 없으므로 에러"
   ]
  },
  {
   "cell_type": "code",
   "execution_count": 28,
   "id": "517dc3f7",
   "metadata": {},
   "outputs": [
    {
     "name": "stdout",
     "output_type": "stream",
     "text": [
      "오늘 열심히 파이썬을 공부했습니다. \n",
      "내일도 열심히 파이썬을 공부할 것입니다. \n",
      "그래서 일등할 것입니다\n",
      "오늘 열심히 파이썬을 공부했습니다. 내일도 열심히 파이썬을 공부할 것입니다. 그래서 일등할 것입니다\n"
     ]
    }
   ],
   "source": [
    "print(\"\"\"오늘 열심히 파이썬을 공부했습니다. \n",
    "내일도 열심히 파이썬을 공부할 것입니다. \n",
    "그래서 일등할 것입니다\"\"\") \n",
    "# 긴 문자열을 사용하기 위해 따옴표 3개를 사용하면 다음 세 개의 따옴표가 나올 때 까지 \n",
    "# 줄을 바꾸어서 사용할 수 있음\n",
    "print(\"오늘 열심히 파이썬을 공부했습니다. \\\n",
    "내일도 열심히 파이썬을 공부할 것입니다. \\\n",
    "그래서 일등할 것입니다\")\n",
    "# 문자열의 합이나 명령어 연장(\\)방법으로도 표현할 수 있음"
   ]
  },
  {
   "cell_type": "code",
   "execution_count": 29,
   "id": "80b552e1",
   "metadata": {},
   "outputs": [
    {
     "name": "stdout",
     "output_type": "stream",
     "text": [
      "오늘은즐거운일요일\n",
      "오늘 열심히 파이썬을 공부했습니다. \n",
      "내일도 열심히 파이썬을 공부할 것입니다. \n",
      "그래서 일등할 것입니다\n"
     ]
    }
   ],
   "source": [
    "a = \"오늘은\" \"즐거운\" \"일요일\" # 작은 문자열을 나열하여 사용\n",
    "print (a) # 문자열 a를 출력\n",
    "print(\"오늘 열심히 파이썬을 공부했습니다. \\n\"\n",
    "      \"내일도 열심히 파이썬을 공부할 것입니다. \\n\"\n",
    "      \"그래서 일등할 것입니다\")"
   ]
  },
  {
   "cell_type": "code",
   "execution_count": 32,
   "id": "73c76616",
   "metadata": {},
   "outputs": [
    {
     "name": "stdout",
     "output_type": "stream",
     "text": [
      "False\n",
      "True\n",
      "True\n",
      "True\n"
     ]
    }
   ],
   "source": [
    "# 참 = True , 거짓 = False 로 표현(대,소문자 주의)\n",
    "a = True # a라는 변수에 참을 대입\n",
    "b = False # b라는 변수에 거짓을 대입\n",
    "print(a and b) # a 그리고 b를 계산하면 거짓\n",
    "print(a or b) # a 또는 b를 계산하면 참\n",
    "print(a and not b) # a 그리고 b가아님을 계산하면 참\n",
    "a= 0 # a라는 변수에 0을 대입\n",
    "b = a==0 # b라는 변수에 a==0을 대입하면 b에는 참이 대입됨\n",
    "print(b) # b값을 출력하면 참이 출력됨"
   ]
  },
  {
   "cell_type": "code",
   "execution_count": 33,
   "id": "5e3f18a2",
   "metadata": {},
   "outputs": [
    {
     "name": "stdout",
     "output_type": "stream",
     "text": [
      "참\n"
     ]
    }
   ],
   "source": [
    "a = True # a라는 변수에 참을 대입\n",
    "b = False # b라는 변수에 거짓을 대입\n",
    "if 1 > 2 and a and b or b or a: \n",
    "# 조건문을 사용 1>2(거짓) 그리고 a(참) 그리고 b(거짓) 또는 b(거짓) 또는 a(참)\n",
    "# 순서대로 계산한다면 거짓, 거짓, 거짓, 거짓, 참 결과는 참\n",
    "    print (\"참\") # 위의 조건문이 참이라면 “참”출력\n",
    "else: # 위의 조건문이 참이 아니라면\n",
    "    print (\"거짓\") # “거짓”출력"
   ]
  },
  {
   "cell_type": "code",
   "execution_count": 34,
   "id": "776d13ce",
   "metadata": {},
   "outputs": [
    {
     "name": "stdout",
     "output_type": "stream",
     "text": [
      "['빨', '주', '노', '초', '파', '남', '보']\n"
     ]
    }
   ],
   "source": [
    "rainbow = [\"빨\",\"주\",\"노\",\"초\",\"파\",\"남\",\"보\"] # rainbow라는 변수에 값들을 넣어 배열을 생성\n",
    "print(rainbow) # rainbow에 들어있는 값을 출력 / 리스트"
   ]
  },
  {
   "cell_type": "code",
   "execution_count": 35,
   "id": "852068ff",
   "metadata": {},
   "outputs": [
    {
     "name": "stdout",
     "output_type": "stream",
     "text": [
      "빨강 색\n",
      "주황 색\n",
      "노랑 색\n",
      "초록 색\n",
      "파랑 색\n",
      "남색 색\n",
      "보라 색\n"
     ]
    }
   ],
   "source": [
    "rainbow = [\"빨강\",\"주황\",\"노랑\",\"초록\",\"파랑\",\"남색\",\"보라\"]\n",
    "for color in rainbow : # 반복문을 사용\n",
    "    print ( color, \"색\") # rainbow안의 값에 하나씩 순서대로 뒤에 색을 붙여서 출력"
   ]
  },
  {
   "cell_type": "code",
   "execution_count": 36,
   "id": "a919b978",
   "metadata": {},
   "outputs": [
    {
     "name": "stdout",
     "output_type": "stream",
     "text": [
      "빨강 색\n",
      "주황 색\n",
      "노랑 색\n",
      "초록 색\n",
      "파랑 색\n",
      "남색 색\n",
      "보라 색\n"
     ]
    }
   ],
   "source": [
    "rainbow = (\"빨강\",\"주황\",\"노랑\",\"초록\",\"파랑\",\"남색\",\"보라\") # rainbow라는 변수에 값들을 넣어 튜플을 생성\n",
    "for color in rainbow : # 반복문을 사용 / 튜플\n",
    "    print ( color, \"색\") # rainbow안에 값을 하나씩 꺼내 뒤에 색을 붙여 출력"
   ]
  },
  {
   "cell_type": "code",
   "execution_count": null,
   "id": "c5b556de",
   "metadata": {},
   "outputs": [],
   "source": []
  }
 ],
 "metadata": {
  "kernelspec": {
   "display_name": "Python 3 (ipykernel)",
   "language": "python",
   "name": "python3"
  },
  "language_info": {
   "codemirror_mode": {
    "name": "ipython",
    "version": 3
   },
   "file_extension": ".py",
   "mimetype": "text/x-python",
   "name": "python",
   "nbconvert_exporter": "python",
   "pygments_lexer": "ipython3",
   "version": "3.8.8rc1"
  }
 },
 "nbformat": 4,
 "nbformat_minor": 5
}
