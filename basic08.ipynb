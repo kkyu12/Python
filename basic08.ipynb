{
 "cells": [
  {
   "cell_type": "code",
   "execution_count": 1,
   "id": "e9e14862",
   "metadata": {},
   "outputs": [
    {
     "data": {
      "text/plain": [
       "(1, 2, 3, 4, 5)"
      ]
     },
     "execution_count": 1,
     "metadata": {},
     "output_type": "execute_result"
    }
   ],
   "source": [
    "# 컬렉션의 하나로 연속되어 저장되어 묶음으로 관리하는 특별한 자료 저장 형태\n",
    "# 기존 C,Java 프로그램 언어에서 배열(Array)와 비슷하나 조금 다르고, java의 ArrayList와 유사함\n",
    "# 리스트를 지정하면 첨자 0부터 ~ (n-1)까지의 변수로 지정\n",
    "a=[1,2,3,4,5] # 리스트 선언과 초기화\n",
    "a[0],a[1],a[2],a[3],a[4] # 각각의 내용물 출력"
   ]
  },
  {
   "cell_type": "code",
   "execution_count": 2,
   "id": "45d03764",
   "metadata": {},
   "outputs": [
    {
     "data": {
      "text/plain": [
       "(11, 'abc', 12.3333, '안녕', (2+3j))"
      ]
     },
     "execution_count": 2,
     "metadata": {},
     "output_type": "execute_result"
    }
   ],
   "source": [
    "# 리스트 내부에서는 서로 다른 형태의 자료형도 저장이 가능함\n",
    "a=[11,\"abc\",12.3333,\"안녕\",2+3j] # 리스트 선언과 초기화\n",
    "a[0],a[1],a[2],a[3],a[4] # 각각의 내용물 출력"
   ]
  },
  {
   "cell_type": "code",
   "execution_count": 3,
   "id": "2adca6bd",
   "metadata": {},
   "outputs": [
    {
     "data": {
      "text/plain": [
       "[11, 1234, 12.3333, '안녕', '홍길동']"
      ]
     },
     "execution_count": 3,
     "metadata": {},
     "output_type": "execute_result"
    }
   ],
   "source": [
    "# 값의 (형태)변경도 가능\n",
    "a[1]=1234;a[4]=\"홍길동\" # 인덱스 첫번째 값과 네번째 값을 바꿈\n",
    "a # 각각의 내용물 출력"
   ]
  },
  {
   "cell_type": "code",
   "execution_count": 4,
   "id": "f3124166",
   "metadata": {},
   "outputs": [
    {
     "name": "stdout",
     "output_type": "stream",
     "text": [
      "점수( 90 )\n",
      "점수( 80 )\n",
      "점수( 70 )\n",
      "점수( 60 )\n",
      "점수( 30 )\n",
      "총점: 330\n"
     ]
    }
   ],
   "source": [
    "score=[90,80,70,60,30]  # 리스트 선언과 초기화\n",
    "sum=0 # 변수 선언과 초기화\n",
    "for s in score: # 리스트만큼의 반복문\n",
    "    print(\"점수(\",s,\")\") # 각각의 점수를 출력\n",
    "    sum+=s # 각각의 점수를 더함\n",
    "print(\"총점:\",sum); # 총합을 출력"
   ]
  },
  {
   "cell_type": "code",
   "execution_count": 6,
   "id": "56ca8c7d",
   "metadata": {},
   "outputs": [
    {
     "name": "stdout",
     "output_type": "stream",
     "text": [
      "1 1\n",
      "2 2\n",
      "3 3\n",
      "4 4\n",
      "5 5\n"
     ]
    }
   ],
   "source": [
    "# 일반적으로 리스트를 지정하면 첨자 0부터 ~ (n-1)까지의 변수로 지정 \n",
    "# 하지만 역방향으로 –n ~ -1로 지정도 가능\n",
    "a=[1,2,3,4,5] # 리스트 선언과 초기화 // -5 -4 -3 -2 -1 의 인덱스도 통한다\n",
    "print(a[0],a[-5]) # 결과 1 1\n",
    "print(a[1],a[-4]) # 결과 2 2\n",
    "print(a[2],a[-3]) # 결과 3 3\n",
    "print(a[3],a[-2]) # 결과 4 4\n",
    "print(a[4],a[-1]) # 결과 5 5"
   ]
  },
  {
   "cell_type": "code",
   "execution_count": 7,
   "id": "a77ffbe2",
   "metadata": {},
   "outputs": [
    {
     "name": "stdout",
     "output_type": "stream",
     "text": [
      "[3, 4, 5, 6, 7, 8]\n",
      "[1, 2, 3, 4]\n",
      "[6, 7, 8, 9, 10]\n",
      "[1, 4]\n"
     ]
    }
   ],
   "source": [
    "# 리스트의 첨자는 [begin:end:step]으로 표현 가능\n",
    "# 첨자가 0부터 시작하고, end 값은 그 값보다 작을 때까지 임에 주의할 것\n",
    "a=[1,2,3,4,5,6,7,8,9,10] # 리스트 선언과 초기화\n",
    "print(a[2:8]) # 2부터 8보다 작을 때까지(2,3,4,5,6,7)\n",
    "print(a[:4]) # 처음부터 4보다 작을 때까지(0,1,2,3 주의 a[4]제외)\n",
    "print(a[5:]) # 5부터 끝까지\n",
    "print(a[0:6:3]) # 0부터 6보다 작을때 까지(6은 제외 0,3) 3씩 증가하여"
   ]
  },
  {
   "cell_type": "code",
   "execution_count": 8,
   "id": "f79bc77b",
   "metadata": {},
   "outputs": [
    {
     "name": "stdout",
     "output_type": "stream",
     "text": [
      "[7, 8, 9]\n",
      "9\n"
     ]
    }
   ],
   "source": [
    "# 리스트의 요소로 리스트를 저장하여 2차, 3차 및 재귀적인 리스트 형태도 가능함\n",
    "# 배열과 달리 가변 형식의 리스트도 가능함\n",
    "a=[[1,2,3],[4,5,6],[7,8,9]] # 리스트로 구성된 리스트\n",
    "print(a[2]) # 인덱스2의 리스트를 출력\n",
    "print(a[2][2]) # 인덱스 2의 리스트의 인덱스 2 를 출력"
   ]
  },
  {
   "cell_type": "code",
   "execution_count": 9,
   "id": "0904fcdc",
   "metadata": {},
   "outputs": [
    {
     "ename": "IndexError",
     "evalue": "list index out of range",
     "output_type": "error",
     "traceback": [
      "\u001b[1;31m---------------------------------------------------------------------------\u001b[0m",
      "\u001b[1;31mIndexError\u001b[0m                                Traceback (most recent call last)",
      "Input \u001b[1;32mIn [9]\u001b[0m, in \u001b[0;36m<cell line: 1>\u001b[1;34m()\u001b[0m\n\u001b[1;32m----> 1\u001b[0m \u001b[38;5;28mprint\u001b[39m(\u001b[43ma\u001b[49m\u001b[43m[\u001b[49m\u001b[38;5;241;43m1\u001b[39;49m\u001b[43m]\u001b[49m\u001b[43m[\u001b[49m\u001b[38;5;241;43m3\u001b[39;49m\u001b[43m]\u001b[49m)\n",
      "\u001b[1;31mIndexError\u001b[0m: list index out of range"
     ]
    }
   ],
   "source": [
    "print(a[1][3]) # 인덱스가 사이즈를 벗어남 에러"
   ]
  },
  {
   "cell_type": "code",
   "execution_count": 10,
   "id": "c8e4ba55",
   "metadata": {},
   "outputs": [
    {
     "name": "stdout",
     "output_type": "stream",
     "text": [
      "6\n",
      "[[1, 2], [3, 4, 5], 6]\n",
      "6\n",
      "[3, 4, 5]\n"
     ]
    }
   ],
   "source": [
    "print(a[1][2]) # 인덱스 1의 리스트의 인덱스 2 를 출력\n",
    "a=[[1,2],[3,4,5],6] # 가변 형태의 리스트\n",
    "print(a) # 출력\n",
    "print(a[2]) # 인덱스 2의 내용 출력\n",
    "print(a[1]) # 인덱스 1의 내용 출력"
   ]
  },
  {
   "cell_type": "code",
   "execution_count": 11,
   "id": "6a6d6baa",
   "metadata": {},
   "outputs": [
    {
     "data": {
      "text/plain": [
       "[3, 6, 9, 12, 15, 18, 21, 24, 27]"
      ]
     },
     "execution_count": 11,
     "metadata": {},
     "output_type": "execute_result"
    }
   ],
   "source": [
    "# 리스트 컴프리헨션(List Comprehension) 리스트 중 조건을 비교하거나 범위를 주어 선택 사용이 가능한 방법\n",
    "# [요소 for 변수 in (리스트)(range) {if 조건}]\n",
    "# 예제 1 : 1부터 10으로 리스트를 구성하여 그 요소 하나하나에 3을 곱한 것을 구함\n",
    "a=[ n * 3 for n in range (1,10)]\n",
    "a # 출력"
   ]
  },
  {
   "cell_type": "code",
   "execution_count": 12,
   "id": "d4ad3c27",
   "metadata": {},
   "outputs": [
    {
     "data": {
      "text/plain": [
       "[6, 12, 18, 24]"
      ]
     },
     "execution_count": 12,
     "metadata": {},
     "output_type": "execute_result"
    }
   ],
   "source": [
    "# 예제 2 : 1부터 10중 2로 나누어 나머지가 0인(짝수인) 숫자로 리스트를 구성하여 \n",
    "# 그 요소 하나하나에 3을 곱한 것을 구함\n",
    "a=[ n * 3 for n in range (1,10) if n % 2 ==0 ]\n",
    "a # 출력"
   ]
  },
  {
   "cell_type": "code",
   "execution_count": 14,
   "id": "366fd9d9",
   "metadata": {},
   "outputs": [],
   "source": [
    "# 리스트 연습\n",
    "def titleprint(): # 제목 출력 함수 선언\n",
    "    pass # 일단 패스로 정의하고 진행\n",
    "def itemprint(name,kortotal,engtotal,mathtotal): # 내용 출력 함수 선언\n",
    "    pass # 일단 패스로 정의하고 진행\n",
    "def tailprint(): # 꼬리 출력 함수 선언\n",
    "    pass # 일단 패스로 정의하고 진행\n",
    "\n",
    "#데이터 2차원 리스트\n",
    "score=[[\"나연\",100,90,100],\n",
    "    [\"정연\",90,90,100],\n",
    "    [\"모모\",80,70,90],\n",
    "    [\"사나\",90,90,80],\n",
    "    [\"지효\",100,80,80],\n",
    "    [\"미나\",50,90,90],\n",
    "    [\"다현\",80,60,100],\n",
    "    [\"채영\",70,80,90],\n",
    "    [\"쯔위\",100,90,90]]\n",
    "#프로그램을 보기 좋게 하려고 상수를 정의 \n",
    "name=0;kor=1;eng=2;mat=3\n",
    "\n",
    "#여기부터 프로그램 \n",
    "titleprint() # 제목 출력 함수\n",
    "for one_student in score: # 2차원 리스트 크기만큼 반복하는 반복문\n",
    "    itemprint(one_student[name],one_student[kor],one_student[eng],one_student[mat]) # 내용 출력 함수\n",
    "tailprint() # 꼬리 출력 함수"
   ]
  },
  {
   "cell_type": "code",
   "execution_count": 25,
   "id": "e90515ba",
   "metadata": {
    "scrolled": true
   },
   "outputs": [
    {
     "name": "stdout",
     "output_type": "stream",
     "text": [
      "==================================================\n",
      "이름\t국어\t영어\t수학\t총점\t평균\n",
      "==================================================\n",
      "나연 \t 100 \t 90 \t 100 \t 290 \t 96\n",
      "정연 \t 90 \t 90 \t 100 \t 280 \t 93\n",
      "모모 \t 80 \t 70 \t 90 \t 240 \t 80\n",
      "사나 \t 90 \t 90 \t 80 \t 260 \t 86\n",
      "지효 \t 100 \t 80 \t 80 \t 260 \t 86\n",
      "미나 \t 50 \t 90 \t 90 \t 230 \t 76\n",
      "다현 \t 80 \t 60 \t 100 \t 240 \t 80\n",
      "채영 \t 70 \t 80 \t 90 \t 240 \t 80\n",
      "쯔위 \t 100 \t 90 \t 90 \t 280 \t 93\n",
      "==================================================\n",
      "반총점\t 760 \t 740 \t 820 \t 2320 \t 85.0\n",
      "==================================================\n"
     ]
    }
   ],
   "source": [
    "# pass로 비워둔 곳을 채우기\n",
    "def titleprint(): # 제목 출력 함수 선언\n",
    "    print(\"=\"*50) # 등호 50개 출력\n",
    "    print(\"이름\\t국어\\t영어\\t수학\\t총점\\t평균\") # 제목 출력\n",
    "    print(\"=\"*50) # 등호 50개 출력\n",
    "    \n",
    "def itemprint(name,kor,eng,mat): # 내용 출력 함수 선언\n",
    "    print(name,\"\\t\",kor,\"\\t\",eng,\"\\t\",mat,\"\\t\",kor+eng+mat,\"\\t\",(kor+eng+mat)//3)\n",
    "    # 이름 국어점수 영어점수 수학점수 총점 평균을 각각 출력\n",
    "    \n",
    "def tailprint(): # 꼬리 출력 함수 선언\n",
    "    totkor=0 # 변수 선언과 초기화\n",
    "    toteng=0 # 변수 선언과 초기화\n",
    "    totmat=0 # 변수 선언과 초기화\n",
    "    for one_student in score: # 점수의 개수만큼 반복문\n",
    "        totkor+=one_student[kor] # 국어 점수의 총합 구하기\n",
    "        toteng+=one_student[eng] # 여어 점수의 총합 구하기\n",
    "        totmat+=one_student[mat] # 수학 점수의 총합 구하기\n",
    "    print(\"=\"*50) # 등호 50개 출력\n",
    "    print(\"반총점\\t\",totkor,\"\\t\",toteng,\"\\t\",totmat,\"\\t\"\\\n",
    "    ,(totkor+toteng+totmat),\"\\t\",(totkor+toteng+totmat)/3//9) \n",
    "# 각 과목의 총합과 모든 총합, 그에 따른 평균을 출력\n",
    "    print(\"=\"*50) # 등호 50개 출력\n",
    "    \n",
    "#데이터 2차원 리스트\n",
    "score=[[\"나연\",100,90,100],\n",
    "    [\"정연\",90,90,100],\n",
    "    [\"모모\",80,70,90],\n",
    "    [\"사나\",90,90,80],\n",
    "    [\"지효\",100,80,80],\n",
    "    [\"미나\",50,90,90],\n",
    "    [\"다현\",80,60,100],\n",
    "    [\"채영\",70,80,90],\n",
    "    [\"쯔위\",100,90,90]]\n",
    "#프로그램을 보기 좋게 하려고 상수를 정의 \n",
    "name=0;kor=1;eng=2;mat=3\n",
    "\n",
    "#여기부터 프로그램 \n",
    "titleprint() # 제목 출력 함수\n",
    "for one_student in score: # 2차원 리스트 크기만큼 반복하는 반복문\n",
    "    itemprint(one_student[name],one_student[kor],one_student[eng],one_student[mat]) # 내용 출력 함수\n",
    "tailprint() # 꼬리 출력 함수"
   ]
  },
  {
   "cell_type": "code",
   "execution_count": 17,
   "id": "88b2b209",
   "metadata": {
    "scrolled": true
   },
   "outputs": [
    {
     "name": "stdout",
     "output_type": "stream",
     "text": [
      "[1, 2, 3, 4, 5]\n",
      "[1, 2, 4, 5]\n",
      "[1, 2, 5]\n",
      "[]\n"
     ]
    },
    {
     "ename": "NameError",
     "evalue": "name 'a' is not defined",
     "output_type": "error",
     "traceback": [
      "\u001b[1;31m---------------------------------------------------------------------------\u001b[0m",
      "\u001b[1;31mNameError\u001b[0m                                 Traceback (most recent call last)",
      "Input \u001b[1;32mIn [17]\u001b[0m, in \u001b[0;36m<cell line: 14>\u001b[1;34m()\u001b[0m\n\u001b[0;32m     12\u001b[0m \u001b[38;5;28mprint\u001b[39m(a) \u001b[38;5;66;03m# 리스트 출력\u001b[39;00m\n\u001b[0;32m     13\u001b[0m \u001b[38;5;28;01mdel\u001b[39;00m a \u001b[38;5;66;03m#a공간도 지움\u001b[39;00m\n\u001b[1;32m---> 14\u001b[0m \u001b[38;5;28mprint\u001b[39m(\u001b[43ma\u001b[49m)\n",
      "\u001b[1;31mNameError\u001b[0m: name 'a' is not defined"
     ]
    }
   ],
   "source": [
    "# 리스트 생성시 처음 값을 지정하거나, 삽입(append),  해당 위치 삭제(del), 전부삭제(clear)하여 값을 지정함\n",
    "# 리스트값을 주고 생성한 후 변수를 지우는 del 명령어로 삭제가 가능함\n",
    "# del a[2]로 2번 리스트요소를 삭제하면 뒤에 리스트들이 앞으로 당겨짐\n",
    "# a.clear를 사용하면 모든 리스트가 삭제됨 빈 리스트는 남음\n",
    "a=[1,2,3,4,5] # 리스트 선언과 값 대입\n",
    "print(a) # 리스트 출력\n",
    "del a[2] # 2번 리스트요소 삭제\n",
    "print(a) # 리스트 출력\n",
    "del a[2] # 2번 리스트요소 삭제\n",
    "print(a) # 리스트 출력\n",
    "a.clear() # 리스트 전부 지움\n",
    "print(a) # 리스트 출력\n",
    "del a # a공간도 지움\n",
    "print(a) # 리스트 출력 아무것도 없으므로 에러"
   ]
  },
  {
   "cell_type": "code",
   "execution_count": 21,
   "id": "0dfbc847",
   "metadata": {},
   "outputs": [
    {
     "ename": "NameError",
     "evalue": "name 'a' is not defined",
     "output_type": "error",
     "traceback": [
      "\u001b[1;31m---------------------------------------------------------------------------\u001b[0m",
      "\u001b[1;31mNameError\u001b[0m                                 Traceback (most recent call last)",
      "Input \u001b[1;32mIn [21]\u001b[0m, in \u001b[0;36m<cell line: 3>\u001b[1;34m()\u001b[0m\n\u001b[0;32m      1\u001b[0m \u001b[38;5;66;03m# a.append(값)으로 리스트를 추가하기 위하여 최소 빈 리스트는 정의되어 있어야 함\u001b[39;00m\n\u001b[0;32m      2\u001b[0m \u001b[38;5;66;03m# 리스트의 맨 뒤로부터 하나씩 요소가 추가되어 들어감\u001b[39;00m\n\u001b[1;32m----> 3\u001b[0m \u001b[38;5;28;01mdel\u001b[39;00m a \u001b[38;5;66;03m# a공간을 지움\u001b[39;00m\n\u001b[0;32m      4\u001b[0m a\u001b[38;5;241m.\u001b[39mappend(\u001b[38;5;241m1\u001b[39m) \u001b[38;5;66;03m# 리스트가 정의되어 있지 않은 경우 추가는 불가\u001b[39;00m\n\u001b[0;32m      5\u001b[0m a\u001b[38;5;241m=\u001b[39m[] \u001b[38;5;66;03m# 빈 리스트를 정의\u001b[39;00m\n",
      "\u001b[1;31mNameError\u001b[0m: name 'a' is not defined"
     ]
    }
   ],
   "source": [
    "# a.append(값)으로 리스트를 추가하기 위하여 최소 빈 리스트는 정의되어 있어야 함\n",
    "# 리스트의 맨 뒤로부터 하나씩 요소가 추가되어 들어감\n",
    "del a # a공간을 지움\n",
    "a.append(1) # 리스트가 정의되어 있지 않은 경우 추가는 불가"
   ]
  },
  {
   "cell_type": "code",
   "execution_count": 23,
   "id": "6ebf6aaf",
   "metadata": {},
   "outputs": [
    {
     "name": "stdout",
     "output_type": "stream",
     "text": [
      "[1, 3, 5]\n",
      "[4, 5, 6, 10]\n"
     ]
    }
   ],
   "source": [
    "a=[] # 빈 리스트를 정의\n",
    "a.append(1) # 1값의 리스트요소를 추가\n",
    "a.append(3) # 3값의 리스트요소를 추가\n",
    "a.append(5) # 5값의 리스트요소를 추가\n",
    "print(a) # 리스트 출력\n",
    "a=[4,5,6] # 기존 a를 무시하고 다시 정의\n",
    "a.append(10) # 10값의 리스트요소를 추가\n",
    "print(a) # 리스트 출력"
   ]
  },
  {
   "cell_type": "code",
   "execution_count": 26,
   "id": "6a42fe1d",
   "metadata": {},
   "outputs": [
    {
     "name": "stdout",
     "output_type": "stream",
     "text": [
      "[1, 2, 3, 4, 5, 6]\n",
      "[1, 2, 3, 12, 4, 5, 6]\n",
      "[1, 2, 3, 12, 15, 4, 5, 6]\n",
      "[1, 2, 3, 1, 12, 15, 4, 5, 6]\n"
     ]
    }
   ],
   "source": [
    "# 한 개의 요소를 삽입시 insert를 사용하고 list.insert(삽입위치,삽입내용)으로 사용\n",
    "a=[1,2,3,4,5] # 리스트 선언과 값 대입\n",
    "a.append(6) #append는 맨 뒤에 하나의 요소를 삽입\n",
    "print(a) # 리스트 출력\n",
    "a.insert(3,12) # 인덱스3번 자리에 12를 삽입\n",
    "print(a) # 리스트 출력\n",
    "a.insert(4,15) # 인덱스4번 자리에 15를 삽입\n",
    "print(a) # 리스트 출력\n",
    "a.insert(3,1) # 인덱스3번 자리에 1를 삽입\n",
    "print(a) # 리스트 출력"
   ]
  },
  {
   "cell_type": "code",
   "execution_count": 27,
   "id": "6d5585e2",
   "metadata": {},
   "outputs": [
    {
     "name": "stdout",
     "output_type": "stream",
     "text": [
      "[1, 2, 3, 1, 12, 1, 2, 3, 4, 5, 6, 15, 4, 5, 6]\n"
     ]
    }
   ],
   "source": [
    "# 여러 개의 요소를 삽입 시 list[n:n]= 방식으로 사용 (n은 삽입위치)\n",
    "a=[1, 2, 3, 1, 12, 15, 4, 5, 6] # 리스트 선언과 값 대입\n",
    "a[5:5]=[1,2,3,4,5,6] #5에서 5까지 영역에 해당 리스트 값을 대입\n",
    "print(a) # 리스트 출력"
   ]
  },
  {
   "cell_type": "code",
   "execution_count": 28,
   "id": "b4bc4d21",
   "metadata": {},
   "outputs": [
    {
     "name": "stdout",
     "output_type": "stream",
     "text": [
      "[1, 2, 3, 1, 12, [1, 2, 3, 4, 5, 6], 4, 5, 6]\n"
     ]
    }
   ],
   "source": [
    "# list[n]=을 사용하면 해당n요소의 리스트가 대입된 경우임에 주의할 것\n",
    "a=[1, 2, 3, 1, 12, 15, 4, 5, 6] # 리스트 선언과 값 대입\n",
    "a[5]=[1,2,3,4,5,6] #5요소에 이 리스트를 대입(큰 차이)\n",
    "print(a) # 리스트 출력"
   ]
  },
  {
   "cell_type": "code",
   "execution_count": 29,
   "id": "7eb7127a",
   "metadata": {},
   "outputs": [
    {
     "name": "stdout",
     "output_type": "stream",
     "text": [
      "[1, 2, 3, 4, 5, 6]\n",
      "[1, 2, 3, 4, 5, 6]\n"
     ]
    }
   ],
   "source": [
    "# 두 개의 리스트를 병합하는 방법\n",
    "# list.extend를 사용 또는 + 연산을 이용\n",
    "a=[1,2,3] # 리스트 선언과 값 대입\n",
    "b=[4,5,6] # 리스트 선언과 값 대입\n",
    "a=a+b # 리스트 병합\n",
    "print(a) # 리스트 출력\n",
    "a=[1,2,3] # 리스트 선언과 값 대입\n",
    "b=[4,5,6] # 리스트 선언과 값 대입\n",
    "a.extend(b) # 리스트 병합\n",
    "print(a) # 리스트 출력"
   ]
  },
  {
   "cell_type": "code",
   "execution_count": 33,
   "id": "3576c3c9",
   "metadata": {},
   "outputs": [
    {
     "name": "stdout",
     "output_type": "stream",
     "text": [
      "[1, 2, 3, 3, 4, 4, 5, 6, 7, 7, 7, 7, 8]\n",
      "[1, 2, 3, 3, 4, 4, 5, 6, 7, 7, 7, 8]\n",
      "[1, 2, 3, 3, 4, 4, 5, 6, 7, 7, 8]\n",
      "[1, 2, 3, 3, 4, [], 5, 6, 7, 7, 8]\n",
      "[1, 2, 4, [], 5, 6, 7, 7, 8]\n",
      "[1, 2, 4, [], 6, 7, 7, 8]\n",
      "[1, 2, 4, 6, 7, 7, 8]\n",
      "[]\n"
     ]
    },
    {
     "ename": "NameError",
     "evalue": "name 'a' is not defined",
     "output_type": "error",
     "traceback": [
      "\u001b[1;31m---------------------------------------------------------------------------\u001b[0m",
      "\u001b[1;31mNameError\u001b[0m                                 Traceback (most recent call last)",
      "Input \u001b[1;32mIn [33]\u001b[0m, in \u001b[0;36m<cell line: 19>\u001b[1;34m()\u001b[0m\n\u001b[0;32m     17\u001b[0m \u001b[38;5;28mprint\u001b[39m(a) \u001b[38;5;66;03m# 리스트 출력\u001b[39;00m\n\u001b[0;32m     18\u001b[0m \u001b[38;5;28;01mdel\u001b[39;00m(a) \u001b[38;5;66;03m#리스트 정의까지 삭제\u001b[39;00m\n\u001b[1;32m---> 19\u001b[0m \u001b[38;5;28mprint\u001b[39m(\u001b[43ma\u001b[49m)\n",
      "\u001b[1;31mNameError\u001b[0m: name 'a' is not defined"
     ]
    }
   ],
   "source": [
    "# 리스트를 지우기 위하여 list.remove(원하는값), del(list[n:m]), list.clear()를 사용\n",
    "a=[1,2,3,3,4,4,5,6,7,7,7,7,8] # 리스트 선언과 값 대입\n",
    "print(a) # 리스트 출력\n",
    "a.remove(7) # 첫 번째 만나는 7값을 가진 리스트 삭제 \n",
    "print(a) # 리스트 출력\n",
    "a.remove(7) # 첫 번째 만나는 7값을 가진 리스트 삭제 \n",
    "print(a) # 리스트 출력\n",
    "a[5]=[]  # 다섯 번째에 빈 값[]이 들어 있는 리스트를 만듬(주의: a[5:5]=[]라고 해야 함)\n",
    "print(a) # 리스트 출력\n",
    "a[2:4]=[] # 인덱스 2에서3에 삭제 빈 리스트 합치기\n",
    "print(a) # 리스트 출력\n",
    "del(a[4]) # 인덱스 4번째 값 삭제\n",
    "print(a) # 리스트 출력\n",
    "del(a[3]) # 인덱스 3번째 값 삭제\n",
    "print(a) # 리스트 출력\n",
    "a.clear() #다 지우나 빈 값에 리스트가 남음\n",
    "print(a) # 리스트 출력\n",
    "del(a) #리스트 정의까지 삭제\n",
    "print(a) # 리스트 출력 정의까지 삭제해서 에러"
   ]
  },
  {
   "cell_type": "code",
   "execution_count": 37,
   "id": "34dce783",
   "metadata": {},
   "outputs": [
    {
     "name": "stdout",
     "output_type": "stream",
     "text": [
      "8\n",
      "[1, 2, 3, 3, 4, 4, 5, 6, 7, 7, 7, 7]\n",
      "7\n",
      "[1, 2, 3, 3, 4, 4, 5, 6, 7, 7, 7]\n",
      "3\n",
      "[1, 2, 3, 4, 4, 5, 6, 7, 7, 7]\n",
      "6\n",
      "[1, 2, 3, 4, 4, 5, 7, 7, 7]\n",
      "7\n",
      "1\n",
      "[2, 3, 4, 4, 5, 7, 7]\n"
     ]
    }
   ],
   "source": [
    "# list.pop(n)은 해당위치를 리턴하고 삭제함 n이 없다면 맨 마지막 요소 리턴\n",
    "a=[1,2,3,3,4,4,5,6,7,7,7,7,8] # 리스트 선언과 값 대입\n",
    "print(a.pop()) # 마지막 요소를 출력하고 삭제\n",
    "print(a) # 리스트 출력\n",
    "print(a.pop()) # 마지막 요소를 출력하고 삭제\n",
    "print(a) # 리스트 출력\n",
    "print(a.pop(3)) # 인덱스 3번째 요소를 출력하고 삭제\n",
    "print(a) # 리스트 출력\n",
    "print(a.pop(6)) # 인덱스 6번째 요소를 출력하고 삭제\n",
    "print(a) # 리스트 출력\n",
    "print(a.pop(6)) # 인덱스 6번째 요소를 출력하고 삭제\n",
    "print(a.pop(0)) # 인덱스 0번째 요소를 출력하고 삭제\n",
    "print(a) # 리스트 출력"
   ]
  },
  {
   "cell_type": "code",
   "execution_count": 41,
   "id": "f48178e8",
   "metadata": {},
   "outputs": [
    {
     "name": "stdout",
     "output_type": "stream",
     "text": [
      "8\n",
      "12\n",
      "4\n",
      "4\n"
     ]
    }
   ],
   "source": [
    "# list.index(값) 해당 값이 처음 나오는 위치를 리턴\n",
    "# list.count(값) 해당 값이 몇 번 나오는지 리턴\n",
    "a=[1,2,3,3,4,4,5,6,7,7,7,7,8] # 리스트 선언과 값 대입\n",
    "print(a.index(7)) # 값 7의 위치는 8(0부터 시작)\n",
    "print(a.index(8)) # 값 8의 위치는 12(0부터 시작)\n",
    "print(a.index(4)) # 값 4의 위치는 4(0부터 시작)\n",
    "print(a.count(7)) #7은 4번 나옴"
   ]
  },
  {
   "cell_type": "code",
   "execution_count": 42,
   "id": "661be74a",
   "metadata": {},
   "outputs": [
    {
     "name": "stdout",
     "output_type": "stream",
     "text": [
      "1 8 13\n"
     ]
    }
   ],
   "source": [
    "# min(list),max(list) 리스트중 최소값과 최대값을 구함\n",
    "# len(list) 리스트의 크기(개수)를 구함\n",
    "a=[1,2,3,3,4,4,5,6,7,7,7,7,8] # 리스트 선언과 값 대입\n",
    "print(min(a),max(a),len(a)) # 리스트의 최소값 최대값 길이를 출력"
   ]
  },
  {
   "cell_type": "code",
   "execution_count": 43,
   "id": "d4fbe8af",
   "metadata": {},
   "outputs": [
    {
     "name": "stdout",
     "output_type": "stream",
     "text": [
      "[4, 9, 6, 2, 5, 4, 2, 6, 5, 8, 1]\n",
      "[1, 2, 2, 4, 4, 5, 5, 6, 6, 8, 9]\n"
     ]
    }
   ],
   "source": [
    "# list.sort() 리스트 내용을 정렬함\n",
    "# list.reverse() 리스트 내용을 역으로 보여줌\n",
    "a=[1,8,5,6,2,4,5,2,6,9,4] # 리스트 선언과 값 대입\n",
    "a.reverse() # 리스트를 역순으로 리벌스는 무조건 반대로 내림차순 아님\n",
    "print(a) # 리스트 출력\n",
    "a.sort() # 리스트를 정렬\n",
    "print(a) # 리스트 출력"
   ]
  },
  {
   "cell_type": "code",
   "execution_count": 45,
   "id": "c293daba",
   "metadata": {},
   "outputs": [
    {
     "name": "stdout",
     "output_type": "stream",
     "text": [
      "==================================================\n",
      "이름\t국어\t영어\t수학\t총점\t평균\n",
      "==================================================\n",
      "name0 \t 17 \t 93 \t 45 \t 155 \t 51\n",
      "name1 \t 66 \t 16 \t 10 \t 92 \t 30\n",
      "name2 \t 45 \t 60 \t 95 \t 200 \t 66\n",
      "name3 \t 67 \t 79 \t 27 \t 173 \t 57\n",
      "name4 \t 84 \t 97 \t 75 \t 256 \t 85\n",
      "name5 \t 82 \t 25 \t 17 \t 124 \t 41\n",
      "name6 \t 64 \t 28 \t 10 \t 102 \t 34\n",
      "name7 \t 92 \t 48 \t 62 \t 202 \t 67\n",
      "name8 \t 66 \t 49 \t 67 \t 182 \t 60\n",
      "name9 \t 47 \t 16 \t 55 \t 118 \t 39\n",
      "name10 \t 76 \t 97 \t 20 \t 193 \t 64\n",
      "name11 \t 12 \t 41 \t 27 \t 80 \t 26\n",
      "name12 \t 59 \t 39 \t 88 \t 186 \t 62\n",
      "name13 \t 91 \t 67 \t 80 \t 238 \t 79\n",
      "name14 \t 20 \t 23 \t 89 \t 132 \t 44\n",
      "name15 \t 81 \t 54 \t 86 \t 221 \t 73\n",
      "name16 \t 48 \t 76 \t 91 \t 215 \t 71\n",
      "name17 \t 17 \t 64 \t 87 \t 168 \t 56\n",
      "name18 \t 87 \t 36 \t 33 \t 156 \t 52\n",
      "name19 \t 19 \t 63 \t 14 \t 96 \t 32\n",
      "name20 \t 30 \t 19 \t 36 \t 85 \t 28\n",
      "name21 \t 31 \t 50 \t 31 \t 112 \t 37\n",
      "name22 \t 23 \t 18 \t 41 \t 82 \t 27\n",
      "name23 \t 41 \t 37 \t 93 \t 171 \t 57\n",
      "name24 \t 11 \t 27 \t 85 \t 123 \t 41\n",
      "name25 \t 96 \t 58 \t 86 \t 240 \t 80\n",
      "name26 \t 90 \t 13 \t 91 \t 194 \t 64\n",
      "name27 \t 39 \t 52 \t 35 \t 126 \t 42\n",
      "name28 \t 65 \t 21 \t 48 \t 134 \t 44\n",
      "name29 \t 48 \t 51 \t 72 \t 171 \t 57\n",
      "name30 \t 73 \t 57 \t 41 \t 171 \t 57\n",
      "name31 \t 53 \t 42 \t 83 \t 178 \t 59\n",
      "name32 \t 56 \t 59 \t 46 \t 161 \t 53\n",
      "name33 \t 35 \t 23 \t 16 \t 74 \t 24\n",
      "name34 \t 79 \t 82 \t 71 \t 232 \t 77\n",
      "name35 \t 80 \t 87 \t 70 \t 237 \t 79\n",
      "name36 \t 49 \t 52 \t 61 \t 162 \t 54\n",
      "name37 \t 43 \t 39 \t 35 \t 117 \t 39\n",
      "name38 \t 72 \t 66 \t 50 \t 188 \t 62\n",
      "name39 \t 10 \t 94 \t 94 \t 198 \t 66\n",
      "name40 \t 71 \t 56 \t 30 \t 157 \t 52\n",
      "name41 \t 87 \t 77 \t 63 \t 227 \t 75\n",
      "name42 \t 20 \t 99 \t 55 \t 174 \t 58\n",
      "name43 \t 40 \t 45 \t 61 \t 146 \t 48\n",
      "name44 \t 40 \t 91 \t 81 \t 212 \t 70\n",
      "name45 \t 19 \t 41 \t 39 \t 99 \t 33\n",
      "name46 \t 33 \t 75 \t 18 \t 126 \t 42\n",
      "name47 \t 23 \t 76 \t 58 \t 157 \t 52\n",
      "name48 \t 75 \t 63 \t 51 \t 189 \t 63\n",
      "name49 \t 41 \t 68 \t 29 \t 138 \t 46\n",
      "name50 \t 40 \t 67 \t 66 \t 173 \t 57\n",
      "name51 \t 64 \t 27 \t 80 \t 171 \t 57\n",
      "name52 \t 18 \t 19 \t 40 \t 77 \t 25\n",
      "name53 \t 48 \t 86 \t 14 \t 148 \t 49\n",
      "name54 \t 46 \t 95 \t 39 \t 180 \t 60\n",
      "name55 \t 92 \t 10 \t 45 \t 147 \t 49\n",
      "name56 \t 25 \t 81 \t 85 \t 191 \t 63\n",
      "name57 \t 41 \t 41 \t 48 \t 130 \t 43\n",
      "name58 \t 75 \t 27 \t 12 \t 114 \t 38\n",
      "name59 \t 35 \t 30 \t 70 \t 135 \t 45\n",
      "name60 \t 70 \t 68 \t 45 \t 183 \t 61\n",
      "name61 \t 20 \t 24 \t 58 \t 102 \t 34\n",
      "name62 \t 51 \t 66 \t 11 \t 128 \t 42\n",
      "name63 \t 54 \t 64 \t 21 \t 139 \t 46\n",
      "name64 \t 82 \t 14 \t 30 \t 126 \t 42\n",
      "name65 \t 64 \t 69 \t 54 \t 187 \t 62\n",
      "name66 \t 98 \t 49 \t 59 \t 206 \t 68\n",
      "name67 \t 76 \t 97 \t 35 \t 208 \t 69\n",
      "name68 \t 78 \t 90 \t 70 \t 238 \t 79\n",
      "name69 \t 17 \t 75 \t 31 \t 123 \t 41\n",
      "name70 \t 47 \t 55 \t 52 \t 154 \t 51\n",
      "name71 \t 61 \t 57 \t 44 \t 162 \t 54\n",
      "name72 \t 82 \t 72 \t 68 \t 222 \t 74\n",
      "name73 \t 13 \t 47 \t 80 \t 140 \t 46\n",
      "name74 \t 10 \t 27 \t 36 \t 73 \t 24\n",
      "name75 \t 70 \t 40 \t 52 \t 162 \t 54\n",
      "name76 \t 43 \t 70 \t 48 \t 161 \t 53\n",
      "name77 \t 33 \t 82 \t 92 \t 207 \t 69\n",
      "name78 \t 47 \t 16 \t 26 \t 89 \t 29\n",
      "name79 \t 88 \t 45 \t 76 \t 209 \t 69\n",
      "name80 \t 22 \t 86 \t 21 \t 129 \t 43\n",
      "name81 \t 66 \t 23 \t 43 \t 132 \t 44\n",
      "name82 \t 68 \t 69 \t 83 \t 220 \t 73\n",
      "name83 \t 73 \t 93 \t 22 \t 188 \t 62\n",
      "name84 \t 11 \t 28 \t 30 \t 69 \t 23\n",
      "name85 \t 54 \t 42 \t 46 \t 142 \t 47\n",
      "name86 \t 31 \t 11 \t 27 \t 69 \t 23\n",
      "name87 \t 66 \t 66 \t 65 \t 197 \t 65\n",
      "name88 \t 61 \t 27 \t 92 \t 180 \t 60\n",
      "name89 \t 29 \t 40 \t 78 \t 147 \t 49\n",
      "name90 \t 20 \t 73 \t 30 \t 123 \t 41\n",
      "name91 \t 43 \t 86 \t 63 \t 192 \t 64\n",
      "name92 \t 63 \t 61 \t 46 \t 170 \t 56\n",
      "name93 \t 46 \t 23 \t 16 \t 85 \t 28\n",
      "name94 \t 74 \t 54 \t 27 \t 155 \t 51\n",
      "name95 \t 37 \t 88 \t 37 \t 162 \t 54\n",
      "name96 \t 84 \t 98 \t 10 \t 192 \t 64\n",
      "name97 \t 91 \t 63 \t 96 \t 250 \t 83\n",
      "name98 \t 79 \t 45 \t 54 \t 178 \t 59\n",
      "name99 \t 34 \t 70 \t 93 \t 197 \t 65\n",
      "==================================================\n",
      "반총점\t 5253 \t 5465 \t 5214 \t 15932 \t 53.0\n",
      "==================================================\n"
     ]
    }
   ],
   "source": [
    "# import 문 외부의 함수를 가지고 올 때 사용\n",
    "# import random 라이브러리를 가져다 사용하겠다는 정의\n",
    "# import random as r 프로그램 안에서 r.random() r.randrange(1,10)과  같이 \n",
    "# r 다음에 오는 함수는 random라이브러리로부터 가지고 온 것임을 정의\n",
    "import random as r\n",
    "def titleprint(): # 제목 출력 함수 선언\n",
    "    print(\"=\"*50) # 등호 50개 출력\n",
    "    print(\"이름\\t국어\\t영어\\t수학\\t총점\\t평균\") # 제목 출력\n",
    "    print(\"=\"*50) # 등호 50개 출력\n",
    "    \n",
    "def itemprint(name,kor,eng,mat): # 내용 출력 함수 선언\n",
    "    print(name,\"\\t\",kor,\"\\t\",eng,\"\\t\",mat,\"\\t\",kor+eng+mat,\"\\t\",(kor+eng+mat)//3)\n",
    "    # 이름 국어점수 영어점수 수학점수 총점 평균을 각각 출력\n",
    "    \n",
    "def tailprint(): # 꼬리 출력 함수 선언\n",
    "    totkor=0 # 변수 선언과 초기화\n",
    "    toteng=0 # 변수 선언과 초기화\n",
    "    totmat=0 # 변수 선언과 초기화\n",
    "    for one_student in score: # 점수의 개수만큼 반복문\n",
    "        totkor+=one_student[kor] # 국어 점수의 총합 구하기\n",
    "        toteng+=one_student[eng] # 여어 점수의 총합 구하기\n",
    "        totmat+=one_student[mat] # 수학 점수의 총합 구하기\n",
    "    print(\"=\"*50) # 등호 50개 출력\n",
    "    print(\"반총점\\t\",totkor,\"\\t\",toteng,\"\\t\",totmat,\"\\t\"\\\n",
    "    ,(totkor+toteng+totmat),\"\\t\",(totkor+toteng+totmat)/3//100) \n",
    "# 각 과목의 총합과 모든 총합, 그에 따른 평균을 출력\n",
    "    print(\"=\"*50) # 등호 50개 출력\n",
    "    \n",
    "one_person=[] # 리스트 선언과 초기화\n",
    "score=[] # 리스트 선언과 초기화\n",
    "for i in range(100): # 100명의 사람 생성하는 반복문\n",
    "    one_person.append(\"name\"+str(i)) # 이름\n",
    "    one_person.append(r.randrange(10,100)) # 국어점수를 10부터 100까지 임의의 값을 추출\n",
    "    one_person.append(r.randrange(10,100)) # 영어점수를 10부터 100까지 임의의 값을 추출\n",
    "    one_person.append(r.randrange(10,100)) # 수학점수를 10부터 100까지 임의의 값을 추출\n",
    "    score.append(one_person[:]) # 값을 복사해서 추가함\n",
    "    one_person.clear() # 한명을 score에 넣었으면 다음 사람을 위해 리스트 비우기\n",
    "    \n",
    "#프로그램을 보기 좋게 하려고 상수를 정의 \n",
    "name=0;kor=1;eng=2;mat=3\n",
    "\n",
    "#여기부터 프로그램 \n",
    "titleprint() # 제목 출력 함수\n",
    "for one_student in score: # 2차원 리스트 크기만큼 반복하는 반복문\n",
    "    itemprint(one_student[name],one_student[kor],one_student[eng],one_student[mat]) # 내용 출력 함수\n",
    "tailprint() # 꼬리 출력 함수"
   ]
  },
  {
   "cell_type": "code",
   "execution_count": 49,
   "id": "46b620d5",
   "metadata": {},
   "outputs": [
    {
     "name": "stdout",
     "output_type": "stream",
     "text": [
      "(1, 8, 5, 6, 2, 4, 5, 2, 6, 9, 4)\n",
      "4\n",
      "(6, 2)\n",
      "(6, 2, 4, 5, 2)\n",
      "(1, 8, 5, 6, 2, 4, 5, 2, 6, 9, 4, 1, 8, 5, 6, 2, 4, 5, 2, 6, 9, 4)\n"
     ]
    }
   ],
   "source": [
    "# 튜플은 값을 정의시 []대신 ()로 대입 // 튜플은 값을 변경할 수 없는 자료형\n",
    "# 값을 조회는 가능\n",
    "a=(1,8,5,6,2,4,5,2,6,9,4) # 튜플 선언과 값 대입\n",
    "print(a) # 튜플 출력\n",
    "print(a[5]) # 인덱스 5의 튜플 값 출력\n",
    "print(a[3:5]) # 인덱스 3에서 4의 튜플 값 출력\n",
    "print(a[3:8]) # 인덱스 3에서 7의 튜플 값 출력\n",
    "print(a*2) # 튜플 2개를 출력"
   ]
  },
  {
   "cell_type": "code",
   "execution_count": 50,
   "id": "309c324f",
   "metadata": {},
   "outputs": [
    {
     "ename": "TypeError",
     "evalue": "'tuple' object does not support item assignment",
     "output_type": "error",
     "traceback": [
      "\u001b[1;31m---------------------------------------------------------------------------\u001b[0m",
      "\u001b[1;31mTypeError\u001b[0m                                 Traceback (most recent call last)",
      "Input \u001b[1;32mIn [50]\u001b[0m, in \u001b[0;36m<cell line: 3>\u001b[1;34m()\u001b[0m\n\u001b[0;32m      1\u001b[0m \u001b[38;5;66;03m# 값을 대입하거나 변경하거나 구조를 지우는 것은 불가능\u001b[39;00m\n\u001b[0;32m      2\u001b[0m a \u001b[38;5;241m=\u001b[39m (\u001b[38;5;241m1\u001b[39m, \u001b[38;5;241m8\u001b[39m, \u001b[38;5;241m5\u001b[39m, \u001b[38;5;241m6\u001b[39m, \u001b[38;5;241m2\u001b[39m, \u001b[38;5;241m4\u001b[39m, \u001b[38;5;241m5\u001b[39m, \u001b[38;5;241m2\u001b[39m, \u001b[38;5;241m6\u001b[39m, \u001b[38;5;241m9\u001b[39m, \u001b[38;5;241m4\u001b[39m, \u001b[38;5;241m1\u001b[39m, \u001b[38;5;241m8\u001b[39m, \u001b[38;5;241m5\u001b[39m, \u001b[38;5;241m6\u001b[39m, \u001b[38;5;241m2\u001b[39m, \u001b[38;5;241m4\u001b[39m, \u001b[38;5;241m5\u001b[39m, \u001b[38;5;241m2\u001b[39m, \u001b[38;5;241m6\u001b[39m, \u001b[38;5;241m9\u001b[39m, \u001b[38;5;241m4\u001b[39m) \u001b[38;5;66;03m# 튜플 선언과 값 대입\u001b[39;00m\n\u001b[1;32m----> 3\u001b[0m a[\u001b[38;5;241m1\u001b[39m]\u001b[38;5;241m=\u001b[39m\u001b[38;5;241m5\u001b[39m\n",
      "\u001b[1;31mTypeError\u001b[0m: 'tuple' object does not support item assignment"
     ]
    }
   ],
   "source": [
    "# 값을 대입하거나 변경하거나 구조를 지우는 것은 불가능\n",
    "a = (1, 8, 5, 6, 2, 4, 5, 2, 6, 9, 4, 1, 8, 5, 6, 2, 4, 5, 2, 6, 9, 4) # 튜플 선언과 값 대입\n",
    "a[1]=5  #값 변경불가"
   ]
  },
  {
   "cell_type": "code",
   "execution_count": 52,
   "id": "d475dc72",
   "metadata": {},
   "outputs": [
    {
     "ename": "TypeError",
     "evalue": "'tuple' object doesn't support item deletion",
     "output_type": "error",
     "traceback": [
      "\u001b[1;31m---------------------------------------------------------------------------\u001b[0m",
      "\u001b[1;31mTypeError\u001b[0m                                 Traceback (most recent call last)",
      "Input \u001b[1;32mIn [52]\u001b[0m, in \u001b[0;36m<cell line: 2>\u001b[1;34m()\u001b[0m\n\u001b[0;32m      1\u001b[0m a \u001b[38;5;241m=\u001b[39m (\u001b[38;5;241m1\u001b[39m, \u001b[38;5;241m8\u001b[39m, \u001b[38;5;241m5\u001b[39m, \u001b[38;5;241m6\u001b[39m, \u001b[38;5;241m2\u001b[39m, \u001b[38;5;241m4\u001b[39m, \u001b[38;5;241m5\u001b[39m, \u001b[38;5;241m2\u001b[39m, \u001b[38;5;241m6\u001b[39m, \u001b[38;5;241m9\u001b[39m, \u001b[38;5;241m4\u001b[39m, \u001b[38;5;241m1\u001b[39m, \u001b[38;5;241m8\u001b[39m, \u001b[38;5;241m5\u001b[39m, \u001b[38;5;241m6\u001b[39m, \u001b[38;5;241m2\u001b[39m, \u001b[38;5;241m4\u001b[39m, \u001b[38;5;241m5\u001b[39m, \u001b[38;5;241m2\u001b[39m, \u001b[38;5;241m6\u001b[39m, \u001b[38;5;241m9\u001b[39m, \u001b[38;5;241m4\u001b[39m) \u001b[38;5;66;03m# 튜플 선언과 값 대입\u001b[39;00m\n\u001b[1;32m----> 2\u001b[0m \u001b[38;5;28;01mdel\u001b[39;00m a[\u001b[38;5;241m4\u001b[39m]\n",
      "\u001b[1;31mTypeError\u001b[0m: 'tuple' object doesn't support item deletion"
     ]
    }
   ],
   "source": [
    "a = (1, 8, 5, 6, 2, 4, 5, 2, 6, 9, 4, 1, 8, 5, 6, 2, 4, 5, 2, 6, 9, 4) # 튜플 선언과 값 대입\n",
    "del a[4] #변수 지우기 불가"
   ]
  },
  {
   "cell_type": "code",
   "execution_count": 53,
   "id": "374626d3",
   "metadata": {},
   "outputs": [
    {
     "ename": "AttributeError",
     "evalue": "'tuple' object has no attribute 'append'",
     "output_type": "error",
     "traceback": [
      "\u001b[1;31m---------------------------------------------------------------------------\u001b[0m",
      "\u001b[1;31mAttributeError\u001b[0m                            Traceback (most recent call last)",
      "Input \u001b[1;32mIn [53]\u001b[0m, in \u001b[0;36m<cell line: 2>\u001b[1;34m()\u001b[0m\n\u001b[0;32m      1\u001b[0m a \u001b[38;5;241m=\u001b[39m (\u001b[38;5;241m1\u001b[39m, \u001b[38;5;241m8\u001b[39m, \u001b[38;5;241m5\u001b[39m, \u001b[38;5;241m6\u001b[39m, \u001b[38;5;241m2\u001b[39m, \u001b[38;5;241m4\u001b[39m, \u001b[38;5;241m5\u001b[39m, \u001b[38;5;241m2\u001b[39m, \u001b[38;5;241m6\u001b[39m, \u001b[38;5;241m9\u001b[39m, \u001b[38;5;241m4\u001b[39m, \u001b[38;5;241m1\u001b[39m, \u001b[38;5;241m8\u001b[39m, \u001b[38;5;241m5\u001b[39m, \u001b[38;5;241m6\u001b[39m, \u001b[38;5;241m2\u001b[39m, \u001b[38;5;241m4\u001b[39m, \u001b[38;5;241m5\u001b[39m, \u001b[38;5;241m2\u001b[39m, \u001b[38;5;241m6\u001b[39m, \u001b[38;5;241m9\u001b[39m, \u001b[38;5;241m4\u001b[39m) \u001b[38;5;66;03m# 튜플 선언과 값 대입\u001b[39;00m\n\u001b[1;32m----> 2\u001b[0m \u001b[43ma\u001b[49m\u001b[38;5;241;43m.\u001b[39;49m\u001b[43mappend\u001b[49m(\u001b[38;5;241m10\u001b[39m)\n",
      "\u001b[1;31mAttributeError\u001b[0m: 'tuple' object has no attribute 'append'"
     ]
    }
   ],
   "source": [
    "a = (1, 8, 5, 6, 2, 4, 5, 2, 6, 9, 4, 1, 8, 5, 6, 2, 4, 5, 2, 6, 9, 4) # 튜플 선언과 값 대입\n",
    "a.append(10) # 값 추가 불가"
   ]
  },
  {
   "cell_type": "code",
   "execution_count": 54,
   "id": "13e2bc73",
   "metadata": {},
   "outputs": [
    {
     "name": "stdout",
     "output_type": "stream",
     "text": [
      "((2, 17403), (41, 40338))\n"
     ]
    }
   ],
   "source": [
    "def location(): # 함수 선언\n",
    "    latitude = 2, 17403  # 위도 \n",
    "    longitude=41,40338  #경도\n",
    "    return latitude,longitude  #이런방식의 리턴은 튜플로 반환 \n",
    "\n",
    "a=location() # 변수 a에 함수의 결과 대입\n",
    "print(a) # 출력"
   ]
  },
  {
   "cell_type": "code",
   "execution_count": null,
   "id": "c050310b",
   "metadata": {},
   "outputs": [],
   "source": []
  }
 ],
 "metadata": {
  "kernelspec": {
   "display_name": "Python 3 (ipykernel)",
   "language": "python",
   "name": "python3"
  },
  "language_info": {
   "codemirror_mode": {
    "name": "ipython",
    "version": 3
   },
   "file_extension": ".py",
   "mimetype": "text/x-python",
   "name": "python",
   "nbconvert_exporter": "python",
   "pygments_lexer": "ipython3",
   "version": "3.8.8rc1"
  }
 },
 "nbformat": 4,
 "nbformat_minor": 5
}
