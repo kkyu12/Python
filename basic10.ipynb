{
 "cells": [
  {
   "cell_type": "code",
   "execution_count": 1,
   "id": "c068ee60",
   "metadata": {},
   "outputs": [
    {
     "name": "stdout",
     "output_type": "stream",
     "text": [
      "a b c d e\n",
      "e c c b a\n",
      "가 나 다 라 마\n"
     ]
    }
   ],
   "source": [
    "# 문자형 변수의 성격은 컬렉션의 리스트와 유사함\n",
    "# 문자리스트, 즉 String(문자열)은 첨자로 대응 됨\n",
    "# 한글은 2byte로 처리되나 문자열에서 1개의 첨자에 대응되는 것에 유의할 것\n",
    "a=\"abcde\" # 문자열 선언\n",
    "print(a[0],a[1],a[2],a[3],a[4]) # 각각의 자리 출력\n",
    "print(a[-1],a[2],a[-3],a[-4],a[-5]) # 컬렉션과 마찬가지로 역순 인덱스 가능\n",
    "a=\"가나다라마\" # 문자열 선언\n",
    "print(a[0],a[1],a[2],a[3],a[4]) # 각각의 자리 출력"
   ]
  },
  {
   "cell_type": "code",
   "execution_count": 2,
   "id": "04e46929",
   "metadata": {},
   "outputs": [
    {
     "name": "stdout",
     "output_type": "stream",
     "text": [
      "bcde\n",
      "b\n",
      "abcde\n",
      "de\n",
      "c\n",
      "\n",
      "bcd\n"
     ]
    }
   ],
   "source": [
    "# 문자 첨자 처리시 [시작:끝]으로 표시가능 // 끝에 해당되는 숫자 앞까지 해당됨에 유의 //음수 첨자에 유의할 것\n",
    "a=\"abcde\" # 문자열 선언\n",
    "print(a[1:5]) # 인덱스 1부터 4까지 출력\n",
    "print(a[1:2]) # 인덱스 1부터 1까지 출력\n",
    "print(a[:6]) # 인덱스 처음부터 5까지 출력\n",
    "print(a[3:]) # 인덱스 3부터 끝까지 출력\n",
    "print(a[2:-2]) # 인덱스 2부터 -2까지 출력 결과 'c'\n",
    "print(a[2:-3]) # 인덱스 2부터 -3까지 출력 결과 ''\n",
    "print(a[1:-1]) # 인덱스 1부터 -1까지 출력 결과 'bcd'"
   ]
  },
  {
   "cell_type": "code",
   "execution_count": 4,
   "id": "02f061c7",
   "metadata": {},
   "outputs": [
    {
     "name": "stdout",
     "output_type": "stream",
     "text": [
      "5\n",
      "18\n",
      "8 8\n",
      "1 14\n"
     ]
    },
    {
     "ename": "ValueError",
     "evalue": "substring not found",
     "output_type": "error",
     "traceback": [
      "\u001b[1;31m---------------------------------------------------------------------------\u001b[0m",
      "\u001b[1;31mValueError\u001b[0m                                Traceback (most recent call last)",
      "Input \u001b[1;32mIn [4]\u001b[0m, in \u001b[0;36m<cell line: 6>\u001b[1;34m()\u001b[0m\n\u001b[0;32m      4\u001b[0m \u001b[38;5;28mprint\u001b[39m(a\u001b[38;5;241m.\u001b[39mfind(\u001b[38;5;124m\"\u001b[39m\u001b[38;5;124mi\u001b[39m\u001b[38;5;124m\"\u001b[39m),a\u001b[38;5;241m.\u001b[39mrfind(\u001b[38;5;124m\"\u001b[39m\u001b[38;5;124mi\u001b[39m\u001b[38;5;124m\"\u001b[39m)) \u001b[38;5;66;03m#만일 찾는 문자가 하나라면 결과는 동일\u001b[39;00m\n\u001b[0;32m      5\u001b[0m \u001b[38;5;28mprint\u001b[39m(a\u001b[38;5;241m.\u001b[39mindex(\u001b[38;5;124m\"\u001b[39m\u001b[38;5;124mb\u001b[39m\u001b[38;5;124m\"\u001b[39m),a\u001b[38;5;241m.\u001b[39mrindex(\u001b[38;5;124m\"\u001b[39m\u001b[38;5;124mb\u001b[39m\u001b[38;5;124m\"\u001b[39m)) \u001b[38;5;66;03m#index함수도 같은 방식\u001b[39;00m\n\u001b[1;32m----> 6\u001b[0m \u001b[43ma\u001b[49m\u001b[38;5;241;43m.\u001b[39;49m\u001b[43mrindex\u001b[49m\u001b[43m(\u001b[49m\u001b[38;5;124;43m\"\u001b[39;49m\u001b[38;5;124;43mz\u001b[39;49m\u001b[38;5;124;43m\"\u001b[39;49m\u001b[43m)\u001b[49m\n",
      "\u001b[1;31mValueError\u001b[0m: substring not found"
     ]
    }
   ],
   "source": [
    "a=\"abcdefghijklmabcdefgh\" # 문자열 정의\n",
    "print(a.find(\"f\")) #앞에서 부터 찾음, 찾은 값의 인덱스임\n",
    "print(a.rfind(\"f\")) #뒤에서 부터 찾음\n",
    "print(a.find(\"i\"),a.rfind(\"i\")) #만일 찾는 문자가 하나라면 결과는 동일\n",
    "print(a.index(\"b\"),a.rindex(\"b\")) #index함수도 같은 방식\n",
    "a.rindex(\"z\")  #하지만 찾는 문자가 없으면 에러발생"
   ]
  },
  {
   "cell_type": "code",
   "execution_count": 6,
   "id": "48070616",
   "metadata": {},
   "outputs": [
    {
     "name": "stdout",
     "output_type": "stream",
     "text": [
      "2\n",
      "13\n"
     ]
    }
   ],
   "source": [
    "print(a.count(\"f\")) #해당 문자의 개수를 반환\n",
    "print(a.rfind(\"abc\")) #문자열을 넣어도 됨"
   ]
  },
  {
   "cell_type": "code",
   "execution_count": 7,
   "id": "a6d86c4d",
   "metadata": {},
   "outputs": [
    {
     "name": "stdout",
     "output_type": "stream",
     "text": [
      "a가 들어 있음\n",
      "a가 들어 있음\n"
     ]
    }
   ],
   "source": [
    "# \"포함문자 in 문자\"의 형태로 찾는 것도 가능함 해당 문자를 가지고 있는지 검사함\n",
    "# \"만일 \"f\"가 a안에 있다면\"으로 표현되기 때문에 이 방식이 보다 자연어적인 표현일 수 있음\n",
    "a=\"abcdfegabcdfeg\" # 문자열 정의\n",
    "if a.find(\"f\") > 0: # \"f\"가 있는지 찾음 있다면 0보다 크다\n",
    "    print (\"a가 들어 있음\") # 있다면 출력\n",
    "\n",
    "if \"f\" in a : #만일 \"f\"가 a안에 있다면..으로 자연적 영어표현\n",
    "    print (\"a가 들어 있음\")"
   ]
  },
  {
   "cell_type": "code",
   "execution_count": 9,
   "id": "e6d28201",
   "metadata": {},
   "outputs": [
    {
     "name": "stdout",
     "output_type": "stream",
     "text": [
      "ABCDEFGH\n",
      "abcdefgh\n"
     ]
    }
   ],
   "source": [
    "# str.upper() 문자열을 모두 대문자로 바꿈\n",
    "# str.lower() 문자열을 모두 소문자로 바꿈\n",
    "a=\"abcDefGh\" # 문자열 정의\n",
    "print(a.upper()) # 대문자로 바꿈\n",
    "a=\"abcDefGh\" # 문자열 정의\n",
    "print(a.lower()) # 소문자로 바꿈"
   ]
  },
  {
   "cell_type": "code",
   "execution_count": 10,
   "id": "a3cf843b",
   "metadata": {},
   "outputs": [
    {
     "name": "stdout",
     "output_type": "stream",
     "text": [
      "abc  def  hij      \n",
      "   abc  def  hij\n",
      "abc  def  hij\n",
      "abcdefhij\n"
     ]
    }
   ],
   "source": [
    "a=\"   abc  def  hij      \" # 문자열 정의\n",
    "print(a.lstrip()) # 문자열 왼쪽 끝의 모든 공백을 지움\n",
    "a=\"   abc  def  hij      \" # 문자열 정의\n",
    "print(a.rstrip()) # 문자열 오른쪽 끝의 모든 공백을 지움\n",
    "a=\"   abc  def  hij      \" # 문자열 정의\n",
    "print(a.strip()) # 문자열 양쪽 끝의 모든 공백을 지움\n",
    "a=\"   abc  def  hij      \" # 문자열 정의\n",
    "print(a.replace(\" \",\"\")) # 문자열의 모든 공백을 지움"
   ]
  },
  {
   "cell_type": "code",
   "execution_count": 11,
   "id": "7581c148",
   "metadata": {},
   "outputs": [
    {
     "name": "stdout",
     "output_type": "stream",
     "text": [
      "==========\n",
      "이름:  홍길동\n",
      "국어:  100\n",
      "영어:  95\n",
      "수학:  88\n",
      "==========\n"
     ]
    }
   ],
   "source": [
    "# a=str.split(구분자) str의 문자열을 구분자 문자를 찾아서 하나씩 나누어 a에 리스트로 반환\n",
    "rec=\"홍길동,100,95,88\" # 콤마로 구분되어 있는 데이터를 정의\n",
    "item=rec.split(\",\") # 콤마를 기준으로 자름\n",
    "print(\"=\"*10) # 등호 10개 출력\n",
    "print(\"이름: \", item[0]) # 이름 출력\n",
    "print(\"국어: \", item[1]) # 국어 점수 출력\n",
    "print(\"영어: \", item[2]) # 영어 점수 출력\n",
    "print(\"수학: \", item[3]) # 수학 점수 출력\n",
    "print(\"=\"*10) # 등호 10개 출력"
   ]
  },
  {
   "cell_type": "code",
   "execution_count": 12,
   "id": "c05e9d50",
   "metadata": {},
   "outputs": [
    {
     "name": "stdout",
     "output_type": "stream",
     "text": [
      "==========\n",
      "0 ==> 본\n",
      "1 ==> 예제는\n",
      "2 ==> 빈칸으로\n",
      "3 ==> 구분되어\n",
      "4 ==> 있는\n",
      "5 ==> 한\n",
      "6 ==> 줄의\n",
      "7 ==> 데이터를\n",
      "8 ==> 빈칸을\n",
      "9 ==> \n",
      "10 ==> \n",
      "11 ==> \n",
      "12 ==> \n",
      "13 ==> 구분하여\n",
      "14 ==> 나누어\n",
      "15 ==> 줌\n",
      "==========\n"
     ]
    }
   ],
   "source": [
    "# 예제는 빈칸으로 구분되어 있는 한 줄의 데이터를 빈칸으로 구분하여 나누어 줌\n",
    "# 하지만 빈칸이 여러 개 있을 때 해당 빈칸 하나 하나를 데이터로 인식함\n",
    "rec=\"본 예제는 빈칸으로 구분되어 있는 한 줄의 데이터를 빈칸을     구분하여 나누어 줌\" # 문자열 정의\n",
    "item=rec.split(\" \") # 빈칸을 기준으로 자르기\n",
    "print(\"=\"*10) # 등호 10개 출력\n",
    "i=0 # 변수 선언과 초기화\n",
    "for s in item: # 아이템 만큼 반복문\n",
    "    print(i,\"==>\", s) # 번호와 내용 출력\n",
    "    i+=1 # i를 증가\n",
    "print(\"=\"*10) # 등호 10개 출력"
   ]
  },
  {
   "cell_type": "code",
   "execution_count": 18,
   "id": "a919c871",
   "metadata": {},
   "outputs": [
    {
     "name": "stdout",
     "output_type": "stream",
     "text": [
      "[['나연', 100, 90, 100], ['정연', 90, 90, 100], ['모모', 80, 70, 90], ['사나', 90, 90, 80], ['지효', 100, 80, 80], ['미나', 50, 90, 90], ['다현', 80, 60, 100], ['채영', 70, 80, 90], ['쯔위', 100, 90, 90]]\n",
      "==================================================\n",
      "이름\t국어\t영어\t수학\t총점\t평균\n",
      "==================================================\n",
      "나연 \t 100 \t 90 \t 100 \t 290 \t 96\n",
      "정연 \t 90 \t 90 \t 100 \t 280 \t 93\n",
      "모모 \t 80 \t 70 \t 90 \t 240 \t 80\n",
      "사나 \t 90 \t 90 \t 80 \t 260 \t 86\n",
      "지효 \t 100 \t 80 \t 80 \t 260 \t 86\n",
      "미나 \t 50 \t 90 \t 90 \t 230 \t 76\n",
      "다현 \t 80 \t 60 \t 100 \t 240 \t 80\n",
      "채영 \t 70 \t 80 \t 90 \t 240 \t 80\n",
      "쯔위 \t 100 \t 90 \t 90 \t 280 \t 93\n",
      "==================================================\n",
      "반총점\t 760 \t 740 \t 820 \t 2320 \t 85.0\n",
      "==================================================\n"
     ]
    }
   ],
   "source": [
    "# 앞에서 실습한 트와이스 학급 성적표 출력 계속\n",
    "def titleprint(): # 제목 출력 함수 선언\n",
    "    print(\"=\"*50) # 등호 50개 출력\n",
    "    print(\"이름\\t국어\\t영어\\t수학\\t총점\\t평균\") # 제목 출력\n",
    "    print(\"=\"*50) # 등호 50개 출력\n",
    "    \n",
    "def itemprint(name,kor,eng,mat): # 내용 출력 함수 선언\n",
    "    print(name,\"\\t\",kor,\"\\t\",eng,\"\\t\",mat,\"\\t\",kor+eng+mat,\"\\t\",(kor+eng+mat)//3)\n",
    "    # 이름 국어점수 영어점수 수학점수 총점 평균을 각각 출력\n",
    "    \n",
    "def tailprint(): # 꼬리 출력 함수 선언\n",
    "    totkor=0 # 변수 선언과 초기화\n",
    "    toteng=0 # 변수 선언과 초기화\n",
    "    totmat=0 # 변수 선언과 초기화\n",
    "    for one_student in score: # 점수의 개수만큼 반복문\n",
    "        totkor+=one_student[kor] # 국어 점수의 총합 구하기\n",
    "        toteng+=one_student[eng] # 여어 점수의 총합 구하기\n",
    "        totmat+=one_student[mat] # 수학 점수의 총합 구하기\n",
    "    print(\"=\"*50) # 등호 50개 출력\n",
    "    print(\"반총점\\t\",totkor,\"\\t\",toteng,\"\\t\",totmat,\"\\t\"\\\n",
    "    ,(totkor+toteng+totmat),\"\\t\",(totkor+toteng+totmat)/3//9) \n",
    "# 각 과목의 총합과 모든 총합, 그에 따른 평균을 출력\n",
    "    print(\"=\"*50) # 등호 50개 출력\n",
    "    \n",
    "# 데이터\n",
    "dili_score=[\"나연,100,90,100\",\n",
    "\"정연,90,90,100\",\n",
    "\"모모,80,70,90\",\n",
    "\"사나,90,90,80\",\n",
    "\"지효,100,80,80\",\n",
    "\"미나,50,90,90\",\n",
    "\"다현,80,60,100\",\n",
    "\"채영,70,80,90\",\n",
    "\"쯔위,100,90,90\"]\n",
    "\n",
    "score=[] # 점수를 담을 리스트 선언\n",
    "for one_rec in dili_score: # 데이터 개수 만큼 반복문\n",
    "    one_score=one_rec.split(\",\") # 쉼표를 기준으로 데이터 나누기\n",
    "    one_score[1]=int(one_score[1]) #국어점수 숫자형 변환\n",
    "    one_score[2]=int(one_score[2]) #영어점수 숫자형 변환\n",
    "    one_score[3]=int(one_score[3]) #수학점수 숫자형 변환 \n",
    "    score.append(one_score.copy()) # copy에 주의할 것..값 복사\n",
    "print(score)\n",
    "name=0; kor=1; eng=2; mat=3 # 각 변수들의 리스트에서의 위치\n",
    "\n",
    "#여기부터 프로그램 \n",
    "titleprint() # 제목 출력 함수\n",
    "for one_student in score: # 2차원 리스트 크기만큼 반복하는 반복문\n",
    "    itemprint(one_student[name],one_student[kor],one_student[eng],one_student[mat]) # 내용 출력 함수\n",
    "tailprint() # 꼬리 출력 함수"
   ]
  },
  {
   "cell_type": "code",
   "execution_count": 19,
   "id": "a6425e3e",
   "metadata": {},
   "outputs": [
    {
     "name": "stdout",
     "output_type": "stream",
     "text": [
      "case1\n",
      "품목: 오징어땅콩  단가: 1000 원 수량: 10 개 합계: 10000 원\n",
      "case2\n",
      "품목:오징어땅콩  단가:1000원 수량:10개 합계:10000원\n",
      "case3\n",
      "품목:오징어땅콩 단가:1000원 수량:10개 합계:10000원\n",
      "case4\n",
      "품목:오징어땅콩      단가:01000원 수량:0x0a개 합계: 10000.000원\n"
     ]
    }
   ],
   "source": [
    "item=\"오징어땅콩\"   #품목 \n",
    "unit=1000           #단가 \n",
    "qty=10              #수량 \n",
    "tot=unit*qty        #합계\n",
    "print(\"case1\") #지금까지 사용한 print방법, 칸이 띄어서 출력\n",
    "print(\"품목:\",item,\" 단가:\",unit,\"원 수량:\",qty,\"개 합계:\",tot,\"원\")\n",
    "\n",
    "print(\"case2\") #하나의 긴 문자열을 만들어 출력하면 공백없이 출력이 가능\n",
    "print(\"품목:\"+item+\"  단가:\"+str(unit)+\"원 수량:\"+str(qty)+\"개 합계:\"+str(tot)+\"원\")\n",
    "\n",
    "print(\"case3\") #출력포멧문자를 지정하여 원하는 포멧으로 출력이 가능\n",
    "print(\"품목:%s 단가:%d원 수량:%d개 합계:%d원\"%(item,unit,qty,tot))\n",
    "print(\"case4\") #포멧팅 예\n",
    "print(\"품목:%-10s 단가:%05d원 수량:0x%02x개 합계:%10.3f원\"%(item,unit,qty,tot))"
   ]
  },
  {
   "cell_type": "code",
   "execution_count": 21,
   "id": "bdeec33d",
   "metadata": {},
   "outputs": [
    {
     "name": "stdout",
     "output_type": "stream",
     "text": [
      "[ 1000][1000 ][01000]\n",
      "[   땅콩][땅콩   ][   땅콩]\n",
      "[1000]=[3e8][0x3e8][1750]\n",
      "[ 1000%]\n",
      "[a][b][c]\n"
     ]
    }
   ],
   "source": [
    "item=\"땅콩\" # 문자 \n",
    "unit=1000   # 숫자\n",
    "\n",
    "print(\"[%5d][%-5d][%05d]\"%(unit,unit,unit)) # 숫자를 여러방법으로 출력\n",
    "print(\"[%5s][%-5s][%05s]\"%(item,item,item)) # 문자를 여러방법으로 출력\n",
    "print(\"[%d]=[%x][%#x][%o]\"%(unit,unit,unit,unit)) # 숫자를 정수형, 16진수, 16진수, 8진수로 출력\n",
    "print(\"[%5d%%]\"%unit) # 숫자를 % 로 출력\n",
    "\n",
    "#한글은 1byte로 자르면 에러\n",
    "#print(\"[%c][%c][%c]\"%(unit[0],unit[1])) \n",
    "a=\"abcd\"\n",
    "print(\"[%c][%c][%c]\"%(a[0],a[1],a[2])) # 1byte씩 자르기"
   ]
  },
  {
   "cell_type": "code",
   "execution_count": 22,
   "id": "38988994",
   "metadata": {},
   "outputs": [
    {
     "name": "stdout",
     "output_type": "stream",
     "text": [
      "-1,234,567,890.123\n"
     ]
    }
   ],
   "source": [
    "# 숫자에 콤마 찍기\n",
    "import locale #locale라이브러리를 임포트 함, 설치는 필요없음 \n",
    "locale.setlocale(locale.LC_ALL, \"\") # 시스템 기본 로케일 사용 \n",
    "n = -1234567890.123 # 변수 n 정의\n",
    "s = locale.format_string(\"%.3f\", n, 1) # 콤마찍기\n",
    "print(s) # 출력"
   ]
  },
  {
   "cell_type": "code",
   "execution_count": 23,
   "id": "64947354",
   "metadata": {},
   "outputs": [
    {
     "name": "stdout",
     "output_type": "stream",
     "text": [
      "***************************************************\n",
      "총금액:    1,000,000원 \t달러환율: $1,010       \n",
      "지급달러: $988         \n",
      "거스름돈:      5원    \t은행수수료:  1,996원\n",
      "***************************************************\n"
     ]
    }
   ],
   "source": [
    "# 환율 문제 업글\n",
    "import locale #locale라이브러리를 임포트 함, 설치는 필요없음 \n",
    "locale.setlocale(locale.LC_ALL, \"\") # 시스템 기본 로케일 사용 \n",
    "\n",
    "myWon = 1000000 # 환전할 돈 백만원\n",
    "moneyEx = 1010.12 # 환율\n",
    "rate = 0.002 # 환전 수수료\n",
    "usd = int(myWon / (moneyEx*(1+rate))) # 1달러당 환전수수료를 포함하여 지급달러 계산\n",
    "commission = usd * moneyEx * rate # 환전 수수료를 얼마 받을지 계산\n",
    "if commission == int(commission) : commission = int(commission) # 만약 환전 수수료가 정수로 떨어지면 그대로\n",
    "else : commission = int(commission)+1 # 정수로 안 떨어지면 +1 원\n",
    "remain = int(myWon - usd*moneyEx - commission) # 거스름돈 계산\n",
    "\n",
    "# 출력할 때 세자리마다 콤마를 추가함\n",
    "print(\"***************************************************\") \n",
    "print(\"총금액: %s원 \\t달러환율: $%s\"%( \\\n",
    "    locale.format_string(\"%12d\", myWon, 1), \\\n",
    "    locale.format_string(\"%-12d\", moneyEx, 1)) )\n",
    "print(\"지급달러: $%s\"% locale.format_string(\"%-12d\", usd, 1)) \n",
    "print(\"거스름돈: %s원    \\t은행수수료: %s원\"%( \\\n",
    "    locale.format_string(\"%6d\", remain, 1), \\\n",
    "    locale.format_string(\"%6d\", commission, 1)) )\n",
    "print(\"***************************************************\")"
   ]
  },
  {
   "cell_type": "code",
   "execution_count": null,
   "id": "52303fcf",
   "metadata": {},
   "outputs": [],
   "source": []
  }
 ],
 "metadata": {
  "kernelspec": {
   "display_name": "Python 3 (ipykernel)",
   "language": "python",
   "name": "python3"
  },
  "language_info": {
   "codemirror_mode": {
    "name": "ipython",
    "version": 3
   },
   "file_extension": ".py",
   "mimetype": "text/x-python",
   "name": "python",
   "nbconvert_exporter": "python",
   "pygments_lexer": "ipython3",
   "version": "3.8.8rc1"
  }
 },
 "nbformat": 4,
 "nbformat_minor": 5
}
