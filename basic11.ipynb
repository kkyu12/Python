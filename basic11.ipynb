{
 "cells": [
  {
   "cell_type": "code",
   "execution_count": 1,
   "id": "ee1fc8ca",
   "metadata": {},
   "outputs": [
    {
     "name": "stdout",
     "output_type": "stream",
     "text": [
      "0.0\n",
      "3.141592653589793\n",
      "1.0\n"
     ]
    }
   ],
   "source": [
    "# python을 설치하면 자주 사용되는 다양한 함수(def)가 표준 라이브러리에 포함되어 있음\n",
    "# 라이브러리 : 함수를 모아 놓은 개념\n",
    "import math # 수학관련 라이브러리를 사용하기위해 선언\n",
    "print(math.sin(0)) # sin0 = 0\n",
    "print(math.pi) # pi 출력\n",
    "print(math.sin(math.pi/2.0)) # sin(pi/2) = 1"
   ]
  },
  {
   "cell_type": "code",
   "execution_count": 2,
   "id": "b5a9997c",
   "metadata": {},
   "outputs": [
    {
     "data": {
      "text/plain": [
       "1.0"
      ]
     },
     "execution_count": 2,
     "metadata": {},
     "output_type": "execute_result"
    }
   ],
   "source": [
    "import math # import 라이브러리명 으로 선언\n",
    "math.sin(math.pi/2.0) # sin(pi/2) = 1"
   ]
  },
  {
   "cell_type": "code",
   "execution_count": 3,
   "id": "603a7f3d",
   "metadata": {},
   "outputs": [
    {
     "name": "stdout",
     "output_type": "stream",
     "text": [
      "0.9999999999999466\n",
      "1.0\n"
     ]
    }
   ],
   "source": [
    "from math import sin # from 라이브러리명 import 함수명 으로 선언\n",
    "print(sin(3.141592/2)) # pi 근사값으로 계산\n",
    "from math import sin,pi #여러    함수    사용시\n",
    "print(math.sin(math.pi/2.0)) # sin(pi/2) = 1"
   ]
  },
  {
   "cell_type": "code",
   "execution_count": 4,
   "id": "2b0dff5d",
   "metadata": {},
   "outputs": [
    {
     "data": {
      "text/plain": [
       "1.0"
      ]
     },
     "execution_count": 4,
     "metadata": {},
     "output_type": "execute_result"
    }
   ],
   "source": [
    "import math as m # import 라이브러리명 as 단축명 으로 선언\n",
    "m.sin(m.pi/2.0) # sin(pi/2) = 1"
   ]
  },
  {
   "cell_type": "code",
   "execution_count": 5,
   "id": "ae43309f",
   "metadata": {},
   "outputs": [
    {
     "name": "stdout",
     "output_type": "stream",
     "text": [
      "Help on built-in module math:\n",
      "\n",
      "NAME\n",
      "    math\n",
      "\n",
      "DESCRIPTION\n",
      "    This module provides access to the mathematical functions\n",
      "    defined by the C standard.\n",
      "\n",
      "FUNCTIONS\n",
      "    acos(x, /)\n",
      "        Return the arc cosine (measured in radians) of x.\n",
      "    \n",
      "    acosh(x, /)\n",
      "        Return the inverse hyperbolic cosine of x.\n",
      "    \n",
      "    asin(x, /)\n",
      "        Return the arc sine (measured in radians) of x.\n",
      "    \n",
      "    asinh(x, /)\n",
      "        Return the inverse hyperbolic sine of x.\n",
      "    \n",
      "    atan(x, /)\n",
      "        Return the arc tangent (measured in radians) of x.\n",
      "    \n",
      "    atan2(y, x, /)\n",
      "        Return the arc tangent (measured in radians) of y/x.\n",
      "        \n",
      "        Unlike atan(y/x), the signs of both x and y are considered.\n",
      "    \n",
      "    atanh(x, /)\n",
      "        Return the inverse hyperbolic tangent of x.\n",
      "    \n",
      "    ceil(x, /)\n",
      "        Return the ceiling of x as an Integral.\n",
      "        \n",
      "        This is the smallest integer >= x.\n",
      "    \n",
      "    comb(n, k, /)\n",
      "        Number of ways to choose k items from n items without repetition and without order.\n",
      "        \n",
      "        Evaluates to n! / (k! * (n - k)!) when k <= n and evaluates\n",
      "        to zero when k > n.\n",
      "        \n",
      "        Also called the binomial coefficient because it is equivalent\n",
      "        to the coefficient of k-th term in polynomial expansion of the\n",
      "        expression (1 + x)**n.\n",
      "        \n",
      "        Raises TypeError if either of the arguments are not integers.\n",
      "        Raises ValueError if either of the arguments are negative.\n",
      "    \n",
      "    copysign(x, y, /)\n",
      "        Return a float with the magnitude (absolute value) of x but the sign of y.\n",
      "        \n",
      "        On platforms that support signed zeros, copysign(1.0, -0.0)\n",
      "        returns -1.0.\n",
      "    \n",
      "    cos(x, /)\n",
      "        Return the cosine of x (measured in radians).\n",
      "    \n",
      "    cosh(x, /)\n",
      "        Return the hyperbolic cosine of x.\n",
      "    \n",
      "    degrees(x, /)\n",
      "        Convert angle x from radians to degrees.\n",
      "    \n",
      "    dist(p, q, /)\n",
      "        Return the Euclidean distance between two points p and q.\n",
      "        \n",
      "        The points should be specified as sequences (or iterables) of\n",
      "        coordinates.  Both inputs must have the same dimension.\n",
      "        \n",
      "        Roughly equivalent to:\n",
      "            sqrt(sum((px - qx) ** 2.0 for px, qx in zip(p, q)))\n",
      "    \n",
      "    erf(x, /)\n",
      "        Error function at x.\n",
      "    \n",
      "    erfc(x, /)\n",
      "        Complementary error function at x.\n",
      "    \n",
      "    exp(x, /)\n",
      "        Return e raised to the power of x.\n",
      "    \n",
      "    expm1(x, /)\n",
      "        Return exp(x)-1.\n",
      "        \n",
      "        This function avoids the loss of precision involved in the direct evaluation of exp(x)-1 for small x.\n",
      "    \n",
      "    fabs(x, /)\n",
      "        Return the absolute value of the float x.\n",
      "    \n",
      "    factorial(x, /)\n",
      "        Find x!.\n",
      "        \n",
      "        Raise a ValueError if x is negative or non-integral.\n",
      "    \n",
      "    floor(x, /)\n",
      "        Return the floor of x as an Integral.\n",
      "        \n",
      "        This is the largest integer <= x.\n",
      "    \n",
      "    fmod(x, y, /)\n",
      "        Return fmod(x, y), according to platform C.\n",
      "        \n",
      "        x % y may differ.\n",
      "    \n",
      "    frexp(x, /)\n",
      "        Return the mantissa and exponent of x, as pair (m, e).\n",
      "        \n",
      "        m is a float and e is an int, such that x = m * 2.**e.\n",
      "        If x is 0, m and e are both 0.  Else 0.5 <= abs(m) < 1.0.\n",
      "    \n",
      "    fsum(seq, /)\n",
      "        Return an accurate floating point sum of values in the iterable seq.\n",
      "        \n",
      "        Assumes IEEE-754 floating point arithmetic.\n",
      "    \n",
      "    gamma(x, /)\n",
      "        Gamma function at x.\n",
      "    \n",
      "    gcd(x, y, /)\n",
      "        greatest common divisor of x and y\n",
      "    \n",
      "    hypot(...)\n",
      "        hypot(*coordinates) -> value\n",
      "        \n",
      "        Multidimensional Euclidean distance from the origin to a point.\n",
      "        \n",
      "        Roughly equivalent to:\n",
      "            sqrt(sum(x**2 for x in coordinates))\n",
      "        \n",
      "        For a two dimensional point (x, y), gives the hypotenuse\n",
      "        using the Pythagorean theorem:  sqrt(x*x + y*y).\n",
      "        \n",
      "        For example, the hypotenuse of a 3/4/5 right triangle is:\n",
      "        \n",
      "            >>> hypot(3.0, 4.0)\n",
      "            5.0\n",
      "    \n",
      "    isclose(a, b, *, rel_tol=1e-09, abs_tol=0.0)\n",
      "        Determine whether two floating point numbers are close in value.\n",
      "        \n",
      "          rel_tol\n",
      "            maximum difference for being considered \"close\", relative to the\n",
      "            magnitude of the input values\n",
      "          abs_tol\n",
      "            maximum difference for being considered \"close\", regardless of the\n",
      "            magnitude of the input values\n",
      "        \n",
      "        Return True if a is close in value to b, and False otherwise.\n",
      "        \n",
      "        For the values to be considered close, the difference between them\n",
      "        must be smaller than at least one of the tolerances.\n",
      "        \n",
      "        -inf, inf and NaN behave similarly to the IEEE 754 Standard.  That\n",
      "        is, NaN is not close to anything, even itself.  inf and -inf are\n",
      "        only close to themselves.\n",
      "    \n",
      "    isfinite(x, /)\n",
      "        Return True if x is neither an infinity nor a NaN, and False otherwise.\n",
      "    \n",
      "    isinf(x, /)\n",
      "        Return True if x is a positive or negative infinity, and False otherwise.\n",
      "    \n",
      "    isnan(x, /)\n",
      "        Return True if x is a NaN (not a number), and False otherwise.\n",
      "    \n",
      "    isqrt(n, /)\n",
      "        Return the integer part of the square root of the input.\n",
      "    \n",
      "    ldexp(x, i, /)\n",
      "        Return x * (2**i).\n",
      "        \n",
      "        This is essentially the inverse of frexp().\n",
      "    \n",
      "    lgamma(x, /)\n",
      "        Natural logarithm of absolute value of Gamma function at x.\n",
      "    \n",
      "    log(...)\n",
      "        log(x, [base=math.e])\n",
      "        Return the logarithm of x to the given base.\n",
      "        \n",
      "        If the base not specified, returns the natural logarithm (base e) of x.\n",
      "    \n",
      "    log10(x, /)\n",
      "        Return the base 10 logarithm of x.\n",
      "    \n",
      "    log1p(x, /)\n",
      "        Return the natural logarithm of 1+x (base e).\n",
      "        \n",
      "        The result is computed in a way which is accurate for x near zero.\n",
      "    \n",
      "    log2(x, /)\n",
      "        Return the base 2 logarithm of x.\n",
      "    \n",
      "    modf(x, /)\n",
      "        Return the fractional and integer parts of x.\n",
      "        \n",
      "        Both results carry the sign of x and are floats.\n",
      "    \n",
      "    perm(n, k=None, /)\n",
      "        Number of ways to choose k items from n items without repetition and with order.\n",
      "        \n",
      "        Evaluates to n! / (n - k)! when k <= n and evaluates\n",
      "        to zero when k > n.\n",
      "        \n",
      "        If k is not specified or is None, then k defaults to n\n",
      "        and the function returns n!.\n",
      "        \n",
      "        Raises TypeError if either of the arguments are not integers.\n",
      "        Raises ValueError if either of the arguments are negative.\n",
      "    \n",
      "    pow(x, y, /)\n",
      "        Return x**y (x to the power of y).\n",
      "    \n",
      "    prod(iterable, /, *, start=1)\n",
      "        Calculate the product of all the elements in the input iterable.\n",
      "        \n",
      "        The default start value for the product is 1.\n",
      "        \n",
      "        When the iterable is empty, return the start value.  This function is\n",
      "        intended specifically for use with numeric values and may reject\n",
      "        non-numeric types.\n",
      "    \n",
      "    radians(x, /)\n",
      "        Convert angle x from degrees to radians.\n",
      "    \n",
      "    remainder(x, y, /)\n",
      "        Difference between x and the closest integer multiple of y.\n",
      "        \n",
      "        Return x - n*y where n*y is the closest integer multiple of y.\n",
      "        In the case where x is exactly halfway between two multiples of\n",
      "        y, the nearest even value of n is used. The result is always exact.\n",
      "    \n",
      "    sin(x, /)\n",
      "        Return the sine of x (measured in radians).\n",
      "    \n",
      "    sinh(x, /)\n",
      "        Return the hyperbolic sine of x.\n",
      "    \n",
      "    sqrt(x, /)\n",
      "        Return the square root of x.\n",
      "    \n",
      "    tan(x, /)\n",
      "        Return the tangent of x (measured in radians).\n",
      "    \n",
      "    tanh(x, /)\n",
      "        Return the hyperbolic tangent of x.\n",
      "    \n",
      "    trunc(x, /)\n",
      "        Truncates the Real x to the nearest Integral toward 0.\n",
      "        \n",
      "        Uses the __trunc__ magic method.\n",
      "\n",
      "DATA\n",
      "    e = 2.718281828459045\n",
      "    inf = inf\n",
      "    nan = nan\n",
      "    pi = 3.141592653589793\n",
      "    tau = 6.283185307179586\n",
      "\n",
      "FILE\n",
      "    (built-in)\n",
      "\n",
      "\n"
     ]
    }
   ],
   "source": [
    "import math\n",
    "help(math)"
   ]
  },
  {
   "cell_type": "code",
   "execution_count": 8,
   "id": "e7b6a35a",
   "metadata": {},
   "outputs": [
    {
     "name": "stdout",
     "output_type": "stream",
     "text": [
      "                                                  [0.000000]\n",
      "                                                  [0.017452]\n",
      "                                                   [0.034899]\n",
      "                                                    [0.052336]\n",
      "                                                     [0.069756]\n",
      "                                                      [0.087156]\n",
      "                                                       [0.104528]\n",
      "                                                        [0.121869]\n",
      "                                                        [0.139173]\n",
      "                                                         [0.156434]\n",
      "                                                          [0.173648]\n",
      "                                                           [0.190809]\n",
      "                                                            [0.207912]\n",
      "                                                             [0.224951]\n",
      "                                                              [0.241922]\n",
      "                                                              [0.258819]\n",
      "                                                               [0.275637]\n",
      "                                                                [0.292372]\n",
      "                                                                 [0.309017]\n",
      "                                                                  [0.325568]\n",
      "                                                                   [0.342020]\n",
      "                                                                   [0.358368]\n",
      "                                                                    [0.374607]\n",
      "                                                                     [0.390731]\n",
      "                                                                      [0.406737]\n",
      "                                                                       [0.422618]\n",
      "                                                                       [0.438371]\n",
      "                                                                        [0.453990]\n",
      "                                                                         [0.469472]\n",
      "                                                                          [0.484810]\n",
      "                                                                           [0.500000]\n",
      "                                                                           [0.515038]\n",
      "                                                                            [0.529919]\n",
      "                                                                             [0.544639]\n",
      "                                                                             [0.559193]\n",
      "                                                                              [0.573576]\n",
      "                                                                               [0.587785]\n",
      "                                                                                [0.601815]\n",
      "                                                                                [0.615661]\n",
      "                                                                                 [0.629320]\n",
      "                                                                                  [0.642788]\n",
      "                                                                                  [0.656059]\n",
      "                                                                                   [0.669131]\n",
      "                                                                                    [0.681998]\n",
      "                                                                                    [0.694658]\n",
      "                                                                                     [0.707107]\n",
      "                                                                                     [0.719340]\n",
      "                                                                                      [0.731354]\n",
      "                                                                                       [0.743145]\n",
      "                                                                                       [0.754710]\n",
      "                                                                                        [0.766044]\n",
      "                                                                                        [0.777146]\n",
      "                                                                                         [0.788011]\n",
      "                                                                                         [0.798636]\n",
      "                                                                                          [0.809017]\n",
      "                                                                                          [0.819152]\n",
      "                                                                                           [0.829038]\n",
      "                                                                                           [0.838671]\n",
      "                                                                                            [0.848048]\n",
      "                                                                                            [0.857167]\n",
      "                                                                                             [0.866025]\n",
      "                                                                                             [0.874620]\n",
      "                                                                                              [0.882948]\n",
      "                                                                                              [0.891007]\n",
      "                                                                                              [0.898794]\n",
      "                                                                                               [0.906308]\n",
      "                                                                                               [0.913545]\n",
      "                                                                                                [0.920505]\n",
      "                                                                                                [0.927184]\n",
      "                                                                                                [0.933580]\n",
      "                                                                                                [0.939693]\n",
      "                                                                                                 [0.945519]\n",
      "                                                                                                 [0.951057]\n",
      "                                                                                                 [0.956305]\n",
      "                                                                                                  [0.961262]\n",
      "                                                                                                  [0.965926]\n",
      "                                                                                                  [0.970296]\n",
      "                                                                                                  [0.974370]\n",
      "                                                                                                  [0.978148]\n",
      "                                                                                                   [0.981627]\n",
      "                                                                                                   [0.984808]\n",
      "                                                                                                   [0.987688]\n",
      "                                                                                                   [0.990268]\n",
      "                                                                                                   [0.992546]\n",
      "                                                                                                   [0.994522]\n",
      "                                                                                                   [0.996195]\n",
      "                                                                                                   [0.997564]\n",
      "                                                                                                   [0.998630]\n",
      "                                                                                                   [0.999391]\n",
      "                                                                                                   [0.999848]\n",
      "                                                                                                    [1.000000]\n",
      "                                                                                                   [0.999848]\n",
      "                                                                                                   [0.999391]\n",
      "                                                                                                   [0.998630]\n",
      "                                                                                                   [0.997564]\n",
      "                                                                                                   [0.996195]\n",
      "                                                                                                   [0.994522]\n",
      "                                                                                                   [0.992546]\n",
      "                                                                                                   [0.990268]\n",
      "                                                                                                   [0.987688]\n",
      "                                                                                                   [0.984808]\n",
      "                                                                                                   [0.981627]\n",
      "                                                                                                  [0.978148]\n",
      "                                                                                                  [0.974370]\n",
      "                                                                                                  [0.970296]\n",
      "                                                                                                  [0.965926]\n",
      "                                                                                                  [0.961262]\n",
      "                                                                                                 [0.956305]\n",
      "                                                                                                 [0.951057]\n",
      "                                                                                                 [0.945519]\n",
      "                                                                                                [0.939693]\n",
      "                                                                                                [0.933580]\n",
      "                                                                                                [0.927184]\n",
      "                                                                                                [0.920505]\n",
      "                                                                                               [0.913545]\n",
      "                                                                                               [0.906308]\n",
      "                                                                                              [0.898794]\n",
      "                                                                                              [0.891007]\n",
      "                                                                                              [0.882948]\n",
      "                                                                                             [0.874620]\n",
      "                                                                                             [0.866025]\n",
      "                                                                                            [0.857167]\n",
      "                                                                                            [0.848048]\n",
      "                                                                                           [0.838671]\n",
      "                                                                                           [0.829038]\n",
      "                                                                                          [0.819152]\n",
      "                                                                                          [0.809017]\n",
      "                                                                                         [0.798636]\n",
      "                                                                                         [0.788011]\n",
      "                                                                                        [0.777146]\n",
      "                                                                                        [0.766044]\n",
      "                                                                                       [0.754710]\n",
      "                                                                                       [0.743145]\n",
      "                                                                                      [0.731354]\n",
      "                                                                                     [0.719340]\n",
      "                                                                                     [0.707107]\n",
      "                                                                                    [0.694658]\n",
      "                                                                                    [0.681998]\n",
      "                                                                                   [0.669131]\n",
      "                                                                                  [0.656059]\n",
      "                                                                                  [0.642788]\n",
      "                                                                                 [0.629320]\n",
      "                                                                                [0.615661]\n",
      "                                                                                [0.601815]\n",
      "                                                                               [0.587785]\n",
      "                                                                              [0.573576]\n",
      "                                                                             [0.559193]\n",
      "                                                                             [0.544639]\n",
      "                                                                            [0.529919]\n",
      "                                                                           [0.515038]\n",
      "                                                                           [0.500000]\n",
      "                                                                          [0.484810]\n",
      "                                                                         [0.469472]\n",
      "                                                                        [0.453990]\n",
      "                                                                       [0.438371]\n",
      "                                                                       [0.422618]\n",
      "                                                                      [0.406737]\n",
      "                                                                     [0.390731]\n",
      "                                                                    [0.374607]\n",
      "                                                                   [0.358368]\n",
      "                                                                   [0.342020]\n",
      "                                                                  [0.325568]\n",
      "                                                                 [0.309017]\n",
      "                                                                [0.292372]\n",
      "                                                               [0.275637]\n",
      "                                                              [0.258819]\n",
      "                                                              [0.241922]\n",
      "                                                             [0.224951]\n",
      "                                                            [0.207912]\n",
      "                                                           [0.190809]\n",
      "                                                          [0.173648]\n",
      "                                                         [0.156434]\n",
      "                                                        [0.139173]\n",
      "                                                        [0.121869]\n",
      "                                                       [0.104528]\n",
      "                                                      [0.087156]\n",
      "                                                     [0.069756]\n",
      "                                                    [0.052336]\n",
      "                                                   [0.034899]\n",
      "                                                  [0.017452]\n",
      "                                                  [0.000000]\n",
      "                                                 [-0.017452]\n",
      "                                                [-0.034899]\n",
      "                                               [-0.052336]\n",
      "                                              [-0.069756]\n",
      "                                             [-0.087156]\n",
      "                                            [-0.104528]\n",
      "                                           [-0.121869]\n",
      "                                           [-0.139173]\n",
      "                                          [-0.156434]\n",
      "                                         [-0.173648]\n",
      "                                        [-0.190809]\n",
      "                                       [-0.207912]\n",
      "                                      [-0.224951]\n",
      "                                     [-0.241922]\n",
      "                                     [-0.258819]\n",
      "                                    [-0.275637]\n",
      "                                   [-0.292372]\n",
      "                                  [-0.309017]\n",
      "                                 [-0.325568]\n",
      "                                [-0.342020]\n",
      "                                [-0.358368]\n",
      "                               [-0.374607]\n",
      "                              [-0.390731]\n",
      "                             [-0.406737]\n",
      "                            [-0.422618]\n",
      "                            [-0.438371]\n",
      "                           [-0.453990]\n",
      "                          [-0.469472]\n",
      "                         [-0.484810]\n",
      "                        [-0.500000]\n",
      "                        [-0.515038]\n",
      "                       [-0.529919]\n",
      "                      [-0.544639]\n",
      "                      [-0.559193]\n",
      "                     [-0.573576]\n",
      "                    [-0.587785]\n",
      "                   [-0.601815]\n",
      "                   [-0.615661]\n",
      "                  [-0.629320]\n",
      "                 [-0.642788]\n",
      "                 [-0.656059]\n",
      "                [-0.669131]\n",
      "               [-0.681998]\n",
      "               [-0.694658]\n",
      "              [-0.707107]\n",
      "              [-0.719340]\n",
      "             [-0.731354]\n",
      "            [-0.743145]\n",
      "            [-0.754710]\n",
      "           [-0.766044]\n",
      "           [-0.777146]\n",
      "          [-0.788011]\n",
      "          [-0.798636]\n",
      "         [-0.809017]\n",
      "         [-0.819152]\n",
      "        [-0.829038]\n",
      "        [-0.838671]\n",
      "       [-0.848048]\n",
      "       [-0.857167]\n",
      "      [-0.866025]\n",
      "      [-0.874620]\n",
      "     [-0.882948]\n",
      "     [-0.891007]\n",
      "     [-0.898794]\n",
      "    [-0.906308]\n",
      "    [-0.913545]\n",
      "   [-0.920505]\n",
      "   [-0.927184]\n",
      "   [-0.933580]\n",
      "   [-0.939693]\n",
      "  [-0.945519]\n",
      "  [-0.951057]\n",
      "  [-0.956305]\n",
      " [-0.961262]\n",
      " [-0.965926]\n",
      " [-0.970296]\n",
      " [-0.974370]\n",
      " [-0.978148]\n",
      "[-0.981627]\n",
      "[-0.984808]\n",
      "[-0.987688]\n",
      "[-0.990268]\n",
      "[-0.992546]\n",
      "[-0.994522]\n",
      "[-0.996195]\n",
      "[-0.997564]\n",
      "[-0.998630]\n",
      "[-0.999391]\n",
      "[-0.999848]\n",
      "[-1.000000]\n",
      "[-0.999848]\n",
      "[-0.999391]\n",
      "[-0.998630]\n",
      "[-0.997564]\n",
      "[-0.996195]\n",
      "[-0.994522]\n",
      "[-0.992546]\n",
      "[-0.990268]\n",
      "[-0.987688]\n",
      "[-0.984808]\n",
      "[-0.981627]\n",
      " [-0.978148]\n",
      " [-0.974370]\n",
      " [-0.970296]\n",
      " [-0.965926]\n",
      " [-0.961262]\n",
      "  [-0.956305]\n",
      "  [-0.951057]\n",
      "  [-0.945519]\n",
      "   [-0.939693]\n",
      "   [-0.933580]\n",
      "   [-0.927184]\n",
      "   [-0.920505]\n",
      "    [-0.913545]\n",
      "    [-0.906308]\n",
      "     [-0.898794]\n",
      "     [-0.891007]\n",
      "     [-0.882948]\n",
      "      [-0.874620]\n",
      "      [-0.866025]\n",
      "       [-0.857167]\n",
      "       [-0.848048]\n",
      "        [-0.838671]\n",
      "        [-0.829038]\n",
      "         [-0.819152]\n",
      "         [-0.809017]\n",
      "          [-0.798636]\n",
      "          [-0.788011]\n",
      "           [-0.777146]\n",
      "           [-0.766044]\n",
      "            [-0.754710]\n",
      "            [-0.743145]\n",
      "             [-0.731354]\n",
      "              [-0.719340]\n",
      "              [-0.707107]\n",
      "               [-0.694658]\n",
      "               [-0.681998]\n",
      "                [-0.669131]\n",
      "                 [-0.656059]\n",
      "                 [-0.642788]\n",
      "                  [-0.629320]\n",
      "                   [-0.615661]\n",
      "                   [-0.601815]\n",
      "                    [-0.587785]\n",
      "                     [-0.573576]\n",
      "                      [-0.559193]\n",
      "                      [-0.544639]\n",
      "                       [-0.529919]\n",
      "                        [-0.515038]\n",
      "                        [-0.500000]\n",
      "                         [-0.484810]\n",
      "                          [-0.469472]\n",
      "                           [-0.453990]\n",
      "                            [-0.438371]\n",
      "                            [-0.422618]\n",
      "                             [-0.406737]\n",
      "                              [-0.390731]\n",
      "                               [-0.374607]\n",
      "                                [-0.358368]\n",
      "                                [-0.342020]\n",
      "                                 [-0.325568]\n",
      "                                  [-0.309017]\n",
      "                                   [-0.292372]\n",
      "                                    [-0.275637]\n",
      "                                     [-0.258819]\n",
      "                                     [-0.241922]\n",
      "                                      [-0.224951]\n",
      "                                       [-0.207912]\n",
      "                                        [-0.190809]\n",
      "                                         [-0.173648]\n",
      "                                          [-0.156434]\n",
      "                                           [-0.139173]\n",
      "                                           [-0.121869]\n",
      "                                            [-0.104528]\n",
      "                                             [-0.087156]\n",
      "                                              [-0.069756]\n",
      "                                               [-0.052336]\n",
      "                                                [-0.034899]\n",
      "                                                 [-0.017452]\n"
     ]
    }
   ],
   "source": [
    "from math import sin,pi # 수학관련 라이브러리를 사용하기위해 선언\n",
    "for i in range(360): # 0부터 360까지 반복문\n",
    "    sin_value=sin(i*pi/180) # sin 값 구하기\n",
    "    space_value=int( (1+sin_value)*50) # sin 값에 비례하게 빈칸 추가\n",
    "    print(\" \"*space_value, end=\"\") # 출력\n",
    "    print(\"[%f]\"%sin_value) # sin계산 값 출력"
   ]
  },
  {
   "cell_type": "code",
   "execution_count": 10,
   "id": "52720437",
   "metadata": {},
   "outputs": [
    {
     "data": {
      "image/png": "[encoded data removed]",
      "text/plain": [
       "<Figure size 432x288 with 1 Axes>"
      ]
     },
     "metadata": {
      "needs_background": "light"
     },
     "output_type": "display_data"
    }
   ],
   "source": [
    "from math import sin,pi # 수학관련 라이브러리를 사용하기위해 선언\n",
    "import matplotlib.pyplot as plt # 그래프 그리기 위한 라이브러리를 사용하기위해 선언\n",
    "graph_value=[]  # 리스트 선언,빈 리스트를 만들어야 append가능 \n",
    "for i in range(360): # 0에서 360까지 반복문\n",
    "    graph_value.append(sin(i*pi/180)) # sin값을 하나씩 리스트에 넣음 \n",
    "plt.plot(graph_value) # 해당 리스트를 그래프 함수에 보냄\n",
    "plt.show() # 그래프 출력"
   ]
  },
  {
   "cell_type": "code",
   "execution_count": 11,
   "id": "0fc62a40",
   "metadata": {},
   "outputs": [
    {
     "name": "stdout",
     "output_type": "stream",
     "text": [
      "60.888888888888886\n",
      "34.18129768032675\n",
      "1168.361111111111\n"
     ]
    }
   ],
   "source": [
    "import statistics as s # 통계 관련 모듈\n",
    "a=[100,95,25,33,45,90,100,35,25] # 리스트 선언\n",
    "print(s.mean(a)) #평균\n",
    "print(s.stdev(a)) #표준편차\n",
    "print(s.variance(a)) #분산"
   ]
  },
  {
   "cell_type": "code",
   "execution_count": 12,
   "id": "1e041e4a",
   "metadata": {},
   "outputs": [
    {
     "data": {
      "text/plain": [
       "96.0"
      ]
     },
     "execution_count": 12,
     "metadata": {},
     "output_type": "execute_result"
    }
   ],
   "source": [
    "import statistics as s # 조화평균을 구하는 모듈\n",
    "s.harmonic_mean([120,80])  # 100km의 거리를 갈 땐 시속 120 올 때 80으로 왔을 때 평균 시속 구하기"
   ]
  },
  {
   "cell_type": "code",
   "execution_count": 2,
   "id": "f3fa2a38",
   "metadata": {},
   "outputs": [
    {
     "name": "stdout",
     "output_type": "stream",
     "text": [
      "1651639242.8266406\n",
      "Wed May  4 13:40:42 2022\n",
      "Thu Jan  1 09:00:00 1970\n"
     ]
    }
   ],
   "source": [
    "import time as t # 시간 관련 모듈\n",
    "a=t.time(); # 현재시간을 구함\n",
    "print(a) # 현재시간을 출력\n",
    "print(t.ctime(a)) # 초단위로 표시된 시간을 문자형식으로 표현 \n",
    "print(t.ctime(0)) # 우리나라 기준으로 time=0의 경우 1970년1월1일 오전9시 정각이다"
   ]
  },
  {
   "cell_type": "code",
   "execution_count": 3,
   "id": "70a1e246",
   "metadata": {},
   "outputs": [
    {
     "name": "stdout",
     "output_type": "stream",
     "text": [
      "time.struct_time(tm_year=2022, tm_mon=5, tm_mday=4, tm_hour=13, tm_min=40, tm_sec=49, tm_wday=2, tm_yday=124, tm_isdst=0)\n",
      "2022년 5월 4일 13시 40분 49초\n"
     ]
    }
   ],
   "source": [
    "import time as t # 시간 관련 모듈\n",
    "a=t.localtime() # 현지시간 가져오기\n",
    "print(a) # 시간을 출력\n",
    "print(\"%d년 %d월 %d일 %02d시 %02d분 %02d초\"%(a.tm_year,a.tm_mon,a. tm_mday,a.tm_hour,a.tm_min,a.tm_sec))\n",
    "# 원하는 포맷으로 출력"
   ]
  },
  {
   "cell_type": "code",
   "execution_count": 4,
   "id": "f408be7e",
   "metadata": {},
   "outputs": [
    {
     "name": "stdout",
     "output_type": "stream",
     "text": [
      "2022년 5월 4일 13시 40분 52초\n"
     ]
    }
   ],
   "source": [
    "import datetime as t # 시간 관련 모듈\n",
    "a=t.datetime.now() # 현재시간 가져오기\n",
    "print(\"%d년 %d월 %d일 %02d시 %02d분 %02d초\"%(a.year,a.month,a.day,a.hour,a.minute,a.second))\n",
    "# 원하는 포맷으로 출력"
   ]
  },
  {
   "cell_type": "code",
   "execution_count": 17,
   "id": "58f7589a",
   "metadata": {},
   "outputs": [
    {
     "name": "stdout",
     "output_type": "stream",
     "text": [
      "0.000999 초 동안 실행함\n"
     ]
    }
   ],
   "source": [
    "# 시간차 계산 : 시작 시간 초와 종료 시간 초의 차이로 실행 시간을 구할 수 있음\n",
    "import time as t # 시간 관련 모듈\n",
    "start=t.time() # 시작 시간 체크\n",
    "for i in range(10000): # 10000까지 계산하는 시간\n",
    "    pass # 아무것도 안함\n",
    "end=t.time() # # 끝나는 시간 체크\n",
    "print(\"%f 초 동안 실행함\"%(end-start)) # 얼마동안 실행됐는지 출력"
   ]
  },
  {
   "cell_type": "code",
   "execution_count": 5,
   "id": "02057f05",
   "metadata": {},
   "outputs": [
    {
     "name": "stdout",
     "output_type": "stream",
     "text": [
      "Wed May  4 13:40:56 2022\n",
      "Wed May  4 13:40:59 2022\n",
      "Wed May  4 13:41:02 2022\n",
      "Wed May  4 13:41:05 2022\n",
      "Wed May  4 13:41:08 2022\n",
      "Wed May  4 13:41:11 2022\n",
      "Wed May  4 13:41:14 2022\n",
      "Wed May  4 13:41:17 2022\n",
      "Wed May  4 13:41:20 2022\n",
      "Wed May  4 13:41:23 2022\n"
     ]
    }
   ],
   "source": [
    "import time as t # 시간 관련 모듈\n",
    "for i in range(10): # 0에서 9까지 반복문\n",
    "    print(t.ctime()) # 시간 출력\n",
    "    t.sleep(3) # 3초간 쉬기"
   ]
  },
  {
   "cell_type": "code",
   "execution_count": 19,
   "id": "8f0be5f0",
   "metadata": {},
   "outputs": [
    {
     "data": {
      "image/png": "[encoded data removed]",
      "text/plain": [
       "<Figure size 432x288 with 1 Axes>"
      ]
     },
     "metadata": {
      "needs_background": "light"
     },
     "output_type": "display_data"
    }
   ],
   "source": [
    "import random as r # 랜덤 모듈 사용\n",
    "import matplotlib.pyplot as plt # 그래프 그리기\n",
    "\n",
    "score=[] # 점수를 넣을 빈 리스트 생성\n",
    "for i in range(100): # 0에서 99까지 반복문\n",
    "    score.append(r.randrange(0,100)) # 0에서 100까지 임의의 정수를 발생\n",
    "\n",
    "plt.plot(score) # 그래프 그리기\n",
    "plt.show() # 그래프 출력"
   ]
  },
  {
   "cell_type": "code",
   "execution_count": 6,
   "id": "3c419fb0",
   "metadata": {},
   "outputs": [
    {
     "data": {
      "text/plain": [
       "'3.8.8rc1 (tags/v3.8.8rc1:dfd7d68, Feb 17 2021, 11:01:21) [MSC v.1928 64 bit (AMD64)]'"
      ]
     },
     "execution_count": 6,
     "metadata": {},
     "output_type": "execute_result"
    }
   ],
   "source": [
    "import sys # 시스템의 정보와 시스템을 관리할 수 있는 모듈\n",
    "sys.version  #파이썬 버전 조회"
   ]
  },
  {
   "cell_type": "code",
   "execution_count": 7,
   "id": "20da46ca",
   "metadata": {},
   "outputs": [
    {
     "data": {
      "text/plain": [
       "'win32'"
      ]
     },
     "execution_count": 7,
     "metadata": {},
     "output_type": "execute_result"
    }
   ],
   "source": [
    "import sys # 시스템의 정보와 시스템을 관리할 수 있는 모듈\n",
    "sys.platform  #파이썬 설치 플랫폼"
   ]
  },
  {
   "cell_type": "code",
   "execution_count": 8,
   "id": "8ceb15ec",
   "metadata": {},
   "outputs": [
    {
     "data": {
      "text/plain": [
       "sys.getwindowsversion(major=10, minor=0, build=19042, platform=2, service_pack='')"
      ]
     },
     "execution_count": 8,
     "metadata": {},
     "output_type": "execute_result"
    }
   ],
   "source": [
    "import sys # 시스템의 정보와 시스템을 관리할 수 있는 모듈\n",
    "sys.getwindowsversion() #설치된 윈도우의 버전"
   ]
  },
  {
   "cell_type": "code",
   "execution_count": 22,
   "id": "46781e27",
   "metadata": {},
   "outputs": [
    {
     "data": {
      "text/plain": [
       "'C:\\\\Users\\\\kopo\\\\Desktop\\\\P_src'"
      ]
     },
     "execution_count": 22,
     "metadata": {},
     "output_type": "execute_result"
    }
   ],
   "source": [
    "import os # operating system(운영체계  윈도우)을 제어할 수 있음\n",
    "os.getcwd() # 현재 실행 디렉토리를 얻을 수 있음"
   ]
  },
  {
   "cell_type": "code",
   "execution_count": 25,
   "id": "e0f4b5cc",
   "metadata": {},
   "outputs": [
    {
     "data": {
      "text/plain": [
       "1"
      ]
     },
     "execution_count": 25,
     "metadata": {},
     "output_type": "execute_result"
    }
   ],
   "source": [
    "os.system(\"calc\") #계산기 실행\n",
    "os.system(\"IDLE\") #IDLE실행,실행안됨 path가 다름, 1리턴\n",
    "os.system(\"python\") #파이썬 실행 실행된 상태에서 기다림\n",
    "os.system(\"shutdown -f -t 10\") #이 명령 수행전 모든 윈도우 프로그램을 정리할 것"
   ]
  },
  {
   "cell_type": "code",
   "execution_count": 27,
   "id": "af087bc9",
   "metadata": {},
   "outputs": [
    {
     "name": "stdout",
     "output_type": "stream",
     "text": [
      "<meta name=\"author\" content=\"폴리텍대학\" />\r\n",
      "\n",
      "<meta name=\"description\" content=\"폴리텍대학 홈페이지입니다.\" />\r\n",
      "\n",
      "<meta name=\"keywords\" content=\"폴리텍대학\" />\r\n",
      "\n",
      "<title>학교법인한국폴리텍</title>\r\n",
      "\n",
      "\t<a class=\"nav-skip__item\" href=\"#pg-div\">학교법인한국폴리텍본문 바로가기</a><br/>\r\n",
      "\n",
      "\t<a class=\"nav-skip__item\" href=\"#kopoMenu\">학교법인한국폴리텍주메뉴 바로가기</a>\r\n",
      "\n",
      "\t\t\t<a href =\"javascript:showAllCampus();\" title=\"폴리텍대학 캠퍼스 목록 표시\">전국 캠퍼스 안내</a>\r\n",
      "\n",
      "\t\t\t\t<h3>한국폴리텍대학 전국 캠퍼스 안내</h3>\r\n",
      "\n",
      "\t\t\t<img class=\"all_campus_map\" alt=\"한국폴리텍대학 전국 캠퍼스 지도\" src=\"/images/kopo/all_campus_map2.png\"/>\r\n",
      "\n",
      "\t\t<a href=\"#\" class=\"all_campus_close\" onclick=\"showAllCampus(); return false;\"><img alt=\"한국폴리텍대학 전국 캠퍼스 바로가기 닫기\" src=\"/images/kopo/all_cam_close.png\"/></a>\r\n",
      "\n",
      "\t\t\t<img src=\"/assets2021/img/logo_header_pc.png\" alt=\"한국폴리텍대학 \">\r\n",
      "\n",
      "\t\t\t\t\t\t\t폴리텍대학 소개</span></a><div class=\"depth-2\"><div class=\"container\">\r\n",
      "\n",
      "\t\t\t\t\t\t\t폴리텍대학 소개</span></a></div>\r\n",
      "\n",
      "\t\t\t\t\t\t\t폴리텍 역사</span></a></li>\r\n",
      "\n",
      "\t\t\t\t\t\t\t폴리텍대학 소식</span></a></div>\r\n",
      "\n",
      "\t\t\t\t\t\t\t폴리텍대학 홍보</span></a></div>\r\n",
      "\n",
      "\t\t\t\t\t\t\t폴리텍人 스토리 공모전 수상작</span></a></li>\r\n",
      "\n",
      "\t\t\t\t\t\t\t폴리텍 컬러링 신청</span></a></li>\r\n",
      "\n",
      "\t\t\t\t\t\t\t폴리텍대학 강점</span></a></div>\r\n",
      "\n",
      "\t\t\t\t\t\t\t참人폴리텍</span></a></li>\r\n",
      "\n",
      "\t<h2 class=\"hidden\">한국폴리텍 주요정보</h2>\r\n",
      "\n",
      "\t\t\t\t\t\t\t\t<span class=\"icon-quick\" style=\"background-image: url('https://www.kopo.ac.kr/cmm/fms/kopoImg.do?atchFileId=FILE_000000000276798&fileSn=0');\"></span><span class=\"icon-txt\">폴리텍 역사</span>\r\n",
      "\n",
      "\t\t\t\t<button onclick=\"popOpen('.sch-pop')\">나에게 맞는 폴리텍 과정 찾기</button>\r\n",
      "\n",
      "\t\t\t\t\t<span class=\"for-mobile\">나에게 맞는 폴리텍</span>\r\n",
      "\n",
      "\t<h2><span class=\"em\">폴리텍</span> 소식</h2>\r\n",
      "\n",
      "\t\t\t\t\t\t\t\t<p class=\"content\">한국폴리텍대학 2022년도 하반기 임용 교수초빙(전임교원) 공고</p>\r\n",
      "\n",
      "\t\t\t\t\t\t\t\t<p class=\"content\">매일노동뉴스-[조재희 한국폴리텍대학 이사장] “기술패권 시대, 누구나 일할 수 있는 사회 만들 것”</p>\r\n",
      "\n",
      "\t\t\t\t\t\t\t\t<p class=\"content\">한국대학신문-한국폴리텍대, 포스텍과 ‘맞손’…AI 공동연구센터 개소</p>\r\n",
      "\n",
      "\t\t\t\t\t\t\t\t<p class=\"content\">한국폴리텍대학 2022년도 하반기 임용 교수초빙(전임교원) 공고</p>\r\n",
      "\n",
      "\t\t\t\t\t\t\t\t<p class=\"content\">매일노동뉴스-[조재희 한국폴리텍대학 이사장] “기술패권 시대, 누구나 일할 수 있는 사회 만들 것”</p>\r\n",
      "\n",
      "\t\t\t\t\t\t\t\t<p class=\"content\">한국대학신문-한국폴리텍대, 포스텍과 ‘맞손’…AI 공동연구센터 개소</p>\r\n",
      "\n",
      "\t\t\t\t\t\t\t\t<p class=\"content\">[AI 인재 양성 현장을 가다]&lt;하&middot;끝&gt;&quot;AI 교육, 노량진 말고 폴리텍 광주로 오세요&quot;</p>\r\n",
      "\n",
      "\t\t\t\t\t\t\t\t<p class=\"content\">[AI 인재 양성 현장을 가다] &lt;중&gt;폴리텍 서울정수&middot;분당융기원 &quot;주부&middot;유학생도 AI 열공&quot;</p>\r\n",
      "\n",
      "\t\t\t\t\t\t\t\t<p class=\"content\">[AI 인재 양성 현장을 가다] &lt;상&gt;대구폴리텍 AI엔지니어링과</p>\r\n",
      "\n",
      "\t\t\t\t\t\t\t\t<p class=\"content\">파이낸셜뉴스-조재희 한국폴리텍 이사장, 대구캠퍼스 찾아</p>\r\n",
      "\n",
      "                   <a class=\"links\" style=\"cursor: pointer;\" href=\"https://kopo.brms.kr\" target=\"_blank\" title=\"새 창\"><img alt=\"2022년도 하반기 임용 한국폴리텍대학 교수초빙(전임교원)공고 모집인원 : 총 55명 접수기간 : 2022.5.6.(금) 10:00∼5.12.(목) 15:00\" src=\"/cmm/fms/kopoImg.do?atchFileId=FILE_000000000281958\" /></a></li>\n",
      "\n",
      "\t\t\t\t\t\t\t<img src='https://img.youtube.com/vi/lZSJ87BnkwA/hqdefault.jpg' alt=\"대표 홍보영상:한국폴리텍대학 데이터융합SW과 교수님이 들려주는 AI+빅데이터\" />\r\n",
      "\n",
      "\t\t\t\t\t\t\t\t한국폴리텍대학 데이터융합SW과 교수님이 들려주는 AI+빅데이터</div>\r\n",
      "\n",
      "\t\t\t\t\tpip_title=\"폴리텍 소식\";\r\n",
      "\n",
      "\t\t<h3 class=\"hidden\">한국폴리텍대학 푸터</h3>\r\n",
      "\n",
      "\t\t<a class=\"footer__logo\" href=\"/index.do\"><img src=\"/assets2021/img/logo_header_wh.png\" alt=\"한국폴리텍대학\"></a>\r\n",
      "\n",
      "                   <a class=\"home-aside__item\" style=\"cursor: pointer;\" href=\"https://kopo.brms.kr\" target=\"_blank\" title=\"새 창\"><img alt=\"2022년도 하반기 임용 한국폴리텍대학 교수초빙(전임교원)공고 모집인원 : 총 55명 접수기간 : 2022.5.6.(금) 10:00∼5.12.(목) 15:00\" src=\"/cmm/fms/kopoImg.do?atchFileId=FILE_000000000281957\" /></a></li>\n",
      "\n",
      "<!-- 폴리텍과정찾기 popup -->\n",
      "\n",
      "\t\t\t<h2>나에게 맞는<br>폴리텍과정찾기</h2>\n",
      "\n",
      "\t\t\t\t<span class=\"placeholder\">나에게 맞는 폴리텍과정 찾기\n",
      "\n",
      "<!-- // 폴리텍과정찾기 popup -->\n",
      "\n"
     ]
    }
   ],
   "source": [
    "from urllib.request import urlopen # 홈페이지 소스를 분석\n",
    "with urlopen('http://www.kopo.ac.kr/') as response: # 첫 페이지의 소스를 한 줄씩 받아옴\n",
    "    for line in response: \n",
    "        line = line.decode('utf-8')  # 한글 처리 \n",
    "        if \"폴리텍\" in line: # 해당줄에 \"폴리텍\"이 있으면 해당 줄만 출력\n",
    "            print(line)"
   ]
  },
  {
   "cell_type": "code",
   "execution_count": null,
   "id": "865643f2",
   "metadata": {},
   "outputs": [],
   "source": []
  }
 ],
 "metadata": {
  "kernelspec": {
   "display_name": "Python 3 (ipykernel)",
   "language": "python",
   "name": "python3"
  },
  "language_info": {
   "codemirror_mode": {
    "name": "ipython",
    "version": 3
   },
   "file_extension": ".py",
   "mimetype": "text/x-python",
   "name": "python",
   "nbconvert_exporter": "python",
   "pygments_lexer": "ipython3",
   "version": "3.8.8rc1"
  }
 },
 "nbformat": 4,
 "nbformat_minor": 5
}
