{
 "cells": [
  {
   "cell_type": "code",
   "execution_count": 4,
   "id": "3830cfcb",
   "metadata": {},
   "outputs": [
    {
     "name": "stdout",
     "output_type": "stream",
     "text": [
      "95\n",
      "홍길동\n",
      "dict_keys(['이름', '국어', '영어', '수학'])\n",
      "dict_values(['홍길동', 100, 88, 95])\n",
      "dict_items([('이름', '홍길동'), ('국어', 100), ('영어', 88), ('수학', 95)])\n"
     ]
    }
   ],
   "source": [
    "# 딕셔너리 : 키(key)와 값(value)을 한 쌍으로 연관지어 사용하는 자료형\n",
    "# dic_name[key]방식으로 사용함\n",
    "a={\"이름\":\"홍길동\", \"국어\":100, \"영어\":88, \"수학\": 95} # 딕셔너리 선언과 값 입력\n",
    "print(a[\"수학\"]) # 수학 점수 가져오기\n",
    "print(a[\"이름\"]) # 이름 가져오기\n",
    "print(a.keys()) # 딕셔너리의 키들 가져오기\n",
    "print(a.values()) # 딕셔너리의 값 가져오기\n",
    "print(a.items()) # 딕셔너리의 아이템들 가져오기"
   ]
  },
  {
   "cell_type": "code",
   "execution_count": 5,
   "id": "3e8545ec",
   "metadata": {},
   "outputs": [
    {
     "name": "stdout",
     "output_type": "stream",
     "text": [
      "('이름', '홍길동'),('국어', 100),('영어', 88),('수학', 95),이름,국어,영어,수학,홍길동,100,88,95,"
     ]
    }
   ],
   "source": [
    "a={\"이름\":\"홍길동\", \"국어\":100, \"영어\":88, \"수학\": 95} # 딕셔너리 선언과 값 입력\n",
    "for i in a.items(): # 아이템 개수만큼 밤복문\n",
    "    print (i,end=\",\") # 아이템들 출력\n",
    "for i in a.keys(): # 키 개수만큼 반복문\n",
    "    print (i,end=\",\") # 키들 출력\n",
    "for i in a.values(): # 값 개수만큼 반복문\n",
    "    print (i,end=\",\") # 값 출력"
   ]
  },
  {
   "cell_type": "code",
   "execution_count": 6,
   "id": "b7cfc69c",
   "metadata": {},
   "outputs": [
    {
     "name": "stdout",
     "output_type": "stream",
     "text": [
      "None\n",
      "없는과목입니다\n",
      "95\n"
     ]
    }
   ],
   "source": [
    "# get()은 해당 키의 값을 검색하며 없는 경우의 출력내용을 지정 가능\n",
    "a={\"이름\":\"홍길동\", \"국어\":100, \"영어\":88, \"수학\": 95} # 딕셔너리 선언과 값 입력\n",
    "print(a.get(\"과학\")) # 딕셔너리안에 과학을 찾아봄 없음\n",
    "print(a.get(\"과학\",\"없는과목입니다\")) # 과학이 없을 때 뒤의 문자열이 출력\n",
    "print(a.get(\"수학\",\"없는과목입니다\")) # 과학이 없을 때 뒤의 문자열이 출력 있으면 수학점수를 출력"
   ]
  },
  {
   "cell_type": "code",
   "execution_count": 7,
   "id": "359349c3",
   "metadata": {},
   "outputs": [
    {
     "name": "stdout",
     "output_type": "stream",
     "text": [
      "{'안': 1, '녕': 1, '하': 1, '셔': 1, '요': 3, '.': 2, ' ': 12, '오': 1, '늘': 1, '은': 2, '날': 1, '씨': 1, '가': 2, '매': 2, '우': 2, '화': 1, '창': 1, '합': 1, '니': 1, '다': 1, '\\n': 2, '그': 1, '래': 1, '서': 1, '기': 2, '분': 2, '이': 2, '좋': 2, '네': 1, '너': 1, '도': 1, '랄': 3, '라': 7, 'a': 1, 'b': 1, 'c': 1, '임': 1, '마': 1}\n"
     ]
    }
   ],
   "source": [
    "text=\"\"\"안녕하셔요. 오늘은 날씨가 매우 화창합니다. \n",
    "그래서 기분이 매우 좋네요\n",
    "너도 기분이 좋은가요 랄라랄랄라라라라라라 abc임마\"\"\" # 긴 텍스트를 입력\n",
    "a=dict() # 하나의 딕셔너리 자료형을 정의\n",
    "for c in text: #위에 정의한 텍스트를 하나씩 추출하여 처리\n",
    "    if c not in a: # 해당 추출글자가 지금까지의 딕셔너리에 없다면 \n",
    "        a[c]=1     # 그때는 최초 1값으로 시작\n",
    "    else:          # 이 경우는 해당 추출글자의 딕셔너리가 있다 \n",
    "        a[c] +=1   # 그럼 해당 딕셔너리 키에 해당되는 값을 하나더함\n",
    "print(a) # 글자수 출력"
   ]
  },
  {
   "cell_type": "code",
   "execution_count": 8,
   "id": "f8c2fad6",
   "metadata": {},
   "outputs": [
    {
     "name": "stdout",
     "output_type": "stream",
     "text": [
      "{'\\n': 2, ' ': 12, '.': 2, 'a': 1, 'b': 1, 'c': 1, '가': 2, '그': 1, '기': 2, '날': 1, '너': 1, '네': 1, '녕': 1, '늘': 1, '니': 1, '다': 1, '도': 1, '라': 7, '랄': 3, '래': 1, '마': 1, '매': 2, '분': 2, '서': 1, '셔': 1, '씨': 1, '안': 1, '오': 1, '요': 3, '우': 2, '은': 2, '이': 2, '임': 1, '좋': 2, '창': 1, '하': 1, '합': 1, '화': 1}\n"
     ]
    }
   ],
   "source": [
    "# 아래서 부터는 보기 힘드니 각 글자(키)를 소트해 본다 \n",
    "b=dict()  # 딕셔너리 하나 더 정의\n",
    "l=list(a.keys())  # 앞에 딕서너리에 키만 뽑아 리스트를 만듦 \n",
    "l.sort()          # 해당 리스트 소트\n",
    "for c in l:       #각 리스트에 대하여 (결국 키값) 하나씩 뽑음 \n",
    "    b[c]=a[c]     # 새로운 딕셔너리는 키값 순서데로 다시 만듦\n",
    "print(b) #  가나다순으로 정렬된 글자수 출력"
   ]
  },
  {
   "cell_type": "code",
   "execution_count": 10,
   "id": "fc55f342",
   "metadata": {},
   "outputs": [
    {
     "name": "stdout",
     "output_type": "stream",
     "text": [
      "{1, 2, 3, 4, 5}\n"
     ]
    },
    {
     "data": {
      "text/plain": [
       "{'국어', '수학', '영어', '이름'}"
      ]
     },
     "execution_count": 10,
     "metadata": {},
     "output_type": "execute_result"
    }
   ],
   "source": [
    "# 수학적 의미의 집합과 동일함\n",
    "# 대괄호 { }로 원소를 표현하며 순서에 상관없이 표시 및 사용됨(순서의 의미가 없음)\n",
    "# 원소가 중복되어도 하나로 인식됨\n",
    "# 다른 자료형으로부터 set()함수를 통하여 집합으로 변환함 (단 딕셔너리 타입은 키만 집합으로 변환됨)\n",
    "a={1,2,2,2,2,3,3,3,4,5} # 집합 정의\n",
    "print(a) # 출력\n",
    "set((\"a\",1,2)) # set 합수를 통해 집합으로 변환\n",
    "print(set(\"a\")) # set함수를 통해 집합으로 변환하고 출력\n",
    "set({\"이름\":\"홍길동\", \"국어\":100, \"영어\":88, \"수학\": 95}) # 딕셔너리의 키만 집합으로 변환"
   ]
  },
  {
   "cell_type": "code",
   "execution_count": 11,
   "id": "60754a80",
   "metadata": {},
   "outputs": [
    {
     "name": "stdout",
     "output_type": "stream",
     "text": [
      "{1, 2, 3, 4, 5}\n",
      "{0, 1, 2, 3, 4, 5}\n",
      "{0, 1, 2, 3, 4, 5, 2.4}\n",
      "{0, 1, 2, 4, 5, 2.4}\n"
     ]
    }
   ],
   "source": [
    "# add(값) 원소 추가 시 사용함\n",
    "# remove(값) 원소 제거 시 사용함\n",
    "a={1,2,3,4,5} # 집합 정의\n",
    "print(a) # 출력\n",
    "a.add(0) # 집합 a에 0 추가\n",
    "print(a) # 출력\n",
    "a.add(2.4) # 집합 a에 2.4 추가\n",
    "print(a) # 출력\n",
    "a.remove(3) # 집합 a에서 3 제거\n",
    "print(a) # 출력"
   ]
  },
  {
   "cell_type": "code",
   "execution_count": 12,
   "id": "03c7598c",
   "metadata": {},
   "outputs": [
    {
     "name": "stdout",
     "output_type": "stream",
     "text": [
      "{1, 2, 3, 4, 5, 6, 7, 8, 9, 10}\n",
      "{7}\n",
      "{1, 2, 3, 4, 5, 6}\n"
     ]
    }
   ],
   "source": [
    "# 집합연산의 합집합(|), 교집합(&), 차집합(-), 배타적 차집합(^)을 표시\n",
    "A={1,2,3,4,5,6,7} # 집합 정의\n",
    "B={7,8,9,10} # 집합 정의\n",
    "print(A|B) # 집합 A와 B의 합집합\n",
    "print(A&B) # 집합 A와 B의 교집합\n",
    "print(A-B) # 집합 A와 B의 차집합"
   ]
  },
  {
   "cell_type": "code",
   "execution_count": 14,
   "id": "8ac121c7",
   "metadata": {},
   "outputs": [
    {
     "name": "stdout",
     "output_type": "stream",
     "text": [
      "False\n",
      "True\n",
      "True\n",
      "False\n",
      "True\n",
      "True\n"
     ]
    }
   ],
   "source": [
    "# 부등식을 사용하여 비교가 가능함\n",
    "print({1,2,3} < {1,2}) # 결과 F 오른쪽이 작다\n",
    "print({1,2,3} > {1,2}) # 결과 T 오른쪽이 작다\n",
    "print({1,2,3} >= {1,2})# 결과 T 오른쪽이 작다\n",
    "print({1,2,3} == {1,2})# 결과 F 둘이 다르다\n",
    "print({1,2,3} >= {3,1,2}) # 결과 T 두개가 같다\n",
    "print({1,2,3} == {3,1,2}) # 결과 T 두개가 같다"
   ]
  },
  {
   "cell_type": "code",
   "execution_count": 15,
   "id": "a4a47273",
   "metadata": {},
   "outputs": [
    {
     "name": "stdout",
     "output_type": "stream",
     "text": [
      "{0: 'a', 1: 'b', 2: 'c', 3: 'd', 4: 'e'}\n"
     ]
    }
   ],
   "source": [
    "# 리스트 a=[\"a\",\"b\",\"c\",\"d\",\"d\"]를 딕셔너리 b={1:'a', 2:'b', 3:'c', 4:'d', 5:'e'}로 변환하기\n",
    "a=[\"a\",\"b\",\"c\",\"d\",\"e\"] # 리스트 정의\n",
    "b={} # 비어있는 딕셔너리 생성\n",
    "for i in range (len(a)): # a의 길이만큼 반복문\n",
    "    b[i]=a[i]   #a는 리스트 b는 딕셔너리\n",
    "print(b) # b 출력"
   ]
  },
  {
   "cell_type": "code",
   "execution_count": 16,
   "id": "a50b1199",
   "metadata": {},
   "outputs": [
    {
     "name": "stdout",
     "output_type": "stream",
     "text": [
      "<enumerate object at 0x0000027B08DE61C0>\n",
      "{0: 'a', 1: 'b', 2: 'c', 3: 'd', 4: 'e'}\n",
      "[(0, 'a'), (1, 'b'), (2, 'c'), (3, 'd'), (4, 'e')]\n"
     ]
    }
   ],
   "source": [
    "# enumerate() 함수는 요소를 0부터 차례의 숫자로 대입해 줌\n",
    "# 보기에서 b는 딕셔너리, c는 튜플을 원소로 가진 리스트로 변환 되었음\n",
    "a=[\"a\",\"b\",\"c\",\"d\",\"e\"] # 리스트 정의\n",
    "b=enumerate(a) # 여기 까지는 중간 단계\n",
    "print(b) # b 출력\n",
    "b=dict(enumerate(a)); c=list(enumerate(a)) #딕셔너리와 리스트를 만든다\n",
    "print(b) # b 출력\n",
    "print(c) # c 출력"
   ]
  },
  {
   "cell_type": "code",
   "execution_count": 19,
   "id": "e029e362",
   "metadata": {},
   "outputs": [
    {
     "name": "stdout",
     "output_type": "stream",
     "text": [
      "<zip object at 0x0000027B08DC4380>\n",
      "{1: 'e', 2: 'c', 3: 'b', 4: 'a', 5: 'd'}\n",
      "[(1, 'e'), (2, 'c'), (3, 'b'), (4, 'a'), (5, 'd')]\n",
      "{1: 'a', 2: 'b', 3: 'c', 4: 'd', 5: 'e'}\n",
      "[(1, 'a'), (2, 'b'), (3, 'c'), (4, 'd'), (5, 'e')]\n"
     ]
    }
   ],
   "source": [
    "# zip은 두 컬렉션(리스트, 튜플, 집합 등)을 하나씩 대응관계를 만들어 줌\n",
    "# 단 서로의 개수가 다를 때 적은 개수에 맞추어 구성됨\n",
    "a={1,2,3,4,5,6,7,8}  # 집합a\n",
    "b={\"a\",\"b\",\"c\",\"d\",\"e\"} # 집합b\n",
    "print(zip(a,b)) #zip만으로는 단순히 object임\n",
    "c=dict(zip(a,b));d=list(zip(a,b)) # zip으로 딕셔너리와 리스트 만들기\n",
    "print(c) # c 출력\n",
    "print(d) # d 출력\n",
    "a=(1,2,3,4,5,6,7,8) #튜플a\n",
    "b=[\"a\",\"b\",\"c\",\"d\",\"e\"] #리스트 b\n",
    "c=dict(zip(a,b));d=list(zip(a,b)) # zip으로 딕셔너리와 리스트 만들기\n",
    "print(c) # c 출력\n",
    "print(d) # d 출력"
   ]
  },
  {
   "cell_type": "code",
   "execution_count": 20,
   "id": "38815a63",
   "metadata": {},
   "outputs": [
    {
     "name": "stdout",
     "output_type": "stream",
     "text": [
      "1\n",
      "2\n",
      "3\n",
      "4\n",
      "5\n",
      "6\n"
     ]
    }
   ],
   "source": [
    "# filter(함수명,인자_컬렉션)은 인자 컬렉션의 값을 하나씩 대응하여 함수를 실행함\n",
    "# filter는 인자가 하나인 경우만 가능\n",
    "def func(x): \n",
    "    return x/2\n",
    "\n",
    "x=(1,2,3,4,5,6) # 인자로 리스트            \n",
    "for i in filter(func,x): # 함수사용 x 인자 개수만큼 반복문\n",
    "    print(i) # 출력"
   ]
  },
  {
   "cell_type": "code",
   "execution_count": 22,
   "id": "aba84c46",
   "metadata": {},
   "outputs": [
    {
     "name": "stdout",
     "output_type": "stream",
     "text": [
      "8\n",
      "10\n",
      "12\n",
      "14\n",
      "16\n",
      "18\n"
     ]
    }
   ],
   "source": [
    "# filter는 인자가 하나인 경우만 가능\n",
    "# 인자를 여러 개를 전달할 경우 map함수를 사용\n",
    "def func(x,y):\n",
    "    return x+y\n",
    "\n",
    "x=(1,2,3,4,5,6) # 인자 1 리스트 선언\n",
    "y=(7,8,9,10,11,12) # 인자 2 리스트 선언\n",
    "#for i in filter(func,x,y): #filter를 사용하면 에러 12\n",
    "for i in map(func,x,y): # 인자가 2개라 map사용\n",
    "    print(i) # 출력"
   ]
  },
  {
   "cell_type": "code",
   "execution_count": 23,
   "id": "f2cb5abc",
   "metadata": {},
   "outputs": [
    {
     "name": "stdout",
     "output_type": "stream",
     "text": [
      "8\n",
      "10\n",
      "12\n",
      "14\n",
      "16\n",
      "18\n"
     ]
    }
   ],
   "source": [
    "# lambda는 전달한 함수가 간단한 경우 한 줄 안에 기입 가능\n",
    "# lambda 인자는 함수내용 으로 한 줄에 기입가능\n",
    "x=(1,2,3,4,5,6) # 인자 1 리스트 선언\n",
    "y=(7,8,9,10,11,12) # 인자 2 리스트 선언\n",
    "for i in map(lambda x,y:x+y, x,y): # lambda 사용\n",
    "    print(i) # 출력"
   ]
  },
  {
   "cell_type": "code",
   "execution_count": 25,
   "id": "076cdf6d",
   "metadata": {},
   "outputs": [
    {
     "name": "stdout",
     "output_type": "stream",
     "text": [
      "[1, 2, 5]\n",
      "[1, 2, 5]\n",
      "[1, 3, 5]\n"
     ]
    }
   ],
   "source": [
    "# 컬렉션을 대입하면 컬렉션의 값이 복사되는 것이 아니라 주소가 복사됨\n",
    "a=[1,2,3] # 컬렉션 정의\n",
    "b=a # 컬렉션을 대입\n",
    "b[2]=5 # 인덱스 2번째 값을 5로 바꿈\n",
    "print(a) # a 출력\n",
    "print(b) # b 출력\n",
    "b[1]=3 # 인덱스 1번째 값을 3으로 바꿈\n",
    "print(a) # a 출력\n",
    "# 대입된 컬렉션을 변경하면 원 컬렉션도 변경됨\n",
    "# 이때는 b=a[:]또는 b=a.copy()를 사용(옅은 복사)"
   ]
  },
  {
   "cell_type": "code",
   "execution_count": 26,
   "id": "c3fbf0db",
   "metadata": {},
   "outputs": [
    {
     "name": "stdout",
     "output_type": "stream",
     "text": [
      "[1, 2, 3]\n",
      "[1, 2, 5]\n"
     ]
    }
   ],
   "source": [
    "a=[1,2,3] # 컬렉션 정의\n",
    "b=a[:] # 컬렉션을 옅은 복사로 복사\n",
    "b[2]=5 # 인덱스 2번째 값을 5로 바꿈\n",
    "print(a) # a 출력\n",
    "print(b) # b 출력\n",
    "# b만 바뀐것을 알 수 있다"
   ]
  },
  {
   "cell_type": "code",
   "execution_count": 27,
   "id": "a54f3189",
   "metadata": {},
   "outputs": [
    {
     "name": "stdout",
     "output_type": "stream",
     "text": [
      "[1, 2, 3]\n",
      "[1, 2, 5]\n"
     ]
    }
   ],
   "source": [
    "a=[1,2,3] # 컬렉션 정의\n",
    "b=a.copy() # 컬렉션을 옅은 복사로 복사\n",
    "b[2]=5 # 인덱스 2번째 값을 5로 바꿈\n",
    "print(a) # a 출력\n",
    "print(b) # b 출력\n",
    "# b만 바뀐것을 알 수 있다"
   ]
  },
  {
   "cell_type": "code",
   "execution_count": 28,
   "id": "1c3e127a",
   "metadata": {},
   "outputs": [
    {
     "name": "stdout",
     "output_type": "stream",
     "text": [
      "[[1, 2], 3, 4]\n",
      "[[1, 3], 3, 4]\n",
      "[[1, 3], 3, 4]\n",
      "[[1, 2], 3, 4]\n",
      "[[1, 3], 3, 4]\n",
      "[[1, 3], 3, 4]\n"
     ]
    }
   ],
   "source": [
    "# 컬렉션 안에 컬렉션이 있을 때 copy를 사용시 첫 번째 컬렉션만 복사됨\n",
    "# 이 경우 아래레벨의 모든 컬렉션을 복사할 경우 deepcopy를 사용\n",
    "a=[[1,2],3,4] # 컬렉션안에 컬렉션이 있는 a 정의\n",
    "b=a.copy() # 컬렉션을 옅은 복사로 복사\n",
    "print(b) # b 출력\n",
    "b[0][1]=3 # 2를 3으로 바꿈\n",
    "print(b) # b 출력\n",
    "print(a) # a 출력\n",
    "\n",
    "a=[[1,2],3,4] # 컬렉션안에 컬렉션이 있는 a 정의\n",
    "b=a[:] # 컬렉션을 옅은 복사로 복사\n",
    "print(b) # b 출력\n",
    "b[0][1]=3 # 2를 3으로 바꿈\n",
    "print(b) # b 출력\n",
    "print(a) # a 출력\n",
    "\n",
    "# 두 가지 경우 다 옅은 복사가 안 먹힘"
   ]
  },
  {
   "cell_type": "code",
   "execution_count": 29,
   "id": "bd82bd18",
   "metadata": {},
   "outputs": [
    {
     "name": "stdout",
     "output_type": "stream",
     "text": [
      "[[1, 2], 3, 4] [[1, 3], 3, 4]\n"
     ]
    }
   ],
   "source": [
    "import copy as c \n",
    "\n",
    "a=[[1,2],3,4] # 컬렉션안에 컬렉션이 있는 a 정의\n",
    "b=c.deepcopy(a) # 컬렉션 복사\n",
    "b[0][1]=3 # 2를 3으로 바꿈\n",
    "print(a,b) # a, b 출력\n",
    "# b만 바뀐것을 확인"
   ]
  },
  {
   "cell_type": "code",
   "execution_count": null,
   "id": "c8f41141",
   "metadata": {},
   "outputs": [],
   "source": []
  }
 ],
 "metadata": {
  "kernelspec": {
   "display_name": "Python 3 (ipykernel)",
   "language": "python",
   "name": "python3"
  },
  "language_info": {
   "codemirror_mode": {
    "name": "ipython",
    "version": 3
   },
   "file_extension": ".py",
   "mimetype": "text/x-python",
   "name": "python",
   "nbconvert_exporter": "python",
   "pygments_lexer": "ipython3",
   "version": "3.8.8rc1"
  }
 },
 "nbformat": 4,
 "nbformat_minor": 5
}
