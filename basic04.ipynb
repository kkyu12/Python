{
 "cells": [
  {
   "cell_type": "code",
   "execution_count": 4,
   "id": "b9e1d8c1",
   "metadata": {},
   "outputs": [
    {
     "data": {
      "text/plain": [
       "(3, 4, 2859)"
      ]
     },
     "execution_count": 4,
     "metadata": {},
     "output_type": "execute_result"
    }
   ],
   "source": [
    "a=3 # a라는 변수에 3을 대입\n",
    "b=4 # b라는 변수에 4를 대입\n",
    "c=123+456*6 # c라는 변수에 132+456*6 이라는 수식을 대입 계산된 값이 대입됨\n",
    "a,b,c # a, b, c의 값을 출력"
   ]
  },
  {
   "cell_type": "code",
   "execution_count": 2,
   "id": "f337286a",
   "metadata": {},
   "outputs": [
    {
     "ename": "SyntaxError",
     "evalue": "cannot assign to operator (675349081.py, line 1)",
     "output_type": "error",
     "traceback": [
      "\u001b[1;36m  Input \u001b[1;32mIn [2]\u001b[1;36m\u001b[0m\n\u001b[1;33m    a+b=c # 수식 = 변수 형태이므로 에러\u001b[0m\n\u001b[1;37m    ^\u001b[0m\n\u001b[1;31mSyntaxError\u001b[0m\u001b[1;31m:\u001b[0m cannot assign to operator\n"
     ]
    }
   ],
   "source": [
    "a+b=c # 수식 = 변수 형태이므로 에러"
   ]
  },
  {
   "cell_type": "code",
   "execution_count": 3,
   "id": "49654ce3",
   "metadata": {},
   "outputs": [
    {
     "ename": "SyntaxError",
     "evalue": "cannot assign to operator (4019233268.py, line 1)",
     "output_type": "error",
     "traceback": [
      "\u001b[1;36m  Input \u001b[1;32mIn [3]\u001b[1;36m\u001b[0m\n\u001b[1;33m    123+456=a # 마찬가지로 수식 = 변수 형태이므로 에러\u001b[0m\n\u001b[1;37m    ^\u001b[0m\n\u001b[1;31mSyntaxError\u001b[0m\u001b[1;31m:\u001b[0m cannot assign to operator\n"
     ]
    }
   ],
   "source": [
    "123+456=a # 마찬가지로 수식 = 변수 형태이므로 에러"
   ]
  },
  {
   "cell_type": "code",
   "execution_count": 5,
   "id": "f4c08c54",
   "metadata": {},
   "outputs": [
    {
     "ename": "TypeError",
     "evalue": "unsupported operand type(s) for +: 'int' and 'str'",
     "output_type": "error",
     "traceback": [
      "\u001b[1;31m---------------------------------------------------------------------------\u001b[0m",
      "\u001b[1;31mTypeError\u001b[0m                                 Traceback (most recent call last)",
      "Input \u001b[1;32mIn [5]\u001b[0m, in \u001b[0;36m<cell line: 2>\u001b[1;34m()\u001b[0m\n\u001b[0;32m      1\u001b[0m a\u001b[38;5;241m=\u001b[39m\u001b[38;5;241m1\u001b[39m \u001b[38;5;66;03m# a라는 변수에 1을 대입 a는 수치형 변수가 됨\u001b[39;00m\n\u001b[1;32m----> 2\u001b[0m a\u001b[38;5;241m=\u001b[39m\u001b[43ma\u001b[49m\u001b[38;5;241;43m+\u001b[39;49m\u001b[38;5;124;43m\"\u001b[39;49m\u001b[38;5;124;43m안녕\u001b[39;49m\u001b[38;5;124;43m\"\u001b[39;49m\n",
      "\u001b[1;31mTypeError\u001b[0m: unsupported operand type(s) for +: 'int' and 'str'"
     ]
    }
   ],
   "source": [
    "a=1 # a라는 변수에 1을 대입 a는 수치형 변수가 됨\n",
    "a=a+\"안녕\" # a는 수치형이므로 이 수식은 맞지않음 에러"
   ]
  },
  {
   "cell_type": "code",
   "execution_count": 8,
   "id": "70376718",
   "metadata": {},
   "outputs": [
    {
     "data": {
      "text/plain": [
       "'abc안녕'"
      ]
     },
     "execution_count": 8,
     "metadata": {},
     "output_type": "execute_result"
    }
   ],
   "source": [
    "a=\"abc\" #a에 다시 문자를 대입하는 순간 a는 문자형이 됨\n",
    "a=a+\"안녕\" # 문자형의 덧셈은 문자끼리 이어짐\n",
    "a # a를 출력하면 결과값 : abc안녕 이 나옴"
   ]
  },
  {
   "cell_type": "code",
   "execution_count": 10,
   "id": "9478abec",
   "metadata": {},
   "outputs": [
    {
     "name": "stdout",
     "output_type": "stream",
     "text": [
      "1 2\n",
      "2 1\n"
     ]
    }
   ],
   "source": [
    "a=1 # a라는 변수에 1을 대입\n",
    "b=2 # b라는 변수에 2를 대입\n",
    "print(a,b) # a와 b를 출력 결과값 : 1 , 2\n",
    "a,b=b,a # a와 b의 값을 서로 바꿈\n",
    "print(a,b) # a와 b를 출력 결과값 : 2 , 1"
   ]
  },
  {
   "cell_type": "code",
   "execution_count": 11,
   "id": "bc5ec369",
   "metadata": {},
   "outputs": [
    {
     "data": {
      "text/plain": [
       "(1, 2, '안녕', '하셔요', 3, 4)"
      ]
     },
     "execution_count": 11,
     "metadata": {},
     "output_type": "execute_result"
    }
   ],
   "source": [
    "a,b,c,d,e,f=1,2,\"안녕\",\"하셔요\",3,4 # 여러 변수의 값을 한번에 대입할 수 있음\n",
    "a,b,c,d,e,f # 변수 a b c d e f 를 출력"
   ]
  },
  {
   "cell_type": "code",
   "execution_count": 12,
   "id": "5013dc83",
   "metadata": {},
   "outputs": [
    {
     "name": "stdout",
     "output_type": "stream",
     "text": [
      "1 1\n",
      "1 2\n"
     ]
    }
   ],
   "source": [
    "# 단순 변수는 값을 대입하는 형태로 이해 가능하나, 컬렉션의 경우 같은 변수를 공유하는 것으로 이해하여야 함\n",
    "a=b=1 # 변수 a와 b에 1를 각각 대입\n",
    "print(a,b) # a와 b값을 출력 1,1\n",
    "b=2 # 변수b의 값을 2로 바꿈\n",
    "print(a,b) # a와 b값을 출력 1,2"
   ]
  },
  {
   "cell_type": "code",
   "execution_count": 14,
   "id": "693e55bb",
   "metadata": {},
   "outputs": [
    {
     "name": "stdout",
     "output_type": "stream",
     "text": [
      "[1, 2, 3] [1, 2, 3]\n",
      "[1, 4, 3] [1, 4, 3]\n"
     ]
    }
   ],
   "source": [
    "a=b=[1,2,3] # a와 b에 리스트로 1,2,3 값을 대입 이땐 서로의 값을 공유\n",
    "print(a,b) # a와 b를 출력 \n",
    "a[1]=4 # a의 인덱스1번의 값을 4로 바꿈 (두번째 값인 2를 4로 바꿈)\n",
    "print(a,b) # a와 b를 출력 값을 공유하므로 같이 바뀐 것을 확인"
   ]
  },
  {
   "cell_type": "code",
   "execution_count": 15,
   "id": "4ad00b3c",
   "metadata": {},
   "outputs": [
    {
     "name": "stdout",
     "output_type": "stream",
     "text": [
      "[1, 2, 3, 4, 5] [1, 2, 3, 4, 5]\n",
      "[1, 2, 5, 4, 5] [1, 2, 3, 4, 5]\n"
     ]
    }
   ],
   "source": [
    "# 컬렉션에서 값을 복사하는 경우는 아래와 같이 사용\n",
    "a=[1,2,3,4,5] # a라는 변수에 리스트로 값을 대입\n",
    "b=a[:] # b도 a와 같은 값을 갖는 리스트 생성\n",
    "print(a,b) # a와 b를 출력\n",
    "a[2]=5 # a의 인덱스2의 값을 5로 바꿈\n",
    "print(a,b) # a와 b를 출력 a의 값만 바뀐 것을 확인"
   ]
  },
  {
   "cell_type": "code",
   "execution_count": 3,
   "id": "900eceaf",
   "metadata": {},
   "outputs": [
    {
     "data": {
      "text/plain": [
       "79"
      ]
     },
     "execution_count": 3,
     "metadata": {},
     "output_type": "execute_result"
    }
   ],
   "source": [
    "import sys # 복합형태 대입 연산자\n",
    "a=123 # a라는 변수에 123을 대입\n",
    "sys.getrefcount(123) # 123을 어느 공간에 만들어 놓고 참조하는 방식"
   ]
  },
  {
   "cell_type": "code",
   "execution_count": 4,
   "id": "63d5d340",
   "metadata": {},
   "outputs": [
    {
     "data": {
      "text/plain": [
       "79"
      ]
     },
     "execution_count": 4,
     "metadata": {},
     "output_type": "execute_result"
    }
   ],
   "source": [
    "b=123;sys.getrefcount(123) # b=123을 만나면 참조횟수가 증가"
   ]
  },
  {
   "cell_type": "code",
   "execution_count": 5,
   "id": "a8b80a79",
   "metadata": {},
   "outputs": [
    {
     "data": {
      "text/plain": [
       "80"
      ]
     },
     "execution_count": 5,
     "metadata": {},
     "output_type": "execute_result"
    }
   ],
   "source": [
    "c=123;sys.getrefcount(123) # c=123을 만나면 참조횟수가 증가"
   ]
  },
  {
   "cell_type": "code",
   "execution_count": 24,
   "id": "1dff8425",
   "metadata": {},
   "outputs": [
    {
     "name": "stdout",
     "output_type": "stream",
     "text": [
      "2.5\n",
      "8\n",
      "3.3333333333333335\n",
      "1.23456789012e+23\n",
      "(124+14j)\n"
     ]
    }
   ],
   "source": [
    "# (+, -, *, /, **) → 덧셈, 뺄셈, 곱셈, 나눗셈, 거듭제곱\n",
    "# 사직연산 순으로 계산\n",
    "print(1+2*3/4) # 뒤의 곱하기 먼저 계산 후 더하기 결과 2.5\n",
    "print(2**3) # 2의 3승 = 8\n",
    "print(10/3) # 3.3333…\n",
    "print(1e12*123456789012) # 1*10^12 * 123456789012 를 계산\n",
    "a=1+2j # a라는 변수에 1+2j라는 복소수대입\n",
    "print(a+(123+12j)) # 복소수 덧셈 계산"
   ]
  },
  {
   "cell_type": "code",
   "execution_count": 25,
   "id": "863bff5c",
   "metadata": {},
   "outputs": [
    {
     "name": "stdout",
     "output_type": "stream",
     "text": [
      "2.5\n",
      "2\n",
      "1\n"
     ]
    }
   ],
   "source": [
    "# //(정수형 나눗셈), %(나머지) 실수형 계산이 기본\n",
    "print(5/2) # 나눗셈 한줄은 실수형 계산 결과 2.5\n",
    "print(5//2) # 나눗셈 두줄은 정수형 나눗셈 계산 결과 2\n",
    "print(5%2) # 나머지 계산 결과 1"
   ]
  },
  {
   "cell_type": "code",
   "execution_count": 27,
   "id": "a5bb0a2e",
   "metadata": {},
   "outputs": [
    {
     "name": "stdout",
     "output_type": "stream",
     "text": [
      "2\n",
      "2\n",
      "4\n",
      "8\n",
      "0\n",
      "-1\n"
     ]
    }
   ],
   "source": [
    "a=1;a=a+1;print(a) # a라는 변수에 1 대입 후 +1로 누적 출력시 2\n",
    "a=1;a+=1;print(a) # a라는 변수에 1 대입 후 누적 출력시 2\n",
    "a=a*2;print(a) # a에 2를 곱하기 a는 4\n",
    "a*=2;print(a) # a에 2를 곱하기 a는 8\n",
    "a=1;a-=1;print(a) # a에 1 대입 -1 a는 0\n",
    "a-=1;print(a) # a값에서 1빼기 a는 -1"
   ]
  },
  {
   "cell_type": "code",
   "execution_count": 29,
   "id": "1c010714",
   "metadata": {},
   "outputs": [
    {
     "ename": "SyntaxError",
     "evalue": "invalid syntax (3341105668.py, line 4)",
     "output_type": "error",
     "traceback": [
      "\u001b[1;36m  Input \u001b[1;32mIn [29]\u001b[1;36m\u001b[0m\n\u001b[1;33m    print(a++) # 파이썬에는 없는 변수로 에러\u001b[0m\n\u001b[1;37m             ^\u001b[0m\n\u001b[1;31mSyntaxError\u001b[0m\u001b[1;31m:\u001b[0m invalid syntax\n"
     ]
    }
   ],
   "source": [
    "# C, Java에 있는 1씩 더하거나 빼는 a++, a-- 는 사용할 수 없음\n",
    "# 순서를 바꾼 =+,=-를 사용하는 경우 양수, 음수를 저장한 경우가 됨(C, Java와 다름)\n",
    "a=1 # a라는 변수에 1 대입\n",
    "print(a++) # 파이썬에는 없는 변수로 에러"
   ]
  },
  {
   "cell_type": "code",
   "execution_count": 30,
   "id": "19883fd2",
   "metadata": {},
   "outputs": [
    {
     "ename": "SyntaxError",
     "evalue": "invalid syntax (2216433717.py, line 1)",
     "output_type": "error",
     "traceback": [
      "\u001b[1;36m  Input \u001b[1;32mIn [30]\u001b[1;36m\u001b[0m\n\u001b[1;33m    print(a--) # 파이썬에는 없는 변수로 에러\u001b[0m\n\u001b[1;37m             ^\u001b[0m\n\u001b[1;31mSyntaxError\u001b[0m\u001b[1;31m:\u001b[0m invalid syntax\n"
     ]
    }
   ],
   "source": [
    "print(a--) # 파이썬에는 없는 변수로 에러"
   ]
  },
  {
   "cell_type": "code",
   "execution_count": 31,
   "id": "a7d414c5",
   "metadata": {},
   "outputs": [
    {
     "name": "stdout",
     "output_type": "stream",
     "text": [
      "1\n",
      "-1\n"
     ]
    }
   ],
   "source": [
    "a=+ 1; print(a) ; a=- 1 ;print(a) # a에 양수 1 을 대입, a에 음수 1 을 대입"
   ]
  },
  {
   "cell_type": "code",
   "execution_count": 32,
   "id": "454b70a7",
   "metadata": {},
   "outputs": [
    {
     "name": "stdout",
     "output_type": "stream",
     "text": [
      "멍멍이고양이\n",
      "멍멍이멍멍이멍멍이고양이고양이\n",
      "--------------------\n"
     ]
    }
   ],
   "source": [
    "# 변수의 형태가 다르면 서로 연산처리를 할 수 없음, 이때는 변수의 형 변환(Type casting)처리를 하여야 함\n",
    "# 문자형 변수의 덧셈은 문자열을 붙이는 것으로 처리됨 * 숫자는 숫자만큼 문자 출력\n",
    "a=\"멍멍이\" # a라는 변수에 멍멍이 대입\n",
    "b=\"고양이\" # b라는 변수에 고양이 대입\n",
    "print(a+b) # 멍멍이고양이 가 출력됨\n",
    "print(a*3+b*2) # 멍멍이 3번 고양이 2번 출력\n",
    "print(\"-\"*20) # 빼기 기호가 20번 출력"
   ]
  },
  {
   "cell_type": "code",
   "execution_count": 34,
   "id": "0b131a95",
   "metadata": {},
   "outputs": [
    {
     "ename": "TypeError",
     "evalue": "can only concatenate str (not \"int\") to str",
     "output_type": "error",
     "traceback": [
      "\u001b[1;31m---------------------------------------------------------------------------\u001b[0m",
      "\u001b[1;31mTypeError\u001b[0m                                 Traceback (most recent call last)",
      "Input \u001b[1;32mIn [34]\u001b[0m, in \u001b[0;36m<cell line: 2>\u001b[1;34m()\u001b[0m\n\u001b[0;32m      1\u001b[0m a\u001b[38;5;241m=\u001b[39m\u001b[38;5;241m1\u001b[39m \u001b[38;5;66;03m# a라는 변수에 1 대입\u001b[39;00m\n\u001b[1;32m----> 2\u001b[0m b\u001b[38;5;241m=\u001b[39m\u001b[38;5;124;43m\"\u001b[39;49m\u001b[38;5;124;43m강아지\u001b[39;49m\u001b[38;5;124;43m\"\u001b[39;49m\u001b[38;5;241;43m+\u001b[39;49m\u001b[43ma\u001b[49m\u001b[38;5;241m+\u001b[39m\u001b[38;5;124m\"\u001b[39m\u001b[38;5;124m마리\u001b[39m\u001b[38;5;124m\"\u001b[39m\n",
      "\u001b[1;31mTypeError\u001b[0m: can only concatenate str (not \"int\") to str"
     ]
    }
   ],
   "source": [
    "a=1 # a라는 변수에 1 대입\n",
    "b=\"강아지\"+a+\"마리\" # b라는 변수에 문자+수치+문자를 계산하여 대입 = 에러"
   ]
  },
  {
   "cell_type": "code",
   "execution_count": 35,
   "id": "5f314a15",
   "metadata": {},
   "outputs": [
    {
     "data": {
      "text/plain": [
       "'강아지1마리'"
      ]
     },
     "execution_count": 35,
     "metadata": {},
     "output_type": "execute_result"
    }
   ],
   "source": [
    "b=\"강아지\"+str(a)+\"마리\" # a를 문자로 변환 후 대입 = 성공\n",
    "b # 강아지1마리가 출력된다"
   ]
  },
  {
   "cell_type": "code",
   "execution_count": 37,
   "id": "d03f5b9c",
   "metadata": {},
   "outputs": [
    {
     "name": "stdout",
     "output_type": "stream",
     "text": [
      "0x61 = a , 0x62 = b , 0x63 = c , 0x64 = d , 0x65 = e , 0x66 = f , 0x67 = g , 0x68 = h , 0x69 = i , 0x6a = j , 0x6b = k , 0x6c = l , 0x6d = m , 0x6e = n , 0x6f = o , 0x70 = p , 0x71 = q , 0x72 = r , 0x73 = s , 0x74 = t , 0x75 = u , 0x76 = v , 0x77 = w , 0x78 = x , 0x79 = y , 0x7a = z , "
     ]
    }
   ],
   "source": [
    "ord(\"가\") # 문자형을 다루는 ord함수 문자의 내부코드값을 반환\n",
    "hex(ord(\"a\")) # a를 내부코드값으로 변환 후  그 값을 16진법으로 반환\n",
    "for c in range (ord('a'), ord('z')+1): # 반복문 a에서 z까지\n",
    "    print(hex(c),\"=\",chr(c),\", \",end=\"\") # chr함수는 내부코드값을 가지고 해당 글자를 반환\n",
    "# 내부코드 = 글자 , 를 a에서 z까지 출력"
   ]
  },
  {
   "cell_type": "code",
   "execution_count": 39,
   "id": "4d843430",
   "metadata": {},
   "outputs": [
    {
     "ename": "TypeError",
     "evalue": "can only concatenate str (not \"int\") to str",
     "output_type": "error",
     "traceback": [
      "\u001b[1;31m---------------------------------------------------------------------------\u001b[0m",
      "\u001b[1;31mTypeError\u001b[0m                                 Traceback (most recent call last)",
      "Input \u001b[1;32mIn [39]\u001b[0m, in \u001b[0;36m<cell line: 1>\u001b[1;34m()\u001b[0m\n\u001b[1;32m----> 1\u001b[0m a\u001b[38;5;241m=\u001b[39m\u001b[38;5;124m\"\u001b[39m\u001b[38;5;124m123\u001b[39m\u001b[38;5;124m\"\u001b[39m; \u001b[38;5;28mprint\u001b[39m(\u001b[43ma\u001b[49m\u001b[38;5;241;43m+\u001b[39;49m\u001b[38;5;241;43m1\u001b[39;49m)\n",
      "\u001b[1;31mTypeError\u001b[0m: can only concatenate str (not \"int\") to str"
     ]
    }
   ],
   "source": [
    "a=\"123\"; print(a+1) # a라는 변수에 “123” 대입 a는 문자형, a+1은 문자+수치로 에러"
   ]
  },
  {
   "cell_type": "code",
   "execution_count": 40,
   "id": "7e8f846c",
   "metadata": {},
   "outputs": [
    {
     "name": "stdout",
     "output_type": "stream",
     "text": [
      "124\n",
      "12\n"
     ]
    }
   ],
   "source": [
    "a=\"123\"; print(int(a)+1) # int를 사용하여 수치로 바꾸고 계산\n",
    "a=12.3; print(int(a)) # 실수를 int를 사용하여 정수로 바꿈 소수점 이하 자릿수는 버림"
   ]
  },
  {
   "cell_type": "code",
   "execution_count": 42,
   "id": "c524f6c3",
   "metadata": {},
   "outputs": [
    {
     "ename": "ValueError",
     "evalue": "invalid literal for int() with base 10: '12.3'",
     "output_type": "error",
     "traceback": [
      "\u001b[1;31m---------------------------------------------------------------------------\u001b[0m",
      "\u001b[1;31mValueError\u001b[0m                                Traceback (most recent call last)",
      "Input \u001b[1;32mIn [42]\u001b[0m, in \u001b[0;36m<cell line: 1>\u001b[1;34m()\u001b[0m\n\u001b[1;32m----> 1\u001b[0m a\u001b[38;5;241m=\u001b[39m\u001b[38;5;124m\"\u001b[39m\u001b[38;5;124m12.3\u001b[39m\u001b[38;5;124m\"\u001b[39m;\u001b[38;5;28;43mint\u001b[39;49m\u001b[43m(\u001b[49m\u001b[43ma\u001b[49m\u001b[43m)\u001b[49m\n",
      "\u001b[1;31mValueError\u001b[0m: invalid literal for int() with base 10: '12.3'"
     ]
    }
   ],
   "source": [
    "a=\"12.3\";int(a) # a라는 변수에 “12.3”을 대입 정수형으로 변환시도 12.3이므로 실패"
   ]
  },
  {
   "cell_type": "code",
   "execution_count": 46,
   "id": "f05c74d3",
   "metadata": {},
   "outputs": [
    {
     "name": "stdout",
     "output_type": "stream",
     "text": [
      "12.3\n",
      "14.1\n",
      "14\n"
     ]
    }
   ],
   "source": [
    "a=\"12.3\"\n",
    "print(float(a)) # 먼저 float를 사용하여 실수형으로 변환\n",
    "a=1.1;print(1+a+12) # a라는 변수에 1.1대입 후 계산하면 14.1\n",
    "print(1+int(a)+12) # a를 정수형으로 변환 후 계산하면 14"
   ]
  },
  {
   "cell_type": "code",
   "execution_count": 48,
   "id": "9761921a",
   "metadata": {},
   "outputs": [
    {
     "name": "stdout",
     "output_type": "stream",
     "text": [
      "3\n",
      "3\n",
      "3.1\n",
      "120000\n"
     ]
    }
   ],
   "source": [
    "print(int(3.14)) # 3.14를 정수형으로 변화하면 소수점 이하 자릿수를 버려지므로 3이 출력\n",
    "print(round(3.14));print(round(3.14,1)); print(round(123456,-4)) \n",
    "# round반올림 두번째는 소수점 밑 한 자리까지 반올림 계산 -4는 천의 자리에서 반올림"
   ]
  },
  {
   "cell_type": "code",
   "execution_count": 49,
   "id": "d1c46fcc",
   "metadata": {},
   "outputs": [
    {
     "data": {
      "text/plain": [
       "1235000"
      ]
     },
     "execution_count": 49,
     "metadata": {},
     "output_type": "execute_result"
    }
   ],
   "source": [
    "# 올림계산\n",
    "a=1234567 \n",
    "if(a%1000 != 0 ) : #1000으로 나누어 나머지가 있다면 \n",
    "    a=int(a/1000)*1000+1000 #버린값에다가 한자리를 올려 줌 \n",
    "else: # 나머지가 없다면\n",
    "    a=int(a/1000)*1000 # 그대로 계산한 값을 대입\n",
    "a # 나머지가 있으므로 +1000을 하여 1235000 가 출력"
   ]
  },
  {
   "cell_type": "code",
   "execution_count": null,
   "id": "55f5ab77",
   "metadata": {},
   "outputs": [],
   "source": []
  }
 ],
 "metadata": {
  "kernelspec": {
   "display_name": "Python 3 (ipykernel)",
   "language": "python",
   "name": "python3"
  },
  "language_info": {
   "codemirror_mode": {
    "name": "ipython",
    "version": 3
   },
   "file_extension": ".py",
   "mimetype": "text/x-python",
   "name": "python",
   "nbconvert_exporter": "python",
   "pygments_lexer": "ipython3",
   "version": "3.8.8rc1"
  }
 },
 "nbformat": 4,
 "nbformat_minor": 5
}
