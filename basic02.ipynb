{
 "cells": [
  {
   "cell_type": "code",
   "execution_count": 1,
   "id": "fa0b4102",
   "metadata": {},
   "outputs": [
    {
     "data": {
      "text/plain": [
       "3"
      ]
     },
     "execution_count": 1,
     "metadata": {},
     "output_type": "execute_result"
    }
   ],
   "source": [
    "1+2 #연산자를 붙여 쓰는 것은 상관 없음"
   ]
  },
  {
   "cell_type": "code",
   "execution_count": 2,
   "id": "37265bbf",
   "metadata": {},
   "outputs": [
    {
     "data": {
      "text/plain": [
       "3"
      ]
     },
     "execution_count": 2,
     "metadata": {},
     "output_type": "execute_result"
    }
   ],
   "source": [
    "1 + 2 #연산자를 띄어 쓰는 것은 상관 없음"
   ]
  },
  {
   "cell_type": "code",
   "execution_count": 3,
   "id": "e4018286",
   "metadata": {},
   "outputs": [
    {
     "data": {
      "text/plain": [
       "3"
      ]
     },
     "execution_count": 3,
     "metadata": {},
     "output_type": "execute_result"
    }
   ],
   "source": [
    " 1+2 # 첫 칸을 비우면 에러난다 했으나 안 난다"
   ]
  },
  {
   "cell_type": "code",
   "execution_count": 13,
   "id": "0097e545",
   "metadata": {},
   "outputs": [
    {
     "name": "stdout",
     "output_type": "stream",
     "text": [
      "스위치 on\n"
     ]
    }
   ],
   "source": [
    "sw = 1 # 변수 선언을 먼저 해준다\n",
    "# 블록의 인식은 칸을 들어 쓰는 방식 블록의 시작은 : (콜론)으로 표시\n",
    "# 일반적 자바와 c에서는 {} (대괄호)를 사용함\n",
    "if sw == 1: # sw가 1이라면\n",
    "    print(\"스위치 on\") # 스위치 on 출력\n",
    "else: # sw가 1이 아니라면\n",
    "    print(\"스위치 off\") # 스위치 off 출력"
   ]
  },
  {
   "cell_type": "code",
   "execution_count": 1,
   "id": "e6b56090",
   "metadata": {},
   "outputs": [
    {
     "name": "stdout",
     "output_type": "stream",
     "text": [
      "3\n",
      "7\n",
      "12\n"
     ]
    }
   ],
   "source": [
    "1+2; 3+4; 5+7 # 여러 명령어를 사용할 때는 ;(세미콜론)을 사용 \n",
    "# 결과값이 12만 나오는 이유는 스크립트 형식이기 때문으로 예상됨\n",
    "print(1+2); print(3+4); print(5+7) # print함수를 사용하면 원하는 결과값 출력됨"
   ]
  },
  {
   "cell_type": "code",
   "execution_count": 10,
   "id": "65467a9a",
   "metadata": {},
   "outputs": [
    {
     "name": "stdout",
     "output_type": "stream",
     "text": [
      "3\n"
     ]
    }
   ],
   "source": [
    "print(1+2) # 대문자와 소문자를 구분하여 사용해야한다"
   ]
  },
  {
   "cell_type": "code",
   "execution_count": 11,
   "id": "7357f870",
   "metadata": {},
   "outputs": [
    {
     "ename": "NameError",
     "evalue": "name 'Print' is not defined",
     "output_type": "error",
     "traceback": [
      "\u001b[1;31m---------------------------------------------------------------------------\u001b[0m",
      "\u001b[1;31mNameError\u001b[0m                                 Traceback (most recent call last)",
      "Input \u001b[1;32mIn [11]\u001b[0m, in \u001b[0;36m<cell line: 1>\u001b[1;34m()\u001b[0m\n\u001b[1;32m----> 1\u001b[0m \u001b[43mPrint\u001b[49m(\u001b[38;5;241m1\u001b[39m\u001b[38;5;241m+\u001b[39m\u001b[38;5;241m2\u001b[39m)\n",
      "\u001b[1;31mNameError\u001b[0m: name 'Print' is not defined"
     ]
    }
   ],
   "source": [
    "Print(1+2) # 대문자와 소문자를 구분하여 사용해야한다"
   ]
  },
  {
   "cell_type": "code",
   "execution_count": 14,
   "id": "cf33379e",
   "metadata": {},
   "outputs": [
    {
     "ename": "NameError",
     "evalue": "name 'PRINT' is not defined",
     "output_type": "error",
     "traceback": [
      "\u001b[1;31m---------------------------------------------------------------------------\u001b[0m",
      "\u001b[1;31mNameError\u001b[0m                                 Traceback (most recent call last)",
      "Input \u001b[1;32mIn [14]\u001b[0m, in \u001b[0;36m<cell line: 1>\u001b[1;34m()\u001b[0m\n\u001b[1;32m----> 1\u001b[0m \u001b[43mPRINT\u001b[49m(\u001b[38;5;241m1\u001b[39m\u001b[38;5;241m+\u001b[39m\u001b[38;5;241m2\u001b[39m)\n",
      "\u001b[1;31mNameError\u001b[0m: name 'PRINT' is not defined"
     ]
    }
   ],
   "source": [
    "PRINT(1+2) # 대문자와 소문자를 구분하여 사용해야한다"
   ]
  },
  {
   "cell_type": "code",
   "execution_count": 15,
   "id": "47993a27",
   "metadata": {},
   "outputs": [
    {
     "data": {
      "text/plain": [
       "3"
      ]
     },
     "execution_count": 15,
     "metadata": {},
     "output_type": "execute_result"
    }
   ],
   "source": [
    "# print(출력내용 [, sep=구분문자][, end=마지막 문자])\n",
    "abc = 1 # abc라는 변수에 1 이라는 값을 대입\n",
    "1+2 # 1 + 2를 계산"
   ]
  },
  {
   "cell_type": "code",
   "execution_count": 16,
   "id": "f5a7fcc9",
   "metadata": {},
   "outputs": [
    {
     "data": {
      "text/plain": [
       "1"
      ]
     },
     "execution_count": 16,
     "metadata": {},
     "output_type": "execute_result"
    }
   ],
   "source": [
    "abc # abc의 값을 출력 결과 : 1"
   ]
  },
  {
   "cell_type": "code",
   "execution_count": 17,
   "id": "92aceecd",
   "metadata": {},
   "outputs": [
    {
     "name": "stdout",
     "output_type": "stream",
     "text": [
      "1\n"
     ]
    }
   ],
   "source": [
    "print(abc) # abc의 값을 print함수를 사용하여 출력 결과 : 1"
   ]
  },
  {
   "cell_type": "code",
   "execution_count": 18,
   "id": "39d02d55",
   "metadata": {},
   "outputs": [
    {
     "name": "stdout",
     "output_type": "stream",
     "text": [
      "3\n"
     ]
    }
   ],
   "source": [
    "print(1+2) # 1 + 2 의 값을 print를 사용하여 출력 결과 : 3"
   ]
  },
  {
   "cell_type": "code",
   "execution_count": 20,
   "id": "f97f3a2e",
   "metadata": {},
   "outputs": [
    {
     "name": "stdout",
     "output_type": "stream",
     "text": [
      "3\n",
      "3\n"
     ]
    }
   ],
   "source": [
    "a = 1 # a 라는 변수에 값 1 을 대입\n",
    "b = 2 # b 라는 변수에 값 2 를 대입\n",
    "a + b # a + b 계산 출력되지 않음\n",
    "print (a + b) # a + b 를 print를 사용하여 출력 결과 : 3\n",
    "1 + 2 # 1 + 2 계산 출력되지 않음\n",
    "print (1 + 2) # 1 + 2 를 print를 사용하여 출력 결과 : 3"
   ]
  },
  {
   "cell_type": "code",
   "execution_count": 1,
   "id": "6bd8908c",
   "metadata": {},
   "outputs": [
    {
     "name": "stdout",
     "output_type": "stream",
     "text": [
      "아침 점심 저녁\n",
      "아침먹고 점심먹고 저녁\n",
      "아침먹고 점심먹고 저녁땡"
     ]
    }
   ],
   "source": [
    "a = \"아침\" # a 라는 변수에 \"아침\" 이라는 문자열을 대입\n",
    "b = \"점심\" # b 라는 변수에 \"점심\" 이라는 문자열을 대입\n",
    "c = \"저녁\" # c 라는 변수에 \"저녁\" 이라는 문자열을 대입\n",
    "print(a,b,c) # a, b, c 를 출력 결과 : 아침 점심 저녁\n",
    "print(a,b,c, sep=\"먹고 \") # \"먹고 \"를 뒤에 붙이기 결과 : 아침먹고 점심먹고 저녁\n",
    "print(a,b,c, sep=\"먹고 \" ,end =\"땡\")# \"먹고 \"를 뒤에 붙이고 마지막에 \"땡\" 결과 : 아침먹고 점심먹고 저녁땡"
   ]
  },
  {
   "cell_type": "code",
   "execution_count": 24,
   "id": "5c7e65b4",
   "metadata": {},
   "outputs": [
    {
     "name": "stdout",
     "output_type": "stream",
     "text": [
      "아침 점심 저녁\n",
      "아침먹고 점심먹고 저녁\n",
      "아침먹고 점심먹고 저녁아침자고 점심자고 저녁아침먹고 점심먹고 저녁\n",
      "아침자고 점심자고 저녁\n"
     ]
    }
   ],
   "source": [
    "a = \"아침\" # a 라는 변수에 \"아침\" 이라는 문자열을 대입\n",
    "b = \"점심\" # b 라는 변수에 \"점심\" 이라는 문자열을 대입\n",
    "c = \"저녁\" # c 라는 변수에 \"저녁\" 이라는 문자열을 대입\n",
    "print(a,b,c) # a, b, c 를 출력 결과 : 아침 점심 저녁\n",
    "print(a,b,c,sep = \"먹고 \") # \"먹고 \"를 뒤에 붙이기 결과 : 아침먹고 점심먹고 저녁\n",
    "print(a,b,c,sep = \"먹고 \", end = \"\") # \"먹고 \"를 뒤에 붙이고 마지막에 \"\" 결과 : 아침먹고 점심먹고 저녁\n",
    "print(a,b,c,sep = \"자고 \", end = \"\") # \"자고 \"를 뒤에 붙이고 마지막에 \"\" 결과 : 아침자고 점심자고 저녁\n",
    "print(a,b,c,sep = \"먹고 \", end = \"\\n\") # \"먹고 \"를 뒤에 붙이고 마지막에 \"\\n\" 줄바꿈\n",
    "# 결과 : 아침먹고 점심먹고 저녁(줄바꿈)\n",
    "print(a,b,c,sep = \"자고 \", end = \"\\n\") # \"자고 \"를 뒤에 붙이고 마지막에 \"\\n\" 줄바꿈\n",
    "# 결과 : 아침자고 점심자고 저녁(줄바꿈)"
   ]
  },
  {
   "cell_type": "code",
   "execution_count": 25,
   "id": "b91add7a",
   "metadata": {},
   "outputs": [
    {
     "name": "stdout",
     "output_type": "stream",
     "text": [
      "22+33=55\n"
     ]
    }
   ],
   "source": [
    "a = 22 # a 라는 변수에 22라는 값 대입\n",
    "b = 33 # b 라는 변수에 33라는 값 대입\n",
    "print(a, b , sep = \"+\" , end=\"=\") # a, b 사이에 + 끝에 = 추가 결과 : 22+33= \n",
    "print(a+b) # a + b 계산하여 print 결과 : 55\n",
    "# 총 결과값 22+33=55"
   ]
  },
  {
   "cell_type": "code",
   "execution_count": 27,
   "id": "5ac2e8b9",
   "metadata": {},
   "outputs": [
    {
     "name": "stdout",
     "output_type": "stream",
     "text": [
      "너는 이름이 뭐니?홍길동\n",
      "이름이 홍길동 입니다\n",
      "너는 몇 살이니?12\n",
      "나이가 12 살 입니다\n"
     ]
    }
   ],
   "source": [
    "# var = input(\"입력 전 출력내용\")\n",
    "a = input(\"너는 이름이 뭐니?\") # a 라는 변수에 입력전 출력내용인 너는 이름이 뭐니? 가 출력되고\n",
    "# 답을 입력하면 a에 그 값을 대입\n",
    "print(\"이름이\",a,\"입니다\") # 위에 대입한 값을 a 에서 출력\n",
    "b = input(\"너는 몇 살이니?\") # b 라는 변수에 입력전 출력내용인 너는 몇 살이니? 가 출력되고\n",
    "# 답을 입력하면 b에 그 값을 대입\n",
    "print(\"나이가\",b,\"살 입니다\") # 위에 대입한 값을 b 에서 출력"
   ]
  },
  {
   "cell_type": "code",
   "execution_count": 28,
   "id": "3a9469de",
   "metadata": {},
   "outputs": [
    {
     "name": "stdout",
     "output_type": "stream",
     "text": [
      "a값을 입력하셔요?1\n",
      "b값을 입력하셔요?2\n",
      "1+2=12\n",
      "수치  계산 : 1+2=3\n"
     ]
    }
   ],
   "source": [
    "a= input(\"a값을 입력하셔요?\")  # a 라는 변수에 입력전 출력내용인 a값을 입력하셔요? 가 출력되고\n",
    "# 답을 입력하면 a에 그 값을 대입\n",
    "b= input(\"b값을 입력하셔요?\") # b 라는 변수에 입력전 출력내용인 b값을 입력하셔요? 가 출력되고\n",
    "# 답을 입력하면 b에 그 값을 대입\n",
    "print(a,b, sep=\"+\" ,end=\"=\") # a, b 중간에 + , 끝에 = 을 출력\n",
    "print(a+b) # 결과값 12 문자형으로 받아서 결과가 12가 나옴\n",
    "print(\"수치  계산\", end =\" : \") # 수치 계산 뒤에 콜론 까지 출력\n",
    "print(a,b, sep=\"+\" ,end=\"=\") # a, b 중간에 + , 끝에 = 을 출력\n",
    "print(int(a)+int(b)) # 결과값 3 int를 사용하여 계산이 가능함"
   ]
  },
  {
   "cell_type": "code",
   "execution_count": 29,
   "id": "2ed6f063",
   "metadata": {},
   "outputs": [
    {
     "name": "stdout",
     "output_type": "stream",
     "text": [
      "품목?꼬북칩\n",
      "수량?10\n",
      "단가?3000\n",
      "꼬북칩  :  10 개 *  3000 원 = 총  30000 원\n"
     ]
    }
   ],
   "source": [
    "a= input(\"품목?\") # a 라는 변수에 입력전 출력내용인 품목? 이 출력되고 답을 입력하면 a에 그 값을 대입\n",
    "b=int(input(\"수량?\")) # b 라는 변수에 입력전 출력내용인 수량? 이 출력되고 답을 입력하면 b에 그 값을 대입\n",
    "c=int(input(\"단가?\")) # c 라는 변수에 입력전 출력내용인 단가? 가 출력되고 답을 입력하면 c에 그 값을 대입\n",
    "print(a, \" : \",b,\"개 * \",c,\"원 = 총 \", b*c, \"원\") # 품목 : 수량 개 * 단가 원 = 총 계산값 원 이 출력"
   ]
  },
  {
   "cell_type": "code",
   "execution_count": 2,
   "id": "7bd952e7",
   "metadata": {},
   "outputs": [
    {
     "name": "stdout",
     "output_type": "stream",
     "text": [
      "품목?빠새\n",
      "수량?5\n",
      "단가?1500\n",
      "빠새  :  5 개 *  1500 원 = 총  7500 원\n"
     ]
    }
   ],
   "source": [
    "a= input(\"품목?\") # 문자형으로 입력됨 \n",
    "b=int(input(\"수량?\")) # 문자형 입력을 숫자형으로 변환 \n",
    "c=int(input(\"단가?\")) # 문자형 입력을 숫자형으로 변환 \n",
    "print(a, \" : \",b,\"개 * \",c,\"원 = 총 \", b*c, \"원\") # 변수 a에 입력한 값과 콜론을 출력\n",
    "# b에 입력한 값과 개 * 을 출력, c에 입력한 값과 원 = 총 을 출력\n",
    "# b*c를 계산한 값을 출력 마지막으로 원을 출력"
   ]
  },
  {
   "cell_type": "code",
   "execution_count": 3,
   "id": "3f0cce0a",
   "metadata": {},
   "outputs": [
    {
     "name": "stdout",
     "output_type": "stream",
     "text": [
      "1\n",
      "2\n",
      "3\n",
      "2\n"
     ]
    }
   ],
   "source": [
    "# 변수에 값을 저장해서 넣어둘 수 있음 // 변수 내에 값을 배정, 지정(Assignment)하는 개념임\n",
    "a=1 # a라는 변수에 1이라는 값을 대입\n",
    "print(a) # 결과값 1 위의 a를 출력\n",
    "a=2 # a라는 변수에 2라는 값을 대입\n",
    "print(a) #최종적으로 a에 저장된 값은 2 결과값 2\n",
    "b=3 # b라는 변수에 3이라는 값을 대입\n",
    "print(b) # b에 들어있는 3을 출력 결과값 : 3\n",
    "print(a) #앞에서 a에 2가 저장되어 있음 "
   ]
  },
  {
   "cell_type": "code",
   "execution_count": 8,
   "id": "18d80838",
   "metadata": {},
   "outputs": [
    {
     "name": "stdout",
     "output_type": "stream",
     "text": [
      "1122\n",
      "<class 'int'>\n",
      "hello\n",
      "<class 'str'>\n",
      "<class 'int'>\n"
     ]
    }
   ],
   "source": [
    "# type() : 변수의 형태를 나타내 주는 함수 // 변수에 값을 지정할 때 형태가 결정됨(파이썬특징)\n",
    "a=1122;print(a);print(type(a)) # a라는 변수에 1122를 대입 a값을 출력, 변수 a의 형태를 출력\n",
    "b=\"hello\";print(b);print(type(b)) # b라는 변수에 hello라는 문자를 대입 후 b값을 출력, 변수 b의 형태를 출력\n",
    "b=12 # 변수 b에 12라는 정수값을 대입\n",
    "print(type(b)) # 변수 b의 형태를 확인 int로 바뀐 것을 알 수 있음"
   ]
  },
  {
   "cell_type": "code",
   "execution_count": 9,
   "id": "ae803b46",
   "metadata": {},
   "outputs": [
    {
     "name": "stdout",
     "output_type": "stream",
     "text": [
      "1122\n",
      "<class 'int'>\n",
      "11\n"
     ]
    },
    {
     "ename": "NameError",
     "evalue": "name 'a' is not defined",
     "output_type": "error",
     "traceback": [
      "\u001b[1;31m---------------------------------------------------------------------------\u001b[0m",
      "\u001b[1;31mNameError\u001b[0m                                 Traceback (most recent call last)",
      "Input \u001b[1;32mIn [9]\u001b[0m, in \u001b[0;36m<cell line: 4>\u001b[1;34m()\u001b[0m\n\u001b[0;32m      2\u001b[0m a\u001b[38;5;241m=\u001b[39m\u001b[38;5;241m11\u001b[39m;\u001b[38;5;28mprint\u001b[39m(a) \u001b[38;5;66;03m#변수 a에 11값을 대입 a값을 출력 결과값 11\u001b[39;00m\n\u001b[0;32m      3\u001b[0m \u001b[38;5;28;01mdel\u001b[39;00m a \u001b[38;5;66;03m# a라는 변수를 삭제하여 변수의 메모리 공간을 반환\u001b[39;00m\n\u001b[1;32m----> 4\u001b[0m \u001b[38;5;28mprint\u001b[39m(\u001b[43ma\u001b[49m)\n",
      "\u001b[1;31mNameError\u001b[0m: name 'a' is not defined"
     ]
    }
   ],
   "source": [
    "a=1122;print(a);print(type(a)) # 변수 a에 1122값을 대입 a값을 출력 형태를 출력 결과값 1122, int\n",
    "a=11;print(a) #변수 a에 11값을 대입 a값을 출력 결과값 11\n",
    "del a # a라는 변수를 삭제하여 변수의 메모리 공간을 반환\n",
    "print(a) # a라는 변수를 지웠으므로 에러"
   ]
  },
  {
   "cell_type": "code",
   "execution_count": 11,
   "id": "9a2d320c",
   "metadata": {},
   "outputs": [
    {
     "name": "stdout",
     "output_type": "stream",
     "text": [
      "\n",
      "Welcome to Python 3.8's help utility!\n",
      "\n",
      "If this is your first time using Python, you should definitely check out\n",
      "the tutorial on the Internet at https://docs.python.org/3.8/tutorial/.\n",
      "\n",
      "Enter the name of any module, keyword, or topic to get help on writing\n",
      "Python programs and using Python modules.  To quit this help utility and\n",
      "return to the interpreter, just type \"quit\".\n",
      "\n",
      "To get a list of available modules, keywords, symbols, or topics, type\n",
      "\"modules\", \"keywords\", \"symbols\", or \"topics\".  Each module also comes\n",
      "with a one-line summary of what it does; to list the modules whose name\n",
      "or summary contain a given string such as \"spam\", type \"modules spam\".\n",
      "\n",
      "help> keywords\n",
      "\n",
      "Here is a list of the Python keywords.  Enter any keyword to get more help.\n",
      "\n",
      "False               class               from                or\n",
      "None                continue            global              pass\n",
      "True                def                 if                  raise\n",
      "and                 del                 import              return\n",
      "as                  elif                in                  try\n",
      "assert              else                is                  while\n",
      "async               except              lambda              with\n",
      "await               finally             nonlocal            yield\n",
      "break               for                 not                 \n",
      "\n",
      "\n",
      "You are now leaving help and returning to the Python interpreter.\n",
      "If you want to ask for help on a particular object directly from the\n",
      "interpreter, you can type \"help(object)\".  Executing \"help('string')\"\n",
      "has the same effect as typing a particular string at the help> prompt.\n"
     ]
    }
   ],
   "source": [
    "help()"
   ]
  },
  {
   "cell_type": "code",
   "execution_count": 13,
   "id": "bf5fd937",
   "metadata": {},
   "outputs": [
    {
     "name": "stdout",
     "output_type": "stream",
     "text": [
      "100000\n",
      "100000\n"
     ]
    }
   ],
   "source": [
    "# 변수의 명명법\n",
    "# 변수의 이름을 붙이는데 일정한 규칙이 있음\n",
    "# 먼저 파이썬에서 사용하는 단어(자바의 예약어)는 변수명으로 사용할 수 없음\n",
    "# 변수명은 앞으로 긴 프로그램을 구현할 때도 어떤 목적으로 사용한 것인지 알기 쉬운 이름으로 작성\n",
    "# 칸을 띄우면 변수명이 될 수 없음 (윈도우에서 파일 명은 칸을 띄어도 가능함)\n",
    "net = 100 ; qty = 1000; total =net * qty ;print (total) #변수명을 알기쉽게 작성\n",
    "단가=100; 수량 =1000; 총합= 단가 * 수량; print (총합) #관습적으로 한글 변수명을 사용하지 않음 (가능은 함)"
   ]
  },
  {
   "cell_type": "code",
   "execution_count": null,
   "id": "9caffec6",
   "metadata": {},
   "outputs": [],
   "source": []
  }
 ],
 "metadata": {
  "kernelspec": {
   "display_name": "Python 3 (ipykernel)",
   "language": "python",
   "name": "python3"
  },
  "language_info": {
   "codemirror_mode": {
    "name": "ipython",
    "version": 3
   },
   "file_extension": ".py",
   "mimetype": "text/x-python",
   "name": "python",
   "nbconvert_exporter": "python",
   "pygments_lexer": "ipython3",
   "version": "3.8.8rc1"
  }
 },
 "nbformat": 4,
 "nbformat_minor": 5
}
